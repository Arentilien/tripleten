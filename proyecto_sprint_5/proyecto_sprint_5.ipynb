{
 "cells": [
  {
   "cell_type": "markdown",
   "metadata": {
    "id": "3rYiDeEH0q0f"
   },
   "source": [
    "# ¿Cuál es la mejor tarifa?\n",
    "\n",
    "Trabajas como analista para el operador de telecomunicaciones Megaline. La empresa ofrece a sus clientes dos tarifas de prepago, Surf y Ultimate. El departamento comercial quiere saber cuál de las tarifas genera más ingresos para poder ajustar el presupuesto de publicidad.\n",
    "\n",
    "Vas a realizar un análisis preliminar de las tarifas basado en una selección de clientes relativamente pequeña. Tendrás los datos de 500 clientes de Megaline: quiénes son los clientes, de dónde son, qué tarifa usan, así como la cantidad de llamadas que hicieron y los mensajes de texto que enviaron en 2018. Tu trabajo es analizar el comportamiento de los clientes y determinar qué tarifa de prepago genera más ingresos."
   ]
  },
  {
   "cell_type": "markdown",
   "metadata": {
    "id": "VNddPNRQ0q0w"
   },
   "source": [
    "[Te proporcionamos algunos comentarios para orientarte mientras completas este proyecto. Pero debes asegurarte de eliminar todos los comentarios entre corchetes antes de entregar tu proyecto.]\n",
    "\n",
    "[Antes de sumergirte en el análisis de datos, explica por tu propia cuenta el propósito del proyecto y las acciones que planeas realizar.]\n",
    "\n",
    "[Ten en cuenta que estudiar, modificar y analizar datos es un proceso iterativo. Es normal volver a los pasos anteriores y corregirlos/ampliarlos para permitir nuevos pasos.]"
   ]
  },
  {
   "cell_type": "markdown",
   "metadata": {
    "id": "MQi4IPy70q0y"
   },
   "source": [
    "## Inicialización"
   ]
  },
  {
   "cell_type": "code",
   "execution_count": 1,
   "metadata": {
    "id": "MtYIuBxu0q0z"
   },
   "outputs": [],
   "source": [
    "import pandas as pd\n",
    "import numpy as np\n",
    "import plotly.express as px\n",
    "import matplotlib.pyplot as plt\n",
    "import seaborn as sns\n",
    "from math import factorial\n",
    "import scipy.stats as st \n",
    "import math\n",
    "\n"
   ]
  },
  {
   "cell_type": "markdown",
   "metadata": {
    "id": "4ysWWC5i0q00"
   },
   "source": [
    "## Cargar datos"
   ]
  },
  {
   "cell_type": "code",
   "execution_count": 2,
   "metadata": {
    "id": "CCqPW7rS0q01"
   },
   "outputs": [],
   "source": [
    "llamadas = pd.read_csv('megaline_calls.csv')\n",
    "internet = pd.read_csv('megaline_internet.csv')\n",
    "mensajes = pd.read_csv('megaline_messages.csv')\n",
    "tarifas = pd.read_csv('megaline_plans.csv')\n",
    "usuarios = pd.read_csv('megaline_users.csv')\n",
    "\n"
   ]
  },
  {
   "cell_type": "markdown",
   "metadata": {
    "id": "69qqoJ3r0q01"
   },
   "source": [
    "## Preparar los datos"
   ]
  },
  {
   "cell_type": "markdown",
   "metadata": {
    "id": "vUuZw80S0q01"
   },
   "source": [
    "[Los datos para este proyecto se dividen en varias tablas. Explora cada una para tener una comprensión inicial de los datos. Si es necesario, haz las correcciones requeridas en cada tabla.]"
   ]
  },
  {
   "cell_type": "markdown",
   "metadata": {
    "id": "ohBhimvH0q01"
   },
   "source": [
    "## Tarifas"
   ]
  },
  {
   "cell_type": "code",
   "execution_count": 3,
   "metadata": {
    "id": "GptqP3Q40q02"
   },
   "outputs": [
    {
     "name": "stdout",
     "output_type": "stream",
     "text": [
      "<class 'pandas.core.frame.DataFrame'>\n",
      "RangeIndex: 2 entries, 0 to 1\n",
      "Data columns (total 8 columns):\n",
      " #   Column                 Non-Null Count  Dtype  \n",
      "---  ------                 --------------  -----  \n",
      " 0   messages_included      2 non-null      int64  \n",
      " 1   mb_per_month_included  2 non-null      int64  \n",
      " 2   minutes_included       2 non-null      int64  \n",
      " 3   usd_monthly_pay        2 non-null      int64  \n",
      " 4   usd_per_gb             2 non-null      int64  \n",
      " 5   usd_per_message        2 non-null      float64\n",
      " 6   usd_per_minute         2 non-null      float64\n",
      " 7   plan_name              2 non-null      object \n",
      "dtypes: float64(2), int64(5), object(1)\n",
      "memory usage: 260.0+ bytes\n"
     ]
    }
   ],
   "source": [
    "tarifas.info()\n",
    "\n"
   ]
  },
  {
   "cell_type": "code",
   "execution_count": 4,
   "metadata": {
    "id": "64xzjwL70q02"
   },
   "outputs": [
    {
     "data": {
      "text/html": [
       "<div>\n",
       "<style scoped>\n",
       "    .dataframe tbody tr th:only-of-type {\n",
       "        vertical-align: middle;\n",
       "    }\n",
       "\n",
       "    .dataframe tbody tr th {\n",
       "        vertical-align: top;\n",
       "    }\n",
       "\n",
       "    .dataframe thead th {\n",
       "        text-align: right;\n",
       "    }\n",
       "</style>\n",
       "<table border=\"1\" class=\"dataframe\">\n",
       "  <thead>\n",
       "    <tr style=\"text-align: right;\">\n",
       "      <th></th>\n",
       "      <th>messages_included</th>\n",
       "      <th>mb_per_month_included</th>\n",
       "      <th>minutes_included</th>\n",
       "      <th>usd_monthly_pay</th>\n",
       "      <th>usd_per_gb</th>\n",
       "      <th>usd_per_message</th>\n",
       "      <th>usd_per_minute</th>\n",
       "      <th>plan_name</th>\n",
       "    </tr>\n",
       "  </thead>\n",
       "  <tbody>\n",
       "    <tr>\n",
       "      <th>0</th>\n",
       "      <td>50</td>\n",
       "      <td>15360</td>\n",
       "      <td>500</td>\n",
       "      <td>20</td>\n",
       "      <td>10</td>\n",
       "      <td>0.03</td>\n",
       "      <td>0.03</td>\n",
       "      <td>surf</td>\n",
       "    </tr>\n",
       "    <tr>\n",
       "      <th>1</th>\n",
       "      <td>1000</td>\n",
       "      <td>30720</td>\n",
       "      <td>3000</td>\n",
       "      <td>70</td>\n",
       "      <td>7</td>\n",
       "      <td>0.01</td>\n",
       "      <td>0.01</td>\n",
       "      <td>ultimate</td>\n",
       "    </tr>\n",
       "  </tbody>\n",
       "</table>\n",
       "</div>"
      ],
      "text/plain": [
       "   messages_included  mb_per_month_included  minutes_included  \\\n",
       "0                 50                  15360               500   \n",
       "1               1000                  30720              3000   \n",
       "\n",
       "   usd_monthly_pay  usd_per_gb  usd_per_message  usd_per_minute plan_name  \n",
       "0               20          10             0.03            0.03      surf  \n",
       "1               70           7             0.01            0.01  ultimate  "
      ]
     },
     "execution_count": 4,
     "metadata": {},
     "output_type": "execute_result"
    }
   ],
   "source": [
    "tarifas.head()\n",
    "\n"
   ]
  },
  {
   "cell_type": "markdown",
   "metadata": {
    "id": "mEc_3_hs0q02"
   },
   "source": [
    "Lo observado: el dato mb_per_month_included debe ser redondeado a Gigas, para que los datos estén de acuerdo a lo que el cliente usa, aquí el dato importante a saber es que para un gigabite se necesitan 1024 megabites, aquí no usaremos el sistema decimal para ser más precisos con la compañía."
   ]
  },
  {
   "cell_type": "markdown",
   "metadata": {
    "id": "R3C05i1l0q03"
   },
   "source": [
    "## Corregir datos"
   ]
  },
  {
   "cell_type": "markdown",
   "metadata": {
    "id": "bIi8StZI0q03"
   },
   "source": [
    "[Corrige los problemas obvios con los datos basándote en las observaciones iniciales.]"
   ]
  },
  {
   "cell_type": "code",
   "execution_count": 5,
   "metadata": {
    "id": "Y7SVmjGn0q03"
   },
   "outputs": [
    {
     "data": {
      "text/html": [
       "<div>\n",
       "<style scoped>\n",
       "    .dataframe tbody tr th:only-of-type {\n",
       "        vertical-align: middle;\n",
       "    }\n",
       "\n",
       "    .dataframe tbody tr th {\n",
       "        vertical-align: top;\n",
       "    }\n",
       "\n",
       "    .dataframe thead th {\n",
       "        text-align: right;\n",
       "    }\n",
       "</style>\n",
       "<table border=\"1\" class=\"dataframe\">\n",
       "  <thead>\n",
       "    <tr style=\"text-align: right;\">\n",
       "      <th></th>\n",
       "      <th>messages_included</th>\n",
       "      <th>mb_per_month_included</th>\n",
       "      <th>minutes_included</th>\n",
       "      <th>usd_monthly_pay</th>\n",
       "      <th>usd_per_gb</th>\n",
       "      <th>usd_per_message</th>\n",
       "      <th>usd_per_minute</th>\n",
       "      <th>plan_name</th>\n",
       "      <th>gb_per_month_included</th>\n",
       "    </tr>\n",
       "  </thead>\n",
       "  <tbody>\n",
       "    <tr>\n",
       "      <th>0</th>\n",
       "      <td>50</td>\n",
       "      <td>15360</td>\n",
       "      <td>500</td>\n",
       "      <td>20</td>\n",
       "      <td>10</td>\n",
       "      <td>0.03</td>\n",
       "      <td>0.03</td>\n",
       "      <td>surf</td>\n",
       "      <td>15</td>\n",
       "    </tr>\n",
       "    <tr>\n",
       "      <th>1</th>\n",
       "      <td>1000</td>\n",
       "      <td>30720</td>\n",
       "      <td>3000</td>\n",
       "      <td>70</td>\n",
       "      <td>7</td>\n",
       "      <td>0.01</td>\n",
       "      <td>0.01</td>\n",
       "      <td>ultimate</td>\n",
       "      <td>30</td>\n",
       "    </tr>\n",
       "  </tbody>\n",
       "</table>\n",
       "</div>"
      ],
      "text/plain": [
       "   messages_included  mb_per_month_included  minutes_included  \\\n",
       "0                 50                  15360               500   \n",
       "1               1000                  30720              3000   \n",
       "\n",
       "   usd_monthly_pay  usd_per_gb  usd_per_message  usd_per_minute plan_name  \\\n",
       "0               20          10             0.03            0.03      surf   \n",
       "1               70           7             0.01            0.01  ultimate   \n",
       "\n",
       "   gb_per_month_included  \n",
       "0                     15  \n",
       "1                     30  "
      ]
     },
     "execution_count": 5,
     "metadata": {},
     "output_type": "execute_result"
    }
   ],
   "source": [
    "tarifas['gb_per_month_included'] = tarifas['mb_per_month_included'] /1024\n",
    "tarifas['gb_per_month_included'] = tarifas['gb_per_month_included'].astype('int')\n",
    "tarifas.head()"
   ]
  },
  {
   "cell_type": "markdown",
   "metadata": {
    "id": "LJir7bml0q03"
   },
   "source": [
    "## Enriquecer los datos"
   ]
  },
  {
   "cell_type": "markdown",
   "metadata": {
    "id": "eqADpCfg0q04"
   },
   "source": [
    "Por el momento no hay nada que agregar"
   ]
  },
  {
   "cell_type": "markdown",
   "metadata": {
    "id": "1n2X6WXf0q04"
   },
   "source": [
    "## Usuarios/as"
   ]
  },
  {
   "cell_type": "code",
   "execution_count": 6,
   "metadata": {
    "id": "2NgjWFqx0q05"
   },
   "outputs": [
    {
     "name": "stdout",
     "output_type": "stream",
     "text": [
      "<class 'pandas.core.frame.DataFrame'>\n",
      "RangeIndex: 500 entries, 0 to 499\n",
      "Data columns (total 8 columns):\n",
      " #   Column      Non-Null Count  Dtype \n",
      "---  ------      --------------  ----- \n",
      " 0   user_id     500 non-null    int64 \n",
      " 1   first_name  500 non-null    object\n",
      " 2   last_name   500 non-null    object\n",
      " 3   age         500 non-null    int64 \n",
      " 4   city        500 non-null    object\n",
      " 5   reg_date    500 non-null    object\n",
      " 6   plan        500 non-null    object\n",
      " 7   churn_date  34 non-null     object\n",
      "dtypes: int64(2), object(6)\n",
      "memory usage: 31.4+ KB\n"
     ]
    }
   ],
   "source": [
    "usuarios.info()\n",
    "\n"
   ]
  },
  {
   "cell_type": "code",
   "execution_count": 7,
   "metadata": {
    "id": "1IN1L9uh0q05"
   },
   "outputs": [
    {
     "data": {
      "text/html": [
       "<div>\n",
       "<style scoped>\n",
       "    .dataframe tbody tr th:only-of-type {\n",
       "        vertical-align: middle;\n",
       "    }\n",
       "\n",
       "    .dataframe tbody tr th {\n",
       "        vertical-align: top;\n",
       "    }\n",
       "\n",
       "    .dataframe thead th {\n",
       "        text-align: right;\n",
       "    }\n",
       "</style>\n",
       "<table border=\"1\" class=\"dataframe\">\n",
       "  <thead>\n",
       "    <tr style=\"text-align: right;\">\n",
       "      <th></th>\n",
       "      <th>user_id</th>\n",
       "      <th>first_name</th>\n",
       "      <th>last_name</th>\n",
       "      <th>age</th>\n",
       "      <th>city</th>\n",
       "      <th>reg_date</th>\n",
       "      <th>plan</th>\n",
       "      <th>churn_date</th>\n",
       "    </tr>\n",
       "  </thead>\n",
       "  <tbody>\n",
       "    <tr>\n",
       "      <th>0</th>\n",
       "      <td>1000</td>\n",
       "      <td>Anamaria</td>\n",
       "      <td>Bauer</td>\n",
       "      <td>45</td>\n",
       "      <td>Atlanta-Sandy Springs-Roswell, GA MSA</td>\n",
       "      <td>2018-12-24</td>\n",
       "      <td>ultimate</td>\n",
       "      <td>NaN</td>\n",
       "    </tr>\n",
       "    <tr>\n",
       "      <th>1</th>\n",
       "      <td>1001</td>\n",
       "      <td>Mickey</td>\n",
       "      <td>Wilkerson</td>\n",
       "      <td>28</td>\n",
       "      <td>Seattle-Tacoma-Bellevue, WA MSA</td>\n",
       "      <td>2018-08-13</td>\n",
       "      <td>surf</td>\n",
       "      <td>NaN</td>\n",
       "    </tr>\n",
       "    <tr>\n",
       "      <th>2</th>\n",
       "      <td>1002</td>\n",
       "      <td>Carlee</td>\n",
       "      <td>Hoffman</td>\n",
       "      <td>36</td>\n",
       "      <td>Las Vegas-Henderson-Paradise, NV MSA</td>\n",
       "      <td>2018-10-21</td>\n",
       "      <td>surf</td>\n",
       "      <td>NaN</td>\n",
       "    </tr>\n",
       "    <tr>\n",
       "      <th>3</th>\n",
       "      <td>1003</td>\n",
       "      <td>Reynaldo</td>\n",
       "      <td>Jenkins</td>\n",
       "      <td>52</td>\n",
       "      <td>Tulsa, OK MSA</td>\n",
       "      <td>2018-01-28</td>\n",
       "      <td>surf</td>\n",
       "      <td>NaN</td>\n",
       "    </tr>\n",
       "    <tr>\n",
       "      <th>4</th>\n",
       "      <td>1004</td>\n",
       "      <td>Leonila</td>\n",
       "      <td>Thompson</td>\n",
       "      <td>40</td>\n",
       "      <td>Seattle-Tacoma-Bellevue, WA MSA</td>\n",
       "      <td>2018-05-23</td>\n",
       "      <td>surf</td>\n",
       "      <td>NaN</td>\n",
       "    </tr>\n",
       "    <tr>\n",
       "      <th>5</th>\n",
       "      <td>1005</td>\n",
       "      <td>Livia</td>\n",
       "      <td>Shields</td>\n",
       "      <td>31</td>\n",
       "      <td>Dallas-Fort Worth-Arlington, TX MSA</td>\n",
       "      <td>2018-11-29</td>\n",
       "      <td>surf</td>\n",
       "      <td>NaN</td>\n",
       "    </tr>\n",
       "    <tr>\n",
       "      <th>6</th>\n",
       "      <td>1006</td>\n",
       "      <td>Jesusa</td>\n",
       "      <td>Bradford</td>\n",
       "      <td>73</td>\n",
       "      <td>San Francisco-Oakland-Berkeley, CA MSA</td>\n",
       "      <td>2018-11-27</td>\n",
       "      <td>ultimate</td>\n",
       "      <td>2018-12-18</td>\n",
       "    </tr>\n",
       "    <tr>\n",
       "      <th>7</th>\n",
       "      <td>1007</td>\n",
       "      <td>Eusebio</td>\n",
       "      <td>Welch</td>\n",
       "      <td>42</td>\n",
       "      <td>Grand Rapids-Kentwood, MI MSA</td>\n",
       "      <td>2018-07-11</td>\n",
       "      <td>surf</td>\n",
       "      <td>NaN</td>\n",
       "    </tr>\n",
       "    <tr>\n",
       "      <th>8</th>\n",
       "      <td>1008</td>\n",
       "      <td>Emely</td>\n",
       "      <td>Hoffman</td>\n",
       "      <td>53</td>\n",
       "      <td>Orlando-Kissimmee-Sanford, FL MSA</td>\n",
       "      <td>2018-08-03</td>\n",
       "      <td>ultimate</td>\n",
       "      <td>NaN</td>\n",
       "    </tr>\n",
       "    <tr>\n",
       "      <th>9</th>\n",
       "      <td>1009</td>\n",
       "      <td>Gerry</td>\n",
       "      <td>Little</td>\n",
       "      <td>19</td>\n",
       "      <td>San Jose-Sunnyvale-Santa Clara, CA MSA</td>\n",
       "      <td>2018-04-22</td>\n",
       "      <td>surf</td>\n",
       "      <td>NaN</td>\n",
       "    </tr>\n",
       "    <tr>\n",
       "      <th>10</th>\n",
       "      <td>1010</td>\n",
       "      <td>Wilber</td>\n",
       "      <td>Blair</td>\n",
       "      <td>52</td>\n",
       "      <td>Dallas-Fort Worth-Arlington, TX MSA</td>\n",
       "      <td>2018-03-09</td>\n",
       "      <td>surf</td>\n",
       "      <td>NaN</td>\n",
       "    </tr>\n",
       "    <tr>\n",
       "      <th>11</th>\n",
       "      <td>1011</td>\n",
       "      <td>Halina</td>\n",
       "      <td>Henry</td>\n",
       "      <td>73</td>\n",
       "      <td>Cleveland-Elyria, OH MSA</td>\n",
       "      <td>2018-01-18</td>\n",
       "      <td>ultimate</td>\n",
       "      <td>NaN</td>\n",
       "    </tr>\n",
       "    <tr>\n",
       "      <th>12</th>\n",
       "      <td>1012</td>\n",
       "      <td>Jonelle</td>\n",
       "      <td>Mcbride</td>\n",
       "      <td>59</td>\n",
       "      <td>Chicago-Naperville-Elgin, IL-IN-WI MSA</td>\n",
       "      <td>2018-06-28</td>\n",
       "      <td>surf</td>\n",
       "      <td>2018-11-16</td>\n",
       "    </tr>\n",
       "    <tr>\n",
       "      <th>13</th>\n",
       "      <td>1013</td>\n",
       "      <td>Nicolas</td>\n",
       "      <td>Snider</td>\n",
       "      <td>50</td>\n",
       "      <td>Knoxville, TN MSA</td>\n",
       "      <td>2018-12-01</td>\n",
       "      <td>ultimate</td>\n",
       "      <td>NaN</td>\n",
       "    </tr>\n",
       "    <tr>\n",
       "      <th>14</th>\n",
       "      <td>1014</td>\n",
       "      <td>Edmundo</td>\n",
       "      <td>Simon</td>\n",
       "      <td>61</td>\n",
       "      <td>New York-Newark-Jersey City, NY-NJ-PA MSA</td>\n",
       "      <td>2018-11-25</td>\n",
       "      <td>surf</td>\n",
       "      <td>NaN</td>\n",
       "    </tr>\n",
       "    <tr>\n",
       "      <th>15</th>\n",
       "      <td>1015</td>\n",
       "      <td>Beata</td>\n",
       "      <td>Carpenter</td>\n",
       "      <td>26</td>\n",
       "      <td>Pittsburgh, PA MSA</td>\n",
       "      <td>2018-12-05</td>\n",
       "      <td>surf</td>\n",
       "      <td>NaN</td>\n",
       "    </tr>\n",
       "    <tr>\n",
       "      <th>16</th>\n",
       "      <td>1016</td>\n",
       "      <td>Jann</td>\n",
       "      <td>Salinas</td>\n",
       "      <td>30</td>\n",
       "      <td>Fresno, CA MSA</td>\n",
       "      <td>2018-10-25</td>\n",
       "      <td>surf</td>\n",
       "      <td>NaN</td>\n",
       "    </tr>\n",
       "    <tr>\n",
       "      <th>17</th>\n",
       "      <td>1017</td>\n",
       "      <td>Boris</td>\n",
       "      <td>Gates</td>\n",
       "      <td>61</td>\n",
       "      <td>Washington-Arlington-Alexandria, DC-VA-MD-WV MSA</td>\n",
       "      <td>2018-08-26</td>\n",
       "      <td>surf</td>\n",
       "      <td>NaN</td>\n",
       "    </tr>\n",
       "    <tr>\n",
       "      <th>18</th>\n",
       "      <td>1018</td>\n",
       "      <td>Dennis</td>\n",
       "      <td>Grimes</td>\n",
       "      <td>70</td>\n",
       "      <td>Indianapolis-Carmel-Anderson, IN MSA</td>\n",
       "      <td>2018-10-17</td>\n",
       "      <td>surf</td>\n",
       "      <td>NaN</td>\n",
       "    </tr>\n",
       "    <tr>\n",
       "      <th>19</th>\n",
       "      <td>1019</td>\n",
       "      <td>Shizue</td>\n",
       "      <td>Landry</td>\n",
       "      <td>34</td>\n",
       "      <td>Jacksonville, FL MSA</td>\n",
       "      <td>2018-01-16</td>\n",
       "      <td>surf</td>\n",
       "      <td>NaN</td>\n",
       "    </tr>\n",
       "    <tr>\n",
       "      <th>20</th>\n",
       "      <td>1020</td>\n",
       "      <td>Rutha</td>\n",
       "      <td>Bell</td>\n",
       "      <td>56</td>\n",
       "      <td>Dallas-Fort Worth-Arlington, TX MSA</td>\n",
       "      <td>2018-11-08</td>\n",
       "      <td>surf</td>\n",
       "      <td>NaN</td>\n",
       "    </tr>\n",
       "    <tr>\n",
       "      <th>21</th>\n",
       "      <td>1021</td>\n",
       "      <td>Ricarda</td>\n",
       "      <td>Booker</td>\n",
       "      <td>37</td>\n",
       "      <td>Los Angeles-Long Beach-Anaheim, CA MSA</td>\n",
       "      <td>2018-12-21</td>\n",
       "      <td>surf</td>\n",
       "      <td>NaN</td>\n",
       "    </tr>\n",
       "    <tr>\n",
       "      <th>22</th>\n",
       "      <td>1022</td>\n",
       "      <td>Bo</td>\n",
       "      <td>Snow</td>\n",
       "      <td>73</td>\n",
       "      <td>New York-Newark-Jersey City, NY-NJ-PA MSA</td>\n",
       "      <td>2018-04-20</td>\n",
       "      <td>surf</td>\n",
       "      <td>2018-09-07</td>\n",
       "    </tr>\n",
       "    <tr>\n",
       "      <th>23</th>\n",
       "      <td>1023</td>\n",
       "      <td>Jack</td>\n",
       "      <td>Delaney</td>\n",
       "      <td>70</td>\n",
       "      <td>Omaha-Council Bluffs, NE-IA MSA</td>\n",
       "      <td>2018-07-06</td>\n",
       "      <td>surf</td>\n",
       "      <td>NaN</td>\n",
       "    </tr>\n",
       "    <tr>\n",
       "      <th>24</th>\n",
       "      <td>1024</td>\n",
       "      <td>Yuki</td>\n",
       "      <td>Tyson</td>\n",
       "      <td>74</td>\n",
       "      <td>New York-Newark-Jersey City, NY-NJ-PA MSA</td>\n",
       "      <td>2018-08-21</td>\n",
       "      <td>surf</td>\n",
       "      <td>NaN</td>\n",
       "    </tr>\n",
       "    <tr>\n",
       "      <th>25</th>\n",
       "      <td>1025</td>\n",
       "      <td>Jess</td>\n",
       "      <td>Wilkinson</td>\n",
       "      <td>64</td>\n",
       "      <td>Atlanta-Sandy Springs-Roswell, GA MSA</td>\n",
       "      <td>2018-10-28</td>\n",
       "      <td>ultimate</td>\n",
       "      <td>NaN</td>\n",
       "    </tr>\n",
       "    <tr>\n",
       "      <th>26</th>\n",
       "      <td>1026</td>\n",
       "      <td>Meggan</td>\n",
       "      <td>Hamilton</td>\n",
       "      <td>49</td>\n",
       "      <td>Houston-The Woodlands-Sugar Land, TX MSA</td>\n",
       "      <td>2018-07-20</td>\n",
       "      <td>ultimate</td>\n",
       "      <td>NaN</td>\n",
       "    </tr>\n",
       "    <tr>\n",
       "      <th>27</th>\n",
       "      <td>1027</td>\n",
       "      <td>Georgeanna</td>\n",
       "      <td>Cardenas</td>\n",
       "      <td>38</td>\n",
       "      <td>New York-Newark-Jersey City, NY-NJ-PA MSA</td>\n",
       "      <td>2018-06-26</td>\n",
       "      <td>surf</td>\n",
       "      <td>NaN</td>\n",
       "    </tr>\n",
       "    <tr>\n",
       "      <th>28</th>\n",
       "      <td>1028</td>\n",
       "      <td>Jefferey</td>\n",
       "      <td>Rasmussen</td>\n",
       "      <td>57</td>\n",
       "      <td>Philadelphia-Camden-Wilmington, PA-NJ-DE-MD MSA</td>\n",
       "      <td>2018-02-21</td>\n",
       "      <td>ultimate</td>\n",
       "      <td>NaN</td>\n",
       "    </tr>\n",
       "    <tr>\n",
       "      <th>29</th>\n",
       "      <td>1029</td>\n",
       "      <td>Franklyn</td>\n",
       "      <td>Henson</td>\n",
       "      <td>59</td>\n",
       "      <td>Tampa-St. Petersburg-Clearwater, FL MSA</td>\n",
       "      <td>2018-01-05</td>\n",
       "      <td>surf</td>\n",
       "      <td>NaN</td>\n",
       "    </tr>\n",
       "  </tbody>\n",
       "</table>\n",
       "</div>"
      ],
      "text/plain": [
       "    user_id  first_name  last_name  age  \\\n",
       "0      1000    Anamaria      Bauer   45   \n",
       "1      1001      Mickey  Wilkerson   28   \n",
       "2      1002      Carlee    Hoffman   36   \n",
       "3      1003    Reynaldo    Jenkins   52   \n",
       "4      1004     Leonila   Thompson   40   \n",
       "5      1005       Livia    Shields   31   \n",
       "6      1006      Jesusa   Bradford   73   \n",
       "7      1007     Eusebio      Welch   42   \n",
       "8      1008       Emely    Hoffman   53   \n",
       "9      1009       Gerry     Little   19   \n",
       "10     1010      Wilber      Blair   52   \n",
       "11     1011      Halina      Henry   73   \n",
       "12     1012     Jonelle    Mcbride   59   \n",
       "13     1013     Nicolas     Snider   50   \n",
       "14     1014     Edmundo      Simon   61   \n",
       "15     1015       Beata  Carpenter   26   \n",
       "16     1016        Jann    Salinas   30   \n",
       "17     1017       Boris      Gates   61   \n",
       "18     1018      Dennis     Grimes   70   \n",
       "19     1019      Shizue     Landry   34   \n",
       "20     1020       Rutha       Bell   56   \n",
       "21     1021     Ricarda     Booker   37   \n",
       "22     1022          Bo       Snow   73   \n",
       "23     1023        Jack    Delaney   70   \n",
       "24     1024        Yuki      Tyson   74   \n",
       "25     1025        Jess  Wilkinson   64   \n",
       "26     1026      Meggan   Hamilton   49   \n",
       "27     1027  Georgeanna   Cardenas   38   \n",
       "28     1028    Jefferey  Rasmussen   57   \n",
       "29     1029    Franklyn     Henson   59   \n",
       "\n",
       "                                                city    reg_date      plan  \\\n",
       "0              Atlanta-Sandy Springs-Roswell, GA MSA  2018-12-24  ultimate   \n",
       "1                    Seattle-Tacoma-Bellevue, WA MSA  2018-08-13      surf   \n",
       "2               Las Vegas-Henderson-Paradise, NV MSA  2018-10-21      surf   \n",
       "3                                      Tulsa, OK MSA  2018-01-28      surf   \n",
       "4                    Seattle-Tacoma-Bellevue, WA MSA  2018-05-23      surf   \n",
       "5                Dallas-Fort Worth-Arlington, TX MSA  2018-11-29      surf   \n",
       "6             San Francisco-Oakland-Berkeley, CA MSA  2018-11-27  ultimate   \n",
       "7                      Grand Rapids-Kentwood, MI MSA  2018-07-11      surf   \n",
       "8                  Orlando-Kissimmee-Sanford, FL MSA  2018-08-03  ultimate   \n",
       "9             San Jose-Sunnyvale-Santa Clara, CA MSA  2018-04-22      surf   \n",
       "10               Dallas-Fort Worth-Arlington, TX MSA  2018-03-09      surf   \n",
       "11                          Cleveland-Elyria, OH MSA  2018-01-18  ultimate   \n",
       "12            Chicago-Naperville-Elgin, IL-IN-WI MSA  2018-06-28      surf   \n",
       "13                                 Knoxville, TN MSA  2018-12-01  ultimate   \n",
       "14         New York-Newark-Jersey City, NY-NJ-PA MSA  2018-11-25      surf   \n",
       "15                                Pittsburgh, PA MSA  2018-12-05      surf   \n",
       "16                                    Fresno, CA MSA  2018-10-25      surf   \n",
       "17  Washington-Arlington-Alexandria, DC-VA-MD-WV MSA  2018-08-26      surf   \n",
       "18              Indianapolis-Carmel-Anderson, IN MSA  2018-10-17      surf   \n",
       "19                              Jacksonville, FL MSA  2018-01-16      surf   \n",
       "20               Dallas-Fort Worth-Arlington, TX MSA  2018-11-08      surf   \n",
       "21            Los Angeles-Long Beach-Anaheim, CA MSA  2018-12-21      surf   \n",
       "22         New York-Newark-Jersey City, NY-NJ-PA MSA  2018-04-20      surf   \n",
       "23                   Omaha-Council Bluffs, NE-IA MSA  2018-07-06      surf   \n",
       "24         New York-Newark-Jersey City, NY-NJ-PA MSA  2018-08-21      surf   \n",
       "25             Atlanta-Sandy Springs-Roswell, GA MSA  2018-10-28  ultimate   \n",
       "26          Houston-The Woodlands-Sugar Land, TX MSA  2018-07-20  ultimate   \n",
       "27         New York-Newark-Jersey City, NY-NJ-PA MSA  2018-06-26      surf   \n",
       "28   Philadelphia-Camden-Wilmington, PA-NJ-DE-MD MSA  2018-02-21  ultimate   \n",
       "29           Tampa-St. Petersburg-Clearwater, FL MSA  2018-01-05      surf   \n",
       "\n",
       "    churn_date  \n",
       "0          NaN  \n",
       "1          NaN  \n",
       "2          NaN  \n",
       "3          NaN  \n",
       "4          NaN  \n",
       "5          NaN  \n",
       "6   2018-12-18  \n",
       "7          NaN  \n",
       "8          NaN  \n",
       "9          NaN  \n",
       "10         NaN  \n",
       "11         NaN  \n",
       "12  2018-11-16  \n",
       "13         NaN  \n",
       "14         NaN  \n",
       "15         NaN  \n",
       "16         NaN  \n",
       "17         NaN  \n",
       "18         NaN  \n",
       "19         NaN  \n",
       "20         NaN  \n",
       "21         NaN  \n",
       "22  2018-09-07  \n",
       "23         NaN  \n",
       "24         NaN  \n",
       "25         NaN  \n",
       "26         NaN  \n",
       "27         NaN  \n",
       "28         NaN  \n",
       "29         NaN  "
      ]
     },
     "execution_count": 7,
     "metadata": {},
     "output_type": "execute_result"
    }
   ],
   "source": [
    "usuarios.head(30)\n",
    "\n",
    "# Imprime una muestra de datos para usuarios\n",
    "\n"
   ]
  },
  {
   "cell_type": "markdown",
   "metadata": {
    "id": "dCZoUq4f0q06"
   },
   "source": [
    "Los datos de manera general están bien, el problema que se ve es solamente en la columna \"churn_date\" dado que hay muchos usuarios que no tendrán esta fecha dado que siguen usando el plan, suponiendo que el criterio es \"tienen un plan contratado\", este valor se podría reemplazar de ser necesario por un valor específico dependiendo de la necesidad de la operación que tengamos que hacer, por lo pronto lo que se me haría prudente es colocar una señal de modo \"object\" que declare \"sigue con nosotros\" usando las iniciales \"PV\" diciendo que tienen un plan vigente."
   ]
  },
  {
   "cell_type": "markdown",
   "metadata": {
    "id": "BX5FQh_I0q06"
   },
   "source": [
    "### Corregir los datos"
   ]
  },
  {
   "cell_type": "markdown",
   "metadata": {
    "id": "8OdKMwJv0q06"
   },
   "source": [
    "[Corrige los problemas obvios con los datos basándote en las observaciones iniciales.]"
   ]
  },
  {
   "cell_type": "code",
   "execution_count": 8,
   "metadata": {
    "id": "yUqX-K0C0q07"
   },
   "outputs": [
    {
     "data": {
      "text/html": [
       "<div>\n",
       "<style scoped>\n",
       "    .dataframe tbody tr th:only-of-type {\n",
       "        vertical-align: middle;\n",
       "    }\n",
       "\n",
       "    .dataframe tbody tr th {\n",
       "        vertical-align: top;\n",
       "    }\n",
       "\n",
       "    .dataframe thead th {\n",
       "        text-align: right;\n",
       "    }\n",
       "</style>\n",
       "<table border=\"1\" class=\"dataframe\">\n",
       "  <thead>\n",
       "    <tr style=\"text-align: right;\">\n",
       "      <th></th>\n",
       "      <th>user_id</th>\n",
       "      <th>first_name</th>\n",
       "      <th>last_name</th>\n",
       "      <th>age</th>\n",
       "      <th>city</th>\n",
       "      <th>reg_date</th>\n",
       "      <th>plan</th>\n",
       "      <th>churn_date</th>\n",
       "    </tr>\n",
       "  </thead>\n",
       "  <tbody>\n",
       "    <tr>\n",
       "      <th>0</th>\n",
       "      <td>1000</td>\n",
       "      <td>Anamaria</td>\n",
       "      <td>Bauer</td>\n",
       "      <td>45</td>\n",
       "      <td>Atlanta-Sandy Springs-Roswell, GA MSA</td>\n",
       "      <td>2018-12-24</td>\n",
       "      <td>ultimate</td>\n",
       "      <td>pv</td>\n",
       "    </tr>\n",
       "    <tr>\n",
       "      <th>1</th>\n",
       "      <td>1001</td>\n",
       "      <td>Mickey</td>\n",
       "      <td>Wilkerson</td>\n",
       "      <td>28</td>\n",
       "      <td>Seattle-Tacoma-Bellevue, WA MSA</td>\n",
       "      <td>2018-08-13</td>\n",
       "      <td>surf</td>\n",
       "      <td>pv</td>\n",
       "    </tr>\n",
       "    <tr>\n",
       "      <th>2</th>\n",
       "      <td>1002</td>\n",
       "      <td>Carlee</td>\n",
       "      <td>Hoffman</td>\n",
       "      <td>36</td>\n",
       "      <td>Las Vegas-Henderson-Paradise, NV MSA</td>\n",
       "      <td>2018-10-21</td>\n",
       "      <td>surf</td>\n",
       "      <td>pv</td>\n",
       "    </tr>\n",
       "    <tr>\n",
       "      <th>3</th>\n",
       "      <td>1003</td>\n",
       "      <td>Reynaldo</td>\n",
       "      <td>Jenkins</td>\n",
       "      <td>52</td>\n",
       "      <td>Tulsa, OK MSA</td>\n",
       "      <td>2018-01-28</td>\n",
       "      <td>surf</td>\n",
       "      <td>pv</td>\n",
       "    </tr>\n",
       "    <tr>\n",
       "      <th>4</th>\n",
       "      <td>1004</td>\n",
       "      <td>Leonila</td>\n",
       "      <td>Thompson</td>\n",
       "      <td>40</td>\n",
       "      <td>Seattle-Tacoma-Bellevue, WA MSA</td>\n",
       "      <td>2018-05-23</td>\n",
       "      <td>surf</td>\n",
       "      <td>pv</td>\n",
       "    </tr>\n",
       "    <tr>\n",
       "      <th>5</th>\n",
       "      <td>1005</td>\n",
       "      <td>Livia</td>\n",
       "      <td>Shields</td>\n",
       "      <td>31</td>\n",
       "      <td>Dallas-Fort Worth-Arlington, TX MSA</td>\n",
       "      <td>2018-11-29</td>\n",
       "      <td>surf</td>\n",
       "      <td>pv</td>\n",
       "    </tr>\n",
       "    <tr>\n",
       "      <th>6</th>\n",
       "      <td>1006</td>\n",
       "      <td>Jesusa</td>\n",
       "      <td>Bradford</td>\n",
       "      <td>73</td>\n",
       "      <td>San Francisco-Oakland-Berkeley, CA MSA</td>\n",
       "      <td>2018-11-27</td>\n",
       "      <td>ultimate</td>\n",
       "      <td>2018-12-18</td>\n",
       "    </tr>\n",
       "    <tr>\n",
       "      <th>7</th>\n",
       "      <td>1007</td>\n",
       "      <td>Eusebio</td>\n",
       "      <td>Welch</td>\n",
       "      <td>42</td>\n",
       "      <td>Grand Rapids-Kentwood, MI MSA</td>\n",
       "      <td>2018-07-11</td>\n",
       "      <td>surf</td>\n",
       "      <td>pv</td>\n",
       "    </tr>\n",
       "    <tr>\n",
       "      <th>8</th>\n",
       "      <td>1008</td>\n",
       "      <td>Emely</td>\n",
       "      <td>Hoffman</td>\n",
       "      <td>53</td>\n",
       "      <td>Orlando-Kissimmee-Sanford, FL MSA</td>\n",
       "      <td>2018-08-03</td>\n",
       "      <td>ultimate</td>\n",
       "      <td>pv</td>\n",
       "    </tr>\n",
       "    <tr>\n",
       "      <th>9</th>\n",
       "      <td>1009</td>\n",
       "      <td>Gerry</td>\n",
       "      <td>Little</td>\n",
       "      <td>19</td>\n",
       "      <td>San Jose-Sunnyvale-Santa Clara, CA MSA</td>\n",
       "      <td>2018-04-22</td>\n",
       "      <td>surf</td>\n",
       "      <td>pv</td>\n",
       "    </tr>\n",
       "    <tr>\n",
       "      <th>10</th>\n",
       "      <td>1010</td>\n",
       "      <td>Wilber</td>\n",
       "      <td>Blair</td>\n",
       "      <td>52</td>\n",
       "      <td>Dallas-Fort Worth-Arlington, TX MSA</td>\n",
       "      <td>2018-03-09</td>\n",
       "      <td>surf</td>\n",
       "      <td>pv</td>\n",
       "    </tr>\n",
       "    <tr>\n",
       "      <th>11</th>\n",
       "      <td>1011</td>\n",
       "      <td>Halina</td>\n",
       "      <td>Henry</td>\n",
       "      <td>73</td>\n",
       "      <td>Cleveland-Elyria, OH MSA</td>\n",
       "      <td>2018-01-18</td>\n",
       "      <td>ultimate</td>\n",
       "      <td>pv</td>\n",
       "    </tr>\n",
       "    <tr>\n",
       "      <th>12</th>\n",
       "      <td>1012</td>\n",
       "      <td>Jonelle</td>\n",
       "      <td>Mcbride</td>\n",
       "      <td>59</td>\n",
       "      <td>Chicago-Naperville-Elgin, IL-IN-WI MSA</td>\n",
       "      <td>2018-06-28</td>\n",
       "      <td>surf</td>\n",
       "      <td>2018-11-16</td>\n",
       "    </tr>\n",
       "    <tr>\n",
       "      <th>13</th>\n",
       "      <td>1013</td>\n",
       "      <td>Nicolas</td>\n",
       "      <td>Snider</td>\n",
       "      <td>50</td>\n",
       "      <td>Knoxville, TN MSA</td>\n",
       "      <td>2018-12-01</td>\n",
       "      <td>ultimate</td>\n",
       "      <td>pv</td>\n",
       "    </tr>\n",
       "    <tr>\n",
       "      <th>14</th>\n",
       "      <td>1014</td>\n",
       "      <td>Edmundo</td>\n",
       "      <td>Simon</td>\n",
       "      <td>61</td>\n",
       "      <td>New York-Newark-Jersey City, NY-NJ-PA MSA</td>\n",
       "      <td>2018-11-25</td>\n",
       "      <td>surf</td>\n",
       "      <td>pv</td>\n",
       "    </tr>\n",
       "    <tr>\n",
       "      <th>15</th>\n",
       "      <td>1015</td>\n",
       "      <td>Beata</td>\n",
       "      <td>Carpenter</td>\n",
       "      <td>26</td>\n",
       "      <td>Pittsburgh, PA MSA</td>\n",
       "      <td>2018-12-05</td>\n",
       "      <td>surf</td>\n",
       "      <td>pv</td>\n",
       "    </tr>\n",
       "    <tr>\n",
       "      <th>16</th>\n",
       "      <td>1016</td>\n",
       "      <td>Jann</td>\n",
       "      <td>Salinas</td>\n",
       "      <td>30</td>\n",
       "      <td>Fresno, CA MSA</td>\n",
       "      <td>2018-10-25</td>\n",
       "      <td>surf</td>\n",
       "      <td>pv</td>\n",
       "    </tr>\n",
       "    <tr>\n",
       "      <th>17</th>\n",
       "      <td>1017</td>\n",
       "      <td>Boris</td>\n",
       "      <td>Gates</td>\n",
       "      <td>61</td>\n",
       "      <td>Washington-Arlington-Alexandria, DC-VA-MD-WV MSA</td>\n",
       "      <td>2018-08-26</td>\n",
       "      <td>surf</td>\n",
       "      <td>pv</td>\n",
       "    </tr>\n",
       "    <tr>\n",
       "      <th>18</th>\n",
       "      <td>1018</td>\n",
       "      <td>Dennis</td>\n",
       "      <td>Grimes</td>\n",
       "      <td>70</td>\n",
       "      <td>Indianapolis-Carmel-Anderson, IN MSA</td>\n",
       "      <td>2018-10-17</td>\n",
       "      <td>surf</td>\n",
       "      <td>pv</td>\n",
       "    </tr>\n",
       "    <tr>\n",
       "      <th>19</th>\n",
       "      <td>1019</td>\n",
       "      <td>Shizue</td>\n",
       "      <td>Landry</td>\n",
       "      <td>34</td>\n",
       "      <td>Jacksonville, FL MSA</td>\n",
       "      <td>2018-01-16</td>\n",
       "      <td>surf</td>\n",
       "      <td>pv</td>\n",
       "    </tr>\n",
       "    <tr>\n",
       "      <th>20</th>\n",
       "      <td>1020</td>\n",
       "      <td>Rutha</td>\n",
       "      <td>Bell</td>\n",
       "      <td>56</td>\n",
       "      <td>Dallas-Fort Worth-Arlington, TX MSA</td>\n",
       "      <td>2018-11-08</td>\n",
       "      <td>surf</td>\n",
       "      <td>pv</td>\n",
       "    </tr>\n",
       "    <tr>\n",
       "      <th>21</th>\n",
       "      <td>1021</td>\n",
       "      <td>Ricarda</td>\n",
       "      <td>Booker</td>\n",
       "      <td>37</td>\n",
       "      <td>Los Angeles-Long Beach-Anaheim, CA MSA</td>\n",
       "      <td>2018-12-21</td>\n",
       "      <td>surf</td>\n",
       "      <td>pv</td>\n",
       "    </tr>\n",
       "    <tr>\n",
       "      <th>22</th>\n",
       "      <td>1022</td>\n",
       "      <td>Bo</td>\n",
       "      <td>Snow</td>\n",
       "      <td>73</td>\n",
       "      <td>New York-Newark-Jersey City, NY-NJ-PA MSA</td>\n",
       "      <td>2018-04-20</td>\n",
       "      <td>surf</td>\n",
       "      <td>2018-09-07</td>\n",
       "    </tr>\n",
       "    <tr>\n",
       "      <th>23</th>\n",
       "      <td>1023</td>\n",
       "      <td>Jack</td>\n",
       "      <td>Delaney</td>\n",
       "      <td>70</td>\n",
       "      <td>Omaha-Council Bluffs, NE-IA MSA</td>\n",
       "      <td>2018-07-06</td>\n",
       "      <td>surf</td>\n",
       "      <td>pv</td>\n",
       "    </tr>\n",
       "    <tr>\n",
       "      <th>24</th>\n",
       "      <td>1024</td>\n",
       "      <td>Yuki</td>\n",
       "      <td>Tyson</td>\n",
       "      <td>74</td>\n",
       "      <td>New York-Newark-Jersey City, NY-NJ-PA MSA</td>\n",
       "      <td>2018-08-21</td>\n",
       "      <td>surf</td>\n",
       "      <td>pv</td>\n",
       "    </tr>\n",
       "    <tr>\n",
       "      <th>25</th>\n",
       "      <td>1025</td>\n",
       "      <td>Jess</td>\n",
       "      <td>Wilkinson</td>\n",
       "      <td>64</td>\n",
       "      <td>Atlanta-Sandy Springs-Roswell, GA MSA</td>\n",
       "      <td>2018-10-28</td>\n",
       "      <td>ultimate</td>\n",
       "      <td>pv</td>\n",
       "    </tr>\n",
       "    <tr>\n",
       "      <th>26</th>\n",
       "      <td>1026</td>\n",
       "      <td>Meggan</td>\n",
       "      <td>Hamilton</td>\n",
       "      <td>49</td>\n",
       "      <td>Houston-The Woodlands-Sugar Land, TX MSA</td>\n",
       "      <td>2018-07-20</td>\n",
       "      <td>ultimate</td>\n",
       "      <td>pv</td>\n",
       "    </tr>\n",
       "    <tr>\n",
       "      <th>27</th>\n",
       "      <td>1027</td>\n",
       "      <td>Georgeanna</td>\n",
       "      <td>Cardenas</td>\n",
       "      <td>38</td>\n",
       "      <td>New York-Newark-Jersey City, NY-NJ-PA MSA</td>\n",
       "      <td>2018-06-26</td>\n",
       "      <td>surf</td>\n",
       "      <td>pv</td>\n",
       "    </tr>\n",
       "    <tr>\n",
       "      <th>28</th>\n",
       "      <td>1028</td>\n",
       "      <td>Jefferey</td>\n",
       "      <td>Rasmussen</td>\n",
       "      <td>57</td>\n",
       "      <td>Philadelphia-Camden-Wilmington, PA-NJ-DE-MD MSA</td>\n",
       "      <td>2018-02-21</td>\n",
       "      <td>ultimate</td>\n",
       "      <td>pv</td>\n",
       "    </tr>\n",
       "    <tr>\n",
       "      <th>29</th>\n",
       "      <td>1029</td>\n",
       "      <td>Franklyn</td>\n",
       "      <td>Henson</td>\n",
       "      <td>59</td>\n",
       "      <td>Tampa-St. Petersburg-Clearwater, FL MSA</td>\n",
       "      <td>2018-01-05</td>\n",
       "      <td>surf</td>\n",
       "      <td>pv</td>\n",
       "    </tr>\n",
       "  </tbody>\n",
       "</table>\n",
       "</div>"
      ],
      "text/plain": [
       "    user_id  first_name  last_name  age  \\\n",
       "0      1000    Anamaria      Bauer   45   \n",
       "1      1001      Mickey  Wilkerson   28   \n",
       "2      1002      Carlee    Hoffman   36   \n",
       "3      1003    Reynaldo    Jenkins   52   \n",
       "4      1004     Leonila   Thompson   40   \n",
       "5      1005       Livia    Shields   31   \n",
       "6      1006      Jesusa   Bradford   73   \n",
       "7      1007     Eusebio      Welch   42   \n",
       "8      1008       Emely    Hoffman   53   \n",
       "9      1009       Gerry     Little   19   \n",
       "10     1010      Wilber      Blair   52   \n",
       "11     1011      Halina      Henry   73   \n",
       "12     1012     Jonelle    Mcbride   59   \n",
       "13     1013     Nicolas     Snider   50   \n",
       "14     1014     Edmundo      Simon   61   \n",
       "15     1015       Beata  Carpenter   26   \n",
       "16     1016        Jann    Salinas   30   \n",
       "17     1017       Boris      Gates   61   \n",
       "18     1018      Dennis     Grimes   70   \n",
       "19     1019      Shizue     Landry   34   \n",
       "20     1020       Rutha       Bell   56   \n",
       "21     1021     Ricarda     Booker   37   \n",
       "22     1022          Bo       Snow   73   \n",
       "23     1023        Jack    Delaney   70   \n",
       "24     1024        Yuki      Tyson   74   \n",
       "25     1025        Jess  Wilkinson   64   \n",
       "26     1026      Meggan   Hamilton   49   \n",
       "27     1027  Georgeanna   Cardenas   38   \n",
       "28     1028    Jefferey  Rasmussen   57   \n",
       "29     1029    Franklyn     Henson   59   \n",
       "\n",
       "                                                city    reg_date      plan  \\\n",
       "0              Atlanta-Sandy Springs-Roswell, GA MSA  2018-12-24  ultimate   \n",
       "1                    Seattle-Tacoma-Bellevue, WA MSA  2018-08-13      surf   \n",
       "2               Las Vegas-Henderson-Paradise, NV MSA  2018-10-21      surf   \n",
       "3                                      Tulsa, OK MSA  2018-01-28      surf   \n",
       "4                    Seattle-Tacoma-Bellevue, WA MSA  2018-05-23      surf   \n",
       "5                Dallas-Fort Worth-Arlington, TX MSA  2018-11-29      surf   \n",
       "6             San Francisco-Oakland-Berkeley, CA MSA  2018-11-27  ultimate   \n",
       "7                      Grand Rapids-Kentwood, MI MSA  2018-07-11      surf   \n",
       "8                  Orlando-Kissimmee-Sanford, FL MSA  2018-08-03  ultimate   \n",
       "9             San Jose-Sunnyvale-Santa Clara, CA MSA  2018-04-22      surf   \n",
       "10               Dallas-Fort Worth-Arlington, TX MSA  2018-03-09      surf   \n",
       "11                          Cleveland-Elyria, OH MSA  2018-01-18  ultimate   \n",
       "12            Chicago-Naperville-Elgin, IL-IN-WI MSA  2018-06-28      surf   \n",
       "13                                 Knoxville, TN MSA  2018-12-01  ultimate   \n",
       "14         New York-Newark-Jersey City, NY-NJ-PA MSA  2018-11-25      surf   \n",
       "15                                Pittsburgh, PA MSA  2018-12-05      surf   \n",
       "16                                    Fresno, CA MSA  2018-10-25      surf   \n",
       "17  Washington-Arlington-Alexandria, DC-VA-MD-WV MSA  2018-08-26      surf   \n",
       "18              Indianapolis-Carmel-Anderson, IN MSA  2018-10-17      surf   \n",
       "19                              Jacksonville, FL MSA  2018-01-16      surf   \n",
       "20               Dallas-Fort Worth-Arlington, TX MSA  2018-11-08      surf   \n",
       "21            Los Angeles-Long Beach-Anaheim, CA MSA  2018-12-21      surf   \n",
       "22         New York-Newark-Jersey City, NY-NJ-PA MSA  2018-04-20      surf   \n",
       "23                   Omaha-Council Bluffs, NE-IA MSA  2018-07-06      surf   \n",
       "24         New York-Newark-Jersey City, NY-NJ-PA MSA  2018-08-21      surf   \n",
       "25             Atlanta-Sandy Springs-Roswell, GA MSA  2018-10-28  ultimate   \n",
       "26          Houston-The Woodlands-Sugar Land, TX MSA  2018-07-20  ultimate   \n",
       "27         New York-Newark-Jersey City, NY-NJ-PA MSA  2018-06-26      surf   \n",
       "28   Philadelphia-Camden-Wilmington, PA-NJ-DE-MD MSA  2018-02-21  ultimate   \n",
       "29           Tampa-St. Petersburg-Clearwater, FL MSA  2018-01-05      surf   \n",
       "\n",
       "    churn_date  \n",
       "0           pv  \n",
       "1           pv  \n",
       "2           pv  \n",
       "3           pv  \n",
       "4           pv  \n",
       "5           pv  \n",
       "6   2018-12-18  \n",
       "7           pv  \n",
       "8           pv  \n",
       "9           pv  \n",
       "10          pv  \n",
       "11          pv  \n",
       "12  2018-11-16  \n",
       "13          pv  \n",
       "14          pv  \n",
       "15          pv  \n",
       "16          pv  \n",
       "17          pv  \n",
       "18          pv  \n",
       "19          pv  \n",
       "20          pv  \n",
       "21          pv  \n",
       "22  2018-09-07  \n",
       "23          pv  \n",
       "24          pv  \n",
       "25          pv  \n",
       "26          pv  \n",
       "27          pv  \n",
       "28          pv  \n",
       "29          pv  "
      ]
     },
     "execution_count": 8,
     "metadata": {},
     "output_type": "execute_result"
    }
   ],
   "source": [
    "usuarios['churn_date'] = usuarios['churn_date'].fillna('pv')\n",
    "usuarios.head(30)"
   ]
  },
  {
   "cell_type": "markdown",
   "metadata": {
    "id": "ycwuARJp0q07"
   },
   "source": [
    "### Enriquecer los datos"
   ]
  },
  {
   "cell_type": "markdown",
   "metadata": {
    "id": "96NIh4CJ0q08"
   },
   "source": [
    "Por el momento los datos no requieren de ser enriquecidos, pero sí necesito hacer la observación que aunque en los datos dados en las instrucciones del proyecto dicen que la fecha está en formato (dd, mm, aa) el formato en realidad es (aaaa, mm, dd), y aunque podríamos cambiarlo para que sea de acuerdo a lo que tenemos no hace cambio significativo, por otro lado otros DF tienen fecha en el mismo formato y sería una perdida de tiempo cambiarlos todos manualmente, si yo estuviera en una situación donde el cliente lo quisiera necesariamente en el formato (dd, mm, aa) lo cambiaría únicamente en los resultados para que los DF en el análisis coincidan, pero en el resultado esté como el cliente lo pida. Por esta misma razón mantendré en todos los DF el formato (aaaa, mm, dd)"
   ]
  },
  {
   "cell_type": "code",
   "execution_count": null,
   "metadata": {
    "id": "iq0AaBS90q08"
   },
   "outputs": [],
   "source": []
  },
  {
   "cell_type": "markdown",
   "metadata": {
    "id": "o7MeKCid0q08"
   },
   "source": [
    "## Llamadas"
   ]
  },
  {
   "cell_type": "code",
   "execution_count": 9,
   "metadata": {
    "id": "6dDlnoDm0q08"
   },
   "outputs": [
    {
     "name": "stdout",
     "output_type": "stream",
     "text": [
      "<class 'pandas.core.frame.DataFrame'>\n",
      "RangeIndex: 137735 entries, 0 to 137734\n",
      "Data columns (total 4 columns):\n",
      " #   Column     Non-Null Count   Dtype  \n",
      "---  ------     --------------   -----  \n",
      " 0   id         137735 non-null  object \n",
      " 1   user_id    137735 non-null  int64  \n",
      " 2   call_date  137735 non-null  object \n",
      " 3   duration   137735 non-null  float64\n",
      "dtypes: float64(1), int64(1), object(2)\n",
      "memory usage: 4.2+ MB\n"
     ]
    }
   ],
   "source": [
    "llamadas.info()\n",
    "\n"
   ]
  },
  {
   "cell_type": "code",
   "execution_count": 10,
   "metadata": {
    "id": "kuh1vlNB0q09"
   },
   "outputs": [
    {
     "data": {
      "text/html": [
       "<div>\n",
       "<style scoped>\n",
       "    .dataframe tbody tr th:only-of-type {\n",
       "        vertical-align: middle;\n",
       "    }\n",
       "\n",
       "    .dataframe tbody tr th {\n",
       "        vertical-align: top;\n",
       "    }\n",
       "\n",
       "    .dataframe thead th {\n",
       "        text-align: right;\n",
       "    }\n",
       "</style>\n",
       "<table border=\"1\" class=\"dataframe\">\n",
       "  <thead>\n",
       "    <tr style=\"text-align: right;\">\n",
       "      <th></th>\n",
       "      <th>id</th>\n",
       "      <th>user_id</th>\n",
       "      <th>call_date</th>\n",
       "      <th>duration</th>\n",
       "    </tr>\n",
       "  </thead>\n",
       "  <tbody>\n",
       "    <tr>\n",
       "      <th>0</th>\n",
       "      <td>1000_93</td>\n",
       "      <td>1000</td>\n",
       "      <td>2018-12-27</td>\n",
       "      <td>8.52</td>\n",
       "    </tr>\n",
       "    <tr>\n",
       "      <th>1</th>\n",
       "      <td>1000_145</td>\n",
       "      <td>1000</td>\n",
       "      <td>2018-12-27</td>\n",
       "      <td>13.66</td>\n",
       "    </tr>\n",
       "    <tr>\n",
       "      <th>2</th>\n",
       "      <td>1000_247</td>\n",
       "      <td>1000</td>\n",
       "      <td>2018-12-27</td>\n",
       "      <td>14.48</td>\n",
       "    </tr>\n",
       "    <tr>\n",
       "      <th>3</th>\n",
       "      <td>1000_309</td>\n",
       "      <td>1000</td>\n",
       "      <td>2018-12-28</td>\n",
       "      <td>5.76</td>\n",
       "    </tr>\n",
       "    <tr>\n",
       "      <th>4</th>\n",
       "      <td>1000_380</td>\n",
       "      <td>1000</td>\n",
       "      <td>2018-12-30</td>\n",
       "      <td>4.22</td>\n",
       "    </tr>\n",
       "    <tr>\n",
       "      <th>5</th>\n",
       "      <td>1000_388</td>\n",
       "      <td>1000</td>\n",
       "      <td>2018-12-31</td>\n",
       "      <td>2.20</td>\n",
       "    </tr>\n",
       "    <tr>\n",
       "      <th>6</th>\n",
       "      <td>1000_510</td>\n",
       "      <td>1000</td>\n",
       "      <td>2018-12-27</td>\n",
       "      <td>5.75</td>\n",
       "    </tr>\n",
       "    <tr>\n",
       "      <th>7</th>\n",
       "      <td>1000_521</td>\n",
       "      <td>1000</td>\n",
       "      <td>2018-12-28</td>\n",
       "      <td>14.18</td>\n",
       "    </tr>\n",
       "    <tr>\n",
       "      <th>8</th>\n",
       "      <td>1000_530</td>\n",
       "      <td>1000</td>\n",
       "      <td>2018-12-28</td>\n",
       "      <td>5.77</td>\n",
       "    </tr>\n",
       "    <tr>\n",
       "      <th>9</th>\n",
       "      <td>1000_544</td>\n",
       "      <td>1000</td>\n",
       "      <td>2018-12-26</td>\n",
       "      <td>4.40</td>\n",
       "    </tr>\n",
       "    <tr>\n",
       "      <th>10</th>\n",
       "      <td>1000_693</td>\n",
       "      <td>1000</td>\n",
       "      <td>2018-12-31</td>\n",
       "      <td>4.31</td>\n",
       "    </tr>\n",
       "    <tr>\n",
       "      <th>11</th>\n",
       "      <td>1000_705</td>\n",
       "      <td>1000</td>\n",
       "      <td>2018-12-31</td>\n",
       "      <td>12.78</td>\n",
       "    </tr>\n",
       "    <tr>\n",
       "      <th>12</th>\n",
       "      <td>1000_735</td>\n",
       "      <td>1000</td>\n",
       "      <td>2018-12-29</td>\n",
       "      <td>1.70</td>\n",
       "    </tr>\n",
       "    <tr>\n",
       "      <th>13</th>\n",
       "      <td>1000_778</td>\n",
       "      <td>1000</td>\n",
       "      <td>2018-12-28</td>\n",
       "      <td>3.29</td>\n",
       "    </tr>\n",
       "    <tr>\n",
       "      <th>14</th>\n",
       "      <td>1000_826</td>\n",
       "      <td>1000</td>\n",
       "      <td>2018-12-26</td>\n",
       "      <td>9.96</td>\n",
       "    </tr>\n",
       "    <tr>\n",
       "      <th>15</th>\n",
       "      <td>1000_842</td>\n",
       "      <td>1000</td>\n",
       "      <td>2018-12-27</td>\n",
       "      <td>5.85</td>\n",
       "    </tr>\n",
       "    <tr>\n",
       "      <th>16</th>\n",
       "      <td>1001_0</td>\n",
       "      <td>1001</td>\n",
       "      <td>2018-09-06</td>\n",
       "      <td>10.06</td>\n",
       "    </tr>\n",
       "    <tr>\n",
       "      <th>17</th>\n",
       "      <td>1001_1</td>\n",
       "      <td>1001</td>\n",
       "      <td>2018-10-12</td>\n",
       "      <td>1.00</td>\n",
       "    </tr>\n",
       "    <tr>\n",
       "      <th>18</th>\n",
       "      <td>1001_2</td>\n",
       "      <td>1001</td>\n",
       "      <td>2018-10-17</td>\n",
       "      <td>15.83</td>\n",
       "    </tr>\n",
       "    <tr>\n",
       "      <th>19</th>\n",
       "      <td>1001_4</td>\n",
       "      <td>1001</td>\n",
       "      <td>2018-12-05</td>\n",
       "      <td>0.00</td>\n",
       "    </tr>\n",
       "    <tr>\n",
       "      <th>20</th>\n",
       "      <td>1001_5</td>\n",
       "      <td>1001</td>\n",
       "      <td>2018-12-13</td>\n",
       "      <td>6.27</td>\n",
       "    </tr>\n",
       "    <tr>\n",
       "      <th>21</th>\n",
       "      <td>1001_6</td>\n",
       "      <td>1001</td>\n",
       "      <td>2018-12-04</td>\n",
       "      <td>7.19</td>\n",
       "    </tr>\n",
       "    <tr>\n",
       "      <th>22</th>\n",
       "      <td>1001_8</td>\n",
       "      <td>1001</td>\n",
       "      <td>2018-11-17</td>\n",
       "      <td>2.45</td>\n",
       "    </tr>\n",
       "    <tr>\n",
       "      <th>23</th>\n",
       "      <td>1001_9</td>\n",
       "      <td>1001</td>\n",
       "      <td>2018-11-19</td>\n",
       "      <td>2.40</td>\n",
       "    </tr>\n",
       "    <tr>\n",
       "      <th>24</th>\n",
       "      <td>1001_11</td>\n",
       "      <td>1001</td>\n",
       "      <td>2018-11-09</td>\n",
       "      <td>1.00</td>\n",
       "    </tr>\n",
       "    <tr>\n",
       "      <th>25</th>\n",
       "      <td>1001_13</td>\n",
       "      <td>1001</td>\n",
       "      <td>2018-12-24</td>\n",
       "      <td>0.00</td>\n",
       "    </tr>\n",
       "    <tr>\n",
       "      <th>26</th>\n",
       "      <td>1001_19</td>\n",
       "      <td>1001</td>\n",
       "      <td>2018-11-15</td>\n",
       "      <td>30.00</td>\n",
       "    </tr>\n",
       "    <tr>\n",
       "      <th>27</th>\n",
       "      <td>1001_20</td>\n",
       "      <td>1001</td>\n",
       "      <td>2018-09-21</td>\n",
       "      <td>5.75</td>\n",
       "    </tr>\n",
       "    <tr>\n",
       "      <th>28</th>\n",
       "      <td>1001_23</td>\n",
       "      <td>1001</td>\n",
       "      <td>2018-10-27</td>\n",
       "      <td>0.98</td>\n",
       "    </tr>\n",
       "    <tr>\n",
       "      <th>29</th>\n",
       "      <td>1001_26</td>\n",
       "      <td>1001</td>\n",
       "      <td>2018-10-28</td>\n",
       "      <td>5.90</td>\n",
       "    </tr>\n",
       "  </tbody>\n",
       "</table>\n",
       "</div>"
      ],
      "text/plain": [
       "          id  user_id   call_date  duration\n",
       "0    1000_93     1000  2018-12-27      8.52\n",
       "1   1000_145     1000  2018-12-27     13.66\n",
       "2   1000_247     1000  2018-12-27     14.48\n",
       "3   1000_309     1000  2018-12-28      5.76\n",
       "4   1000_380     1000  2018-12-30      4.22\n",
       "5   1000_388     1000  2018-12-31      2.20\n",
       "6   1000_510     1000  2018-12-27      5.75\n",
       "7   1000_521     1000  2018-12-28     14.18\n",
       "8   1000_530     1000  2018-12-28      5.77\n",
       "9   1000_544     1000  2018-12-26      4.40\n",
       "10  1000_693     1000  2018-12-31      4.31\n",
       "11  1000_705     1000  2018-12-31     12.78\n",
       "12  1000_735     1000  2018-12-29      1.70\n",
       "13  1000_778     1000  2018-12-28      3.29\n",
       "14  1000_826     1000  2018-12-26      9.96\n",
       "15  1000_842     1000  2018-12-27      5.85\n",
       "16    1001_0     1001  2018-09-06     10.06\n",
       "17    1001_1     1001  2018-10-12      1.00\n",
       "18    1001_2     1001  2018-10-17     15.83\n",
       "19    1001_4     1001  2018-12-05      0.00\n",
       "20    1001_5     1001  2018-12-13      6.27\n",
       "21    1001_6     1001  2018-12-04      7.19\n",
       "22    1001_8     1001  2018-11-17      2.45\n",
       "23    1001_9     1001  2018-11-19      2.40\n",
       "24   1001_11     1001  2018-11-09      1.00\n",
       "25   1001_13     1001  2018-12-24      0.00\n",
       "26   1001_19     1001  2018-11-15     30.00\n",
       "27   1001_20     1001  2018-09-21      5.75\n",
       "28   1001_23     1001  2018-10-27      0.98\n",
       "29   1001_26     1001  2018-10-28      5.90"
      ]
     },
     "execution_count": 10,
     "metadata": {},
     "output_type": "execute_result"
    }
   ],
   "source": [
    "\n",
    "llamadas.head(30)\n",
    "\n",
    "# Imprime una muestra de datos para las llamadas\n",
    "\n"
   ]
  },
  {
   "cell_type": "markdown",
   "metadata": {
    "id": "DOAxYJSx0q09"
   },
   "source": [
    "Se dice que cada llamada individual se redondea, y en este caso se redondea para arriba, aunque dure un segundo la llamada se debe considerar como un minuto, lo que tenemos que hacer es colocar a los minutos como enteros redondeados, esto va a ayudar en congruencia con lo mencionado en las instrucciones y va a ayudar si se requiere graficar en un historiograma.\n",
    "\n",
    "Por otro lado tenemos llamadas que no registran tiempo alguno, ya sea llamadas que se registraron al marcar por error, o llamadas que no registraron tiempo, esto debe ser considerado para quitarse de los datos dado que puede sesgar la grafica y no tenemos razon real de la falta de estos datos."
   ]
  },
  {
   "cell_type": "markdown",
   "metadata": {
    "id": "S7hzxmbX0q0-"
   },
   "source": [
    "### Corregir los datos"
   ]
  },
  {
   "cell_type": "markdown",
   "metadata": {
    "id": "YxWyAjD20q0-"
   },
   "source": [
    "[Corrige los problemas obvios con los datos basándote en las observaciones iniciales.]"
   ]
  },
  {
   "cell_type": "code",
   "execution_count": 11,
   "metadata": {
    "id": "S2r8xA4f0q0-"
   },
   "outputs": [
    {
     "name": "stdout",
     "output_type": "stream",
     "text": [
      "Empty DataFrame\n",
      "Columns: [id, user_id, call_date, duration]\n",
      "Index: []\n"
     ]
    },
    {
     "name": "stderr",
     "output_type": "stream",
     "text": [
      "C:\\Users\\USER\\AppData\\Local\\Temp\\ipykernel_26564\\113115078.py:6: FutureWarning: Setting an item of incompatible dtype is deprecated and will raise an error in a future version of pandas. Value '8.875907340781417' has dtype incompatible with int64, please explicitly cast to a compatible dtype first.\n",
      "  llamadas.loc[llamadas['duration'] > 1000, 'duration'] = average_duration\n"
     ]
    }
   ],
   "source": [
    "llamadas = llamadas[llamadas['duration'] > 0].copy()\n",
    "llamadas['duration'] = llamadas['duration'].apply(math.ceil)\n",
    "llamadas['duration'].astype('int')\n",
    "llamadas.reset_index(drop=True, inplace=True)\n",
    "average_duration = llamadas[llamadas['duration'] < 1000]['duration'].mean()\n",
    "llamadas.loc[llamadas['duration'] > 1000, 'duration'] = average_duration\n",
    "print(llamadas[llamadas['duration'] > 1000])\n"
   ]
  },
  {
   "cell_type": "markdown",
   "metadata": {
    "id": "KrMgTrlG0q0_"
   },
   "source": [
    "### Enriquecer los datos"
   ]
  },
  {
   "cell_type": "markdown",
   "metadata": {
    "id": "a9MbmEvE0q0_"
   },
   "source": [
    "En este sentido se registraron aproximadamente 20 mil llamadas con el valor exacto de 0.00, pero quedó resuelto, las llamadas están redondeadas y tienen el valor inmediatamente superior a los decimales colocados, para más fácil análisis. no hay más cambios que realizar entendiendo que los datos en general están bien. Yo personalmente quise observar si información adicional a los dos usuarios que están arriba, usando el comando sample() y se ve que el Data Frame está bien.\n",
    "\n",
    "Más adelante se pidieron datos de promedio y varianza, regrese para actualizar los datos entendidendo que los valores extremos estaban sesgando a la grafica y no daban el valor real de las cosas, así que las llamada únicas que superaran los 1000 minutos fueron eliminadas dado que había un usuario que estaba realizando muchas llamadas de 1510 minutos constantemente y ensuciaban los datos."
   ]
  },
  {
   "cell_type": "code",
   "execution_count": 12,
   "metadata": {
    "id": "iZ1avpA_0q0_"
   },
   "outputs": [
    {
     "name": "stdout",
     "output_type": "stream",
     "text": [
      "<class 'pandas.core.frame.DataFrame'>\n",
      "RangeIndex: 110901 entries, 0 to 110900\n",
      "Data columns (total 4 columns):\n",
      " #   Column     Non-Null Count   Dtype  \n",
      "---  ------     --------------   -----  \n",
      " 0   id         110901 non-null  object \n",
      " 1   user_id    110901 non-null  int64  \n",
      " 2   call_date  110901 non-null  object \n",
      " 3   duration   110901 non-null  float64\n",
      "dtypes: float64(1), int64(1), object(2)\n",
      "memory usage: 3.4+ MB\n"
     ]
    }
   ],
   "source": [
    "llamadas.info()"
   ]
  },
  {
   "cell_type": "markdown",
   "metadata": {
    "id": "mOUZSi180q0_"
   },
   "source": [
    "## Mensajes"
   ]
  },
  {
   "cell_type": "code",
   "execution_count": 13,
   "metadata": {
    "id": "R-bYJpdV0q1A"
   },
   "outputs": [
    {
     "name": "stdout",
     "output_type": "stream",
     "text": [
      "<class 'pandas.core.frame.DataFrame'>\n",
      "RangeIndex: 76051 entries, 0 to 76050\n",
      "Data columns (total 3 columns):\n",
      " #   Column        Non-Null Count  Dtype \n",
      "---  ------        --------------  ----- \n",
      " 0   id            76051 non-null  object\n",
      " 1   user_id       76051 non-null  int64 \n",
      " 2   message_date  76051 non-null  object\n",
      "dtypes: int64(1), object(2)\n",
      "memory usage: 1.7+ MB\n"
     ]
    }
   ],
   "source": [
    "mensajes.info()\n",
    "\n"
   ]
  },
  {
   "cell_type": "code",
   "execution_count": 14,
   "metadata": {
    "id": "mCEl2iGE0q1A"
   },
   "outputs": [
    {
     "data": {
      "text/html": [
       "<div>\n",
       "<style scoped>\n",
       "    .dataframe tbody tr th:only-of-type {\n",
       "        vertical-align: middle;\n",
       "    }\n",
       "\n",
       "    .dataframe tbody tr th {\n",
       "        vertical-align: top;\n",
       "    }\n",
       "\n",
       "    .dataframe thead th {\n",
       "        text-align: right;\n",
       "    }\n",
       "</style>\n",
       "<table border=\"1\" class=\"dataframe\">\n",
       "  <thead>\n",
       "    <tr style=\"text-align: right;\">\n",
       "      <th></th>\n",
       "      <th>id</th>\n",
       "      <th>user_id</th>\n",
       "      <th>message_date</th>\n",
       "    </tr>\n",
       "  </thead>\n",
       "  <tbody>\n",
       "    <tr>\n",
       "      <th>0</th>\n",
       "      <td>1000_125</td>\n",
       "      <td>1000</td>\n",
       "      <td>2018-12-27</td>\n",
       "    </tr>\n",
       "    <tr>\n",
       "      <th>1</th>\n",
       "      <td>1000_160</td>\n",
       "      <td>1000</td>\n",
       "      <td>2018-12-31</td>\n",
       "    </tr>\n",
       "    <tr>\n",
       "      <th>2</th>\n",
       "      <td>1000_223</td>\n",
       "      <td>1000</td>\n",
       "      <td>2018-12-31</td>\n",
       "    </tr>\n",
       "    <tr>\n",
       "      <th>3</th>\n",
       "      <td>1000_251</td>\n",
       "      <td>1000</td>\n",
       "      <td>2018-12-27</td>\n",
       "    </tr>\n",
       "    <tr>\n",
       "      <th>4</th>\n",
       "      <td>1000_255</td>\n",
       "      <td>1000</td>\n",
       "      <td>2018-12-26</td>\n",
       "    </tr>\n",
       "    <tr>\n",
       "      <th>5</th>\n",
       "      <td>1000_346</td>\n",
       "      <td>1000</td>\n",
       "      <td>2018-12-29</td>\n",
       "    </tr>\n",
       "    <tr>\n",
       "      <th>6</th>\n",
       "      <td>1000_386</td>\n",
       "      <td>1000</td>\n",
       "      <td>2018-12-30</td>\n",
       "    </tr>\n",
       "    <tr>\n",
       "      <th>7</th>\n",
       "      <td>1000_413</td>\n",
       "      <td>1000</td>\n",
       "      <td>2018-12-31</td>\n",
       "    </tr>\n",
       "    <tr>\n",
       "      <th>8</th>\n",
       "      <td>1000_502</td>\n",
       "      <td>1000</td>\n",
       "      <td>2018-12-27</td>\n",
       "    </tr>\n",
       "    <tr>\n",
       "      <th>9</th>\n",
       "      <td>1000_525</td>\n",
       "      <td>1000</td>\n",
       "      <td>2018-12-28</td>\n",
       "    </tr>\n",
       "    <tr>\n",
       "      <th>10</th>\n",
       "      <td>1000_567</td>\n",
       "      <td>1000</td>\n",
       "      <td>2018-12-25</td>\n",
       "    </tr>\n",
       "    <tr>\n",
       "      <th>11</th>\n",
       "      <td>1001_1</td>\n",
       "      <td>1001</td>\n",
       "      <td>2018-11-14</td>\n",
       "    </tr>\n",
       "    <tr>\n",
       "      <th>12</th>\n",
       "      <td>1001_2</td>\n",
       "      <td>1001</td>\n",
       "      <td>2018-08-17</td>\n",
       "    </tr>\n",
       "    <tr>\n",
       "      <th>13</th>\n",
       "      <td>1001_5</td>\n",
       "      <td>1001</td>\n",
       "      <td>2018-12-05</td>\n",
       "    </tr>\n",
       "    <tr>\n",
       "      <th>14</th>\n",
       "      <td>1001_7</td>\n",
       "      <td>1001</td>\n",
       "      <td>2018-11-28</td>\n",
       "    </tr>\n",
       "    <tr>\n",
       "      <th>15</th>\n",
       "      <td>1001_9</td>\n",
       "      <td>1001</td>\n",
       "      <td>2018-10-23</td>\n",
       "    </tr>\n",
       "    <tr>\n",
       "      <th>16</th>\n",
       "      <td>1001_10</td>\n",
       "      <td>1001</td>\n",
       "      <td>2018-09-01</td>\n",
       "    </tr>\n",
       "    <tr>\n",
       "      <th>17</th>\n",
       "      <td>1001_11</td>\n",
       "      <td>1001</td>\n",
       "      <td>2018-11-18</td>\n",
       "    </tr>\n",
       "    <tr>\n",
       "      <th>18</th>\n",
       "      <td>1001_17</td>\n",
       "      <td>1001</td>\n",
       "      <td>2018-12-11</td>\n",
       "    </tr>\n",
       "    <tr>\n",
       "      <th>19</th>\n",
       "      <td>1001_18</td>\n",
       "      <td>1001</td>\n",
       "      <td>2018-10-01</td>\n",
       "    </tr>\n",
       "    <tr>\n",
       "      <th>20</th>\n",
       "      <td>1001_19</td>\n",
       "      <td>1001</td>\n",
       "      <td>2018-09-13</td>\n",
       "    </tr>\n",
       "    <tr>\n",
       "      <th>21</th>\n",
       "      <td>1001_21</td>\n",
       "      <td>1001</td>\n",
       "      <td>2018-12-30</td>\n",
       "    </tr>\n",
       "    <tr>\n",
       "      <th>22</th>\n",
       "      <td>1001_23</td>\n",
       "      <td>1001</td>\n",
       "      <td>2018-08-23</td>\n",
       "    </tr>\n",
       "    <tr>\n",
       "      <th>23</th>\n",
       "      <td>1001_25</td>\n",
       "      <td>1001</td>\n",
       "      <td>2018-10-10</td>\n",
       "    </tr>\n",
       "    <tr>\n",
       "      <th>24</th>\n",
       "      <td>1001_30</td>\n",
       "      <td>1001</td>\n",
       "      <td>2018-12-14</td>\n",
       "    </tr>\n",
       "    <tr>\n",
       "      <th>25</th>\n",
       "      <td>1001_32</td>\n",
       "      <td>1001</td>\n",
       "      <td>2018-09-11</td>\n",
       "    </tr>\n",
       "    <tr>\n",
       "      <th>26</th>\n",
       "      <td>1001_34</td>\n",
       "      <td>1001</td>\n",
       "      <td>2018-10-09</td>\n",
       "    </tr>\n",
       "    <tr>\n",
       "      <th>27</th>\n",
       "      <td>1001_35</td>\n",
       "      <td>1001</td>\n",
       "      <td>2018-09-18</td>\n",
       "    </tr>\n",
       "    <tr>\n",
       "      <th>28</th>\n",
       "      <td>1001_37</td>\n",
       "      <td>1001</td>\n",
       "      <td>2018-09-06</td>\n",
       "    </tr>\n",
       "    <tr>\n",
       "      <th>29</th>\n",
       "      <td>1001_39</td>\n",
       "      <td>1001</td>\n",
       "      <td>2018-09-13</td>\n",
       "    </tr>\n",
       "  </tbody>\n",
       "</table>\n",
       "</div>"
      ],
      "text/plain": [
       "          id  user_id message_date\n",
       "0   1000_125     1000   2018-12-27\n",
       "1   1000_160     1000   2018-12-31\n",
       "2   1000_223     1000   2018-12-31\n",
       "3   1000_251     1000   2018-12-27\n",
       "4   1000_255     1000   2018-12-26\n",
       "5   1000_346     1000   2018-12-29\n",
       "6   1000_386     1000   2018-12-30\n",
       "7   1000_413     1000   2018-12-31\n",
       "8   1000_502     1000   2018-12-27\n",
       "9   1000_525     1000   2018-12-28\n",
       "10  1000_567     1000   2018-12-25\n",
       "11    1001_1     1001   2018-11-14\n",
       "12    1001_2     1001   2018-08-17\n",
       "13    1001_5     1001   2018-12-05\n",
       "14    1001_7     1001   2018-11-28\n",
       "15    1001_9     1001   2018-10-23\n",
       "16   1001_10     1001   2018-09-01\n",
       "17   1001_11     1001   2018-11-18\n",
       "18   1001_17     1001   2018-12-11\n",
       "19   1001_18     1001   2018-10-01\n",
       "20   1001_19     1001   2018-09-13\n",
       "21   1001_21     1001   2018-12-30\n",
       "22   1001_23     1001   2018-08-23\n",
       "23   1001_25     1001   2018-10-10\n",
       "24   1001_30     1001   2018-12-14\n",
       "25   1001_32     1001   2018-09-11\n",
       "26   1001_34     1001   2018-10-09\n",
       "27   1001_35     1001   2018-09-18\n",
       "28   1001_37     1001   2018-09-06\n",
       "29   1001_39     1001   2018-09-13"
      ]
     },
     "execution_count": 14,
     "metadata": {},
     "output_type": "execute_result"
    }
   ],
   "source": [
    "mensajes.head(30)\n",
    "\n",
    "# Imprime una muestra de datos para los mensajes\n",
    "\n"
   ]
  },
  {
   "cell_type": "markdown",
   "metadata": {
    "id": "04xDj7KH0q1A"
   },
   "source": [
    "Aquí no hay mayor tema, la fecha sería lo más importante a revisar aquí si quisieramos hacer un historiograma, y como lo coloqué anteriormente conservaré el formato (aaaa, mm, dd) en todo caso estos datos sirven para un historiograma de frcuencia de mensajes en ciertas fechas, pero no creo que se observe una distribución normal ni una tendencia a que ciertos días se manden más mensajes, salvo días festivos, o días con desastres como un temblor, y tendría que ser la voluntad de nosotros analizar esos fenómenos, por lo que la grafica óptima no sería historiograma."
   ]
  },
  {
   "cell_type": "markdown",
   "metadata": {
    "id": "Sprfak900q1B"
   },
   "source": [
    "### Corregir los datos"
   ]
  },
  {
   "cell_type": "markdown",
   "metadata": {
    "id": "eGw7d9j10q1B"
   },
   "source": [
    "[Corrige los problemas obvios con los datos basándote en las observaciones iniciales.]"
   ]
  },
  {
   "cell_type": "code",
   "execution_count": 15,
   "metadata": {
    "id": "vsllvkoa0q1B"
   },
   "outputs": [],
   "source": [
    "#Nada que corregir"
   ]
  },
  {
   "cell_type": "markdown",
   "metadata": {
    "id": "HvLid7iD0q1B"
   },
   "source": [
    "### Enriquecer los datos"
   ]
  },
  {
   "cell_type": "markdown",
   "metadata": {
    "id": "8nhPFKIe0q1C"
   },
   "source": [
    "[Agrega factores adicionales a los datos si crees que pudieran ser útiles.]"
   ]
  },
  {
   "cell_type": "code",
   "execution_count": 16,
   "metadata": {
    "id": "zYEXZac10q1C"
   },
   "outputs": [],
   "source": [
    "#Nada que aneccionar"
   ]
  },
  {
   "cell_type": "markdown",
   "metadata": {
    "id": "bStkaxn40q1C"
   },
   "source": [
    "## Internet"
   ]
  },
  {
   "cell_type": "code",
   "execution_count": 17,
   "metadata": {
    "id": "e-Uz5qyn0q1C"
   },
   "outputs": [
    {
     "name": "stdout",
     "output_type": "stream",
     "text": [
      "<class 'pandas.core.frame.DataFrame'>\n",
      "RangeIndex: 104825 entries, 0 to 104824\n",
      "Data columns (total 4 columns):\n",
      " #   Column        Non-Null Count   Dtype  \n",
      "---  ------        --------------   -----  \n",
      " 0   id            104825 non-null  object \n",
      " 1   user_id       104825 non-null  int64  \n",
      " 2   session_date  104825 non-null  object \n",
      " 3   mb_used       104825 non-null  float64\n",
      "dtypes: float64(1), int64(1), object(2)\n",
      "memory usage: 3.2+ MB\n"
     ]
    }
   ],
   "source": [
    "internet.info()\n",
    "\n"
   ]
  },
  {
   "cell_type": "code",
   "execution_count": 18,
   "metadata": {
    "id": "9r3x_XLw0q1C"
   },
   "outputs": [
    {
     "data": {
      "text/html": [
       "<div>\n",
       "<style scoped>\n",
       "    .dataframe tbody tr th:only-of-type {\n",
       "        vertical-align: middle;\n",
       "    }\n",
       "\n",
       "    .dataframe tbody tr th {\n",
       "        vertical-align: top;\n",
       "    }\n",
       "\n",
       "    .dataframe thead th {\n",
       "        text-align: right;\n",
       "    }\n",
       "</style>\n",
       "<table border=\"1\" class=\"dataframe\">\n",
       "  <thead>\n",
       "    <tr style=\"text-align: right;\">\n",
       "      <th></th>\n",
       "      <th>id</th>\n",
       "      <th>user_id</th>\n",
       "      <th>session_date</th>\n",
       "      <th>mb_used</th>\n",
       "    </tr>\n",
       "  </thead>\n",
       "  <tbody>\n",
       "    <tr>\n",
       "      <th>0</th>\n",
       "      <td>1000_13</td>\n",
       "      <td>1000</td>\n",
       "      <td>2018-12-29</td>\n",
       "      <td>89.86</td>\n",
       "    </tr>\n",
       "    <tr>\n",
       "      <th>1</th>\n",
       "      <td>1000_204</td>\n",
       "      <td>1000</td>\n",
       "      <td>2018-12-31</td>\n",
       "      <td>0.00</td>\n",
       "    </tr>\n",
       "    <tr>\n",
       "      <th>2</th>\n",
       "      <td>1000_379</td>\n",
       "      <td>1000</td>\n",
       "      <td>2018-12-28</td>\n",
       "      <td>660.40</td>\n",
       "    </tr>\n",
       "    <tr>\n",
       "      <th>3</th>\n",
       "      <td>1000_413</td>\n",
       "      <td>1000</td>\n",
       "      <td>2018-12-26</td>\n",
       "      <td>270.99</td>\n",
       "    </tr>\n",
       "    <tr>\n",
       "      <th>4</th>\n",
       "      <td>1000_442</td>\n",
       "      <td>1000</td>\n",
       "      <td>2018-12-27</td>\n",
       "      <td>880.22</td>\n",
       "    </tr>\n",
       "    <tr>\n",
       "      <th>5</th>\n",
       "      <td>1001_0</td>\n",
       "      <td>1001</td>\n",
       "      <td>2018-08-24</td>\n",
       "      <td>284.68</td>\n",
       "    </tr>\n",
       "    <tr>\n",
       "      <th>6</th>\n",
       "      <td>1001_3</td>\n",
       "      <td>1001</td>\n",
       "      <td>2018-12-09</td>\n",
       "      <td>656.04</td>\n",
       "    </tr>\n",
       "    <tr>\n",
       "      <th>7</th>\n",
       "      <td>1001_4</td>\n",
       "      <td>1001</td>\n",
       "      <td>2018-11-04</td>\n",
       "      <td>16.97</td>\n",
       "    </tr>\n",
       "    <tr>\n",
       "      <th>8</th>\n",
       "      <td>1001_10</td>\n",
       "      <td>1001</td>\n",
       "      <td>2018-11-27</td>\n",
       "      <td>135.18</td>\n",
       "    </tr>\n",
       "    <tr>\n",
       "      <th>9</th>\n",
       "      <td>1001_15</td>\n",
       "      <td>1001</td>\n",
       "      <td>2018-12-13</td>\n",
       "      <td>761.92</td>\n",
       "    </tr>\n",
       "    <tr>\n",
       "      <th>10</th>\n",
       "      <td>1001_16</td>\n",
       "      <td>1001</td>\n",
       "      <td>2018-10-28</td>\n",
       "      <td>501.53</td>\n",
       "    </tr>\n",
       "    <tr>\n",
       "      <th>11</th>\n",
       "      <td>1001_17</td>\n",
       "      <td>1001</td>\n",
       "      <td>2018-09-05</td>\n",
       "      <td>727.29</td>\n",
       "    </tr>\n",
       "    <tr>\n",
       "      <th>12</th>\n",
       "      <td>1001_24</td>\n",
       "      <td>1001</td>\n",
       "      <td>2018-09-05</td>\n",
       "      <td>622.03</td>\n",
       "    </tr>\n",
       "    <tr>\n",
       "      <th>13</th>\n",
       "      <td>1001_25</td>\n",
       "      <td>1001</td>\n",
       "      <td>2018-10-14</td>\n",
       "      <td>310.43</td>\n",
       "    </tr>\n",
       "    <tr>\n",
       "      <th>14</th>\n",
       "      <td>1001_26</td>\n",
       "      <td>1001</td>\n",
       "      <td>2018-09-17</td>\n",
       "      <td>0.00</td>\n",
       "    </tr>\n",
       "    <tr>\n",
       "      <th>15</th>\n",
       "      <td>1001_27</td>\n",
       "      <td>1001</td>\n",
       "      <td>2018-12-13</td>\n",
       "      <td>149.17</td>\n",
       "    </tr>\n",
       "    <tr>\n",
       "      <th>16</th>\n",
       "      <td>1001_28</td>\n",
       "      <td>1001</td>\n",
       "      <td>2018-10-17</td>\n",
       "      <td>0.00</td>\n",
       "    </tr>\n",
       "    <tr>\n",
       "      <th>17</th>\n",
       "      <td>1001_29</td>\n",
       "      <td>1001</td>\n",
       "      <td>2018-10-09</td>\n",
       "      <td>1067.99</td>\n",
       "    </tr>\n",
       "    <tr>\n",
       "      <th>18</th>\n",
       "      <td>1001_30</td>\n",
       "      <td>1001</td>\n",
       "      <td>2018-12-27</td>\n",
       "      <td>157.20</td>\n",
       "    </tr>\n",
       "    <tr>\n",
       "      <th>19</th>\n",
       "      <td>1001_33</td>\n",
       "      <td>1001</td>\n",
       "      <td>2018-09-27</td>\n",
       "      <td>236.40</td>\n",
       "    </tr>\n",
       "    <tr>\n",
       "      <th>20</th>\n",
       "      <td>1001_34</td>\n",
       "      <td>1001</td>\n",
       "      <td>2018-09-18</td>\n",
       "      <td>299.66</td>\n",
       "    </tr>\n",
       "    <tr>\n",
       "      <th>21</th>\n",
       "      <td>1001_37</td>\n",
       "      <td>1001</td>\n",
       "      <td>2018-12-26</td>\n",
       "      <td>694.50</td>\n",
       "    </tr>\n",
       "    <tr>\n",
       "      <th>22</th>\n",
       "      <td>1001_38</td>\n",
       "      <td>1001</td>\n",
       "      <td>2018-11-25</td>\n",
       "      <td>288.27</td>\n",
       "    </tr>\n",
       "    <tr>\n",
       "      <th>23</th>\n",
       "      <td>1001_40</td>\n",
       "      <td>1001</td>\n",
       "      <td>2018-12-27</td>\n",
       "      <td>632.84</td>\n",
       "    </tr>\n",
       "    <tr>\n",
       "      <th>24</th>\n",
       "      <td>1001_42</td>\n",
       "      <td>1001</td>\n",
       "      <td>2018-12-03</td>\n",
       "      <td>474.35</td>\n",
       "    </tr>\n",
       "    <tr>\n",
       "      <th>25</th>\n",
       "      <td>1001_43</td>\n",
       "      <td>1001</td>\n",
       "      <td>2018-11-16</td>\n",
       "      <td>196.94</td>\n",
       "    </tr>\n",
       "    <tr>\n",
       "      <th>26</th>\n",
       "      <td>1001_44</td>\n",
       "      <td>1001</td>\n",
       "      <td>2018-09-27</td>\n",
       "      <td>44.91</td>\n",
       "    </tr>\n",
       "    <tr>\n",
       "      <th>27</th>\n",
       "      <td>1001_45</td>\n",
       "      <td>1001</td>\n",
       "      <td>2018-10-23</td>\n",
       "      <td>483.49</td>\n",
       "    </tr>\n",
       "    <tr>\n",
       "      <th>28</th>\n",
       "      <td>1001_47</td>\n",
       "      <td>1001</td>\n",
       "      <td>2018-12-07</td>\n",
       "      <td>317.01</td>\n",
       "    </tr>\n",
       "    <tr>\n",
       "      <th>29</th>\n",
       "      <td>1001_48</td>\n",
       "      <td>1001</td>\n",
       "      <td>2018-09-08</td>\n",
       "      <td>284.97</td>\n",
       "    </tr>\n",
       "    <tr>\n",
       "      <th>30</th>\n",
       "      <td>1001_49</td>\n",
       "      <td>1001</td>\n",
       "      <td>2018-10-18</td>\n",
       "      <td>534.65</td>\n",
       "    </tr>\n",
       "    <tr>\n",
       "      <th>31</th>\n",
       "      <td>1001_50</td>\n",
       "      <td>1001</td>\n",
       "      <td>2018-11-27</td>\n",
       "      <td>618.84</td>\n",
       "    </tr>\n",
       "    <tr>\n",
       "      <th>32</th>\n",
       "      <td>1001_52</td>\n",
       "      <td>1001</td>\n",
       "      <td>2018-11-17</td>\n",
       "      <td>409.19</td>\n",
       "    </tr>\n",
       "    <tr>\n",
       "      <th>33</th>\n",
       "      <td>1001_53</td>\n",
       "      <td>1001</td>\n",
       "      <td>2018-11-10</td>\n",
       "      <td>418.75</td>\n",
       "    </tr>\n",
       "    <tr>\n",
       "      <th>34</th>\n",
       "      <td>1001_54</td>\n",
       "      <td>1001</td>\n",
       "      <td>2018-09-02</td>\n",
       "      <td>0.00</td>\n",
       "    </tr>\n",
       "    <tr>\n",
       "      <th>35</th>\n",
       "      <td>1001_61</td>\n",
       "      <td>1001</td>\n",
       "      <td>2018-11-28</td>\n",
       "      <td>121.30</td>\n",
       "    </tr>\n",
       "    <tr>\n",
       "      <th>36</th>\n",
       "      <td>1001_63</td>\n",
       "      <td>1001</td>\n",
       "      <td>2018-12-03</td>\n",
       "      <td>144.94</td>\n",
       "    </tr>\n",
       "    <tr>\n",
       "      <th>37</th>\n",
       "      <td>1001_64</td>\n",
       "      <td>1001</td>\n",
       "      <td>2018-12-10</td>\n",
       "      <td>14.03</td>\n",
       "    </tr>\n",
       "    <tr>\n",
       "      <th>38</th>\n",
       "      <td>1001_65</td>\n",
       "      <td>1001</td>\n",
       "      <td>2018-09-17</td>\n",
       "      <td>969.54</td>\n",
       "    </tr>\n",
       "    <tr>\n",
       "      <th>39</th>\n",
       "      <td>1001_66</td>\n",
       "      <td>1001</td>\n",
       "      <td>2018-10-17</td>\n",
       "      <td>976.69</td>\n",
       "    </tr>\n",
       "    <tr>\n",
       "      <th>40</th>\n",
       "      <td>1001_71</td>\n",
       "      <td>1001</td>\n",
       "      <td>2018-09-06</td>\n",
       "      <td>310.16</td>\n",
       "    </tr>\n",
       "    <tr>\n",
       "      <th>41</th>\n",
       "      <td>1001_73</td>\n",
       "      <td>1001</td>\n",
       "      <td>2018-10-04</td>\n",
       "      <td>501.87</td>\n",
       "    </tr>\n",
       "    <tr>\n",
       "      <th>42</th>\n",
       "      <td>1001_75</td>\n",
       "      <td>1001</td>\n",
       "      <td>2018-11-11</td>\n",
       "      <td>438.76</td>\n",
       "    </tr>\n",
       "    <tr>\n",
       "      <th>43</th>\n",
       "      <td>1001_77</td>\n",
       "      <td>1001</td>\n",
       "      <td>2018-10-31</td>\n",
       "      <td>0.00</td>\n",
       "    </tr>\n",
       "    <tr>\n",
       "      <th>44</th>\n",
       "      <td>1001_80</td>\n",
       "      <td>1001</td>\n",
       "      <td>2018-12-24</td>\n",
       "      <td>0.00</td>\n",
       "    </tr>\n",
       "    <tr>\n",
       "      <th>45</th>\n",
       "      <td>1001_82</td>\n",
       "      <td>1001</td>\n",
       "      <td>2018-11-28</td>\n",
       "      <td>255.14</td>\n",
       "    </tr>\n",
       "    <tr>\n",
       "      <th>46</th>\n",
       "      <td>1001_84</td>\n",
       "      <td>1001</td>\n",
       "      <td>2018-10-13</td>\n",
       "      <td>0.00</td>\n",
       "    </tr>\n",
       "    <tr>\n",
       "      <th>47</th>\n",
       "      <td>1001_85</td>\n",
       "      <td>1001</td>\n",
       "      <td>2018-12-16</td>\n",
       "      <td>624.34</td>\n",
       "    </tr>\n",
       "    <tr>\n",
       "      <th>48</th>\n",
       "      <td>1001_86</td>\n",
       "      <td>1001</td>\n",
       "      <td>2018-09-17</td>\n",
       "      <td>71.78</td>\n",
       "    </tr>\n",
       "    <tr>\n",
       "      <th>49</th>\n",
       "      <td>1001_87</td>\n",
       "      <td>1001</td>\n",
       "      <td>2018-09-30</td>\n",
       "      <td>179.68</td>\n",
       "    </tr>\n",
       "  </tbody>\n",
       "</table>\n",
       "</div>"
      ],
      "text/plain": [
       "          id  user_id session_date  mb_used\n",
       "0    1000_13     1000   2018-12-29    89.86\n",
       "1   1000_204     1000   2018-12-31     0.00\n",
       "2   1000_379     1000   2018-12-28   660.40\n",
       "3   1000_413     1000   2018-12-26   270.99\n",
       "4   1000_442     1000   2018-12-27   880.22\n",
       "5     1001_0     1001   2018-08-24   284.68\n",
       "6     1001_3     1001   2018-12-09   656.04\n",
       "7     1001_4     1001   2018-11-04    16.97\n",
       "8    1001_10     1001   2018-11-27   135.18\n",
       "9    1001_15     1001   2018-12-13   761.92\n",
       "10   1001_16     1001   2018-10-28   501.53\n",
       "11   1001_17     1001   2018-09-05   727.29\n",
       "12   1001_24     1001   2018-09-05   622.03\n",
       "13   1001_25     1001   2018-10-14   310.43\n",
       "14   1001_26     1001   2018-09-17     0.00\n",
       "15   1001_27     1001   2018-12-13   149.17\n",
       "16   1001_28     1001   2018-10-17     0.00\n",
       "17   1001_29     1001   2018-10-09  1067.99\n",
       "18   1001_30     1001   2018-12-27   157.20\n",
       "19   1001_33     1001   2018-09-27   236.40\n",
       "20   1001_34     1001   2018-09-18   299.66\n",
       "21   1001_37     1001   2018-12-26   694.50\n",
       "22   1001_38     1001   2018-11-25   288.27\n",
       "23   1001_40     1001   2018-12-27   632.84\n",
       "24   1001_42     1001   2018-12-03   474.35\n",
       "25   1001_43     1001   2018-11-16   196.94\n",
       "26   1001_44     1001   2018-09-27    44.91\n",
       "27   1001_45     1001   2018-10-23   483.49\n",
       "28   1001_47     1001   2018-12-07   317.01\n",
       "29   1001_48     1001   2018-09-08   284.97\n",
       "30   1001_49     1001   2018-10-18   534.65\n",
       "31   1001_50     1001   2018-11-27   618.84\n",
       "32   1001_52     1001   2018-11-17   409.19\n",
       "33   1001_53     1001   2018-11-10   418.75\n",
       "34   1001_54     1001   2018-09-02     0.00\n",
       "35   1001_61     1001   2018-11-28   121.30\n",
       "36   1001_63     1001   2018-12-03   144.94\n",
       "37   1001_64     1001   2018-12-10    14.03\n",
       "38   1001_65     1001   2018-09-17   969.54\n",
       "39   1001_66     1001   2018-10-17   976.69\n",
       "40   1001_71     1001   2018-09-06   310.16\n",
       "41   1001_73     1001   2018-10-04   501.87\n",
       "42   1001_75     1001   2018-11-11   438.76\n",
       "43   1001_77     1001   2018-10-31     0.00\n",
       "44   1001_80     1001   2018-12-24     0.00\n",
       "45   1001_82     1001   2018-11-28   255.14\n",
       "46   1001_84     1001   2018-10-13     0.00\n",
       "47   1001_85     1001   2018-12-16   624.34\n",
       "48   1001_86     1001   2018-09-17    71.78\n",
       "49   1001_87     1001   2018-09-30   179.68"
      ]
     },
     "execution_count": 18,
     "metadata": {},
     "output_type": "execute_result"
    }
   ],
   "source": [
    "internet.head(50)\n",
    "\n",
    "# Imprime una muestra de datos para el tráfico de internet\n",
    "\n"
   ]
  },
  {
   "cell_type": "markdown",
   "metadata": {
    "id": "EzOG5ik30q1D"
   },
   "source": [
    "Tenemos el problema inicial de que el cliente espera que los datos usados estén en gb y no mb, así que haré lo mismo que con la columna anterior generando una nueva columna en la que se mantenga en gb pero no desperdiciando los valores de mb en caso de que se necesiten esos datos para un análisis más preciso.\n",
    "\n",
    "Antes de hacer la columna de gb voy a liminar los valores 0 que no sabemos por qué se registran, así que los consideraremos como valores nulos."
   ]
  },
  {
   "cell_type": "markdown",
   "metadata": {
    "id": "yA0tkPFg0q1D"
   },
   "source": [
    "### Corregir los datos"
   ]
  },
  {
   "cell_type": "markdown",
   "metadata": {
    "id": "zlZMuIEK0q1D"
   },
   "source": [
    "[Corrige los problemas obvios con los datos basándote en las observaciones iniciales.]"
   ]
  },
  {
   "cell_type": "code",
   "execution_count": 19,
   "metadata": {
    "id": "zVeanzdd0q1E"
   },
   "outputs": [
    {
     "name": "stdout",
     "output_type": "stream",
     "text": [
      "<class 'pandas.core.frame.DataFrame'>\n",
      "RangeIndex: 91078 entries, 0 to 91077\n",
      "Data columns (total 5 columns):\n",
      " #   Column        Non-Null Count  Dtype  \n",
      "---  ------        --------------  -----  \n",
      " 0   id            91078 non-null  object \n",
      " 1   user_id       91078 non-null  int64  \n",
      " 2   session_date  91078 non-null  object \n",
      " 3   mb_used       91078 non-null  float64\n",
      " 4   gb_used       91078 non-null  int64  \n",
      "dtypes: float64(1), int64(2), object(2)\n",
      "memory usage: 3.5+ MB\n"
     ]
    }
   ],
   "source": [
    "internet = internet[internet['mb_used'] != 0]\n",
    "internet['gb_used'] = internet['mb_used'] / 1024\n",
    "internet['gb_used'] = internet['gb_used'].apply(math.ceil)\n",
    "internet['gb_used'] = internet['gb_used'].astype('int')\n",
    "internet.reset_index(drop=True, inplace=True)\n",
    "internet.info()"
   ]
  },
  {
   "cell_type": "markdown",
   "metadata": {
    "id": "e8_mLF4a0q1E"
   },
   "source": [
    "### Enriquecer los datos"
   ]
  },
  {
   "cell_type": "markdown",
   "metadata": {
    "id": "xhNdn2tE0q1E"
   },
   "source": [
    "[Agrega factores adicionales a los datos si crees que pudieran ser útiles.]"
   ]
  },
  {
   "cell_type": "code",
   "execution_count": null,
   "metadata": {
    "id": "ESiYPIEK0q1E"
   },
   "outputs": [],
   "source": []
  },
  {
   "cell_type": "markdown",
   "metadata": {
    "id": "3UA2cqIW0q1E"
   },
   "source": [
    "## Estudiar las condiciones de las tarifas"
   ]
  },
  {
   "cell_type": "markdown",
   "metadata": {
    "id": "T86Sqltq0q1F"
   },
   "source": [
    "[Es sumamente importante entender cómo funcionan las tarifas, cómo se les cobra a los usuarios en función de su plan de suscripción. Así que te sugerimos imprimir la información de la tarifa para ver una vez más sus condiciones.]"
   ]
  },
  {
   "cell_type": "code",
   "execution_count": 20,
   "metadata": {
    "id": "i409op8p0q1F"
   },
   "outputs": [
    {
     "data": {
      "text/html": [
       "<div>\n",
       "<style scoped>\n",
       "    .dataframe tbody tr th:only-of-type {\n",
       "        vertical-align: middle;\n",
       "    }\n",
       "\n",
       "    .dataframe tbody tr th {\n",
       "        vertical-align: top;\n",
       "    }\n",
       "\n",
       "    .dataframe thead th {\n",
       "        text-align: right;\n",
       "    }\n",
       "</style>\n",
       "<table border=\"1\" class=\"dataframe\">\n",
       "  <thead>\n",
       "    <tr style=\"text-align: right;\">\n",
       "      <th></th>\n",
       "      <th>messages_included</th>\n",
       "      <th>mb_per_month_included</th>\n",
       "      <th>minutes_included</th>\n",
       "      <th>usd_monthly_pay</th>\n",
       "      <th>usd_per_gb</th>\n",
       "      <th>usd_per_message</th>\n",
       "      <th>usd_per_minute</th>\n",
       "      <th>plan_name</th>\n",
       "      <th>gb_per_month_included</th>\n",
       "    </tr>\n",
       "  </thead>\n",
       "  <tbody>\n",
       "    <tr>\n",
       "      <th>0</th>\n",
       "      <td>50</td>\n",
       "      <td>15360</td>\n",
       "      <td>500</td>\n",
       "      <td>20</td>\n",
       "      <td>10</td>\n",
       "      <td>0.03</td>\n",
       "      <td>0.03</td>\n",
       "      <td>surf</td>\n",
       "      <td>15</td>\n",
       "    </tr>\n",
       "    <tr>\n",
       "      <th>1</th>\n",
       "      <td>1000</td>\n",
       "      <td>30720</td>\n",
       "      <td>3000</td>\n",
       "      <td>70</td>\n",
       "      <td>7</td>\n",
       "      <td>0.01</td>\n",
       "      <td>0.01</td>\n",
       "      <td>ultimate</td>\n",
       "      <td>30</td>\n",
       "    </tr>\n",
       "  </tbody>\n",
       "</table>\n",
       "</div>"
      ],
      "text/plain": [
       "   messages_included  mb_per_month_included  minutes_included  \\\n",
       "0                 50                  15360               500   \n",
       "1               1000                  30720              3000   \n",
       "\n",
       "   usd_monthly_pay  usd_per_gb  usd_per_message  usd_per_minute plan_name  \\\n",
       "0               20          10             0.03            0.03      surf   \n",
       "1               70           7             0.01            0.01  ultimate   \n",
       "\n",
       "   gb_per_month_included  \n",
       "0                     15  \n",
       "1                     30  "
      ]
     },
     "execution_count": 20,
     "metadata": {},
     "output_type": "execute_result"
    }
   ],
   "source": [
    "tarifas.head()\n",
    "\n"
   ]
  },
  {
   "cell_type": "markdown",
   "metadata": {
    "id": "hMR1tP5d0q1F"
   },
   "source": [
    "## Agregar datos por usuario\n",
    "\n",
    "[Ahora que los datos están limpios, agrega los datos por usuario y por periodo para que solo haya un registro por usuario y por periodo. Esto facilitará mucho el análisis posterior.]"
   ]
  },
  {
   "cell_type": "code",
   "execution_count": 21,
   "metadata": {
    "id": "A332cedB0q1G"
   },
   "outputs": [
    {
     "data": {
      "text/html": [
       "<div>\n",
       "<style scoped>\n",
       "    .dataframe tbody tr th:only-of-type {\n",
       "        vertical-align: middle;\n",
       "    }\n",
       "\n",
       "    .dataframe tbody tr th {\n",
       "        vertical-align: top;\n",
       "    }\n",
       "\n",
       "    .dataframe thead th {\n",
       "        text-align: right;\n",
       "    }\n",
       "</style>\n",
       "<table border=\"1\" class=\"dataframe\">\n",
       "  <thead>\n",
       "    <tr style=\"text-align: right;\">\n",
       "      <th></th>\n",
       "      <th>user_id</th>\n",
       "      <th>month</th>\n",
       "      <th>calls_per_month</th>\n",
       "    </tr>\n",
       "  </thead>\n",
       "  <tbody>\n",
       "    <tr>\n",
       "      <th>0</th>\n",
       "      <td>1000</td>\n",
       "      <td>12</td>\n",
       "      <td>16</td>\n",
       "    </tr>\n",
       "    <tr>\n",
       "      <th>1</th>\n",
       "      <td>1001</td>\n",
       "      <td>9</td>\n",
       "      <td>38</td>\n",
       "    </tr>\n",
       "    <tr>\n",
       "      <th>2</th>\n",
       "      <td>1001</td>\n",
       "      <td>10</td>\n",
       "      <td>47</td>\n",
       "    </tr>\n",
       "    <tr>\n",
       "      <th>3</th>\n",
       "      <td>1001</td>\n",
       "      <td>12</td>\n",
       "      <td>46</td>\n",
       "    </tr>\n",
       "    <tr>\n",
       "      <th>4</th>\n",
       "      <td>1001</td>\n",
       "      <td>11</td>\n",
       "      <td>49</td>\n",
       "    </tr>\n",
       "  </tbody>\n",
       "</table>\n",
       "</div>"
      ],
      "text/plain": [
       "   user_id  month  calls_per_month\n",
       "0     1000     12               16\n",
       "1     1001      9               38\n",
       "2     1001     10               47\n",
       "3     1001     12               46\n",
       "4     1001     11               49"
      ]
     },
     "execution_count": 21,
     "metadata": {},
     "output_type": "execute_result"
    }
   ],
   "source": [
    "# Calcula el número de llamadas hechas por cada usuario al mes. Guarda el resultado.\n",
    "llamadas['month'] = pd.to_datetime(llamadas['call_date']).dt.month\n",
    "llamadas['calls_per_month'] = llamadas.groupby(['user_id', 'month'])['call_date'].transform('count')\n",
    "calls_per_month = llamadas[['user_id', 'month', 'calls_per_month']].drop_duplicates().dropna()\n",
    "calls_per_month['calls_per_month'] = calls_per_month['calls_per_month'].astype('int')\n",
    "calls_per_month.reset_index(drop=True, inplace=True)\n",
    "calls_per_month.head()\n"
   ]
  },
  {
   "cell_type": "code",
   "execution_count": 22,
   "metadata": {
    "id": "aw2cmuql0q1G"
   },
   "outputs": [
    {
     "data": {
      "text/html": [
       "<div>\n",
       "<style scoped>\n",
       "    .dataframe tbody tr th:only-of-type {\n",
       "        vertical-align: middle;\n",
       "    }\n",
       "\n",
       "    .dataframe tbody tr th {\n",
       "        vertical-align: top;\n",
       "    }\n",
       "\n",
       "    .dataframe thead th {\n",
       "        text-align: right;\n",
       "    }\n",
       "</style>\n",
       "<table border=\"1\" class=\"dataframe\">\n",
       "  <thead>\n",
       "    <tr style=\"text-align: right;\">\n",
       "      <th></th>\n",
       "      <th>user_id</th>\n",
       "      <th>month</th>\n",
       "      <th>duration</th>\n",
       "    </tr>\n",
       "  </thead>\n",
       "  <tbody>\n",
       "    <tr>\n",
       "      <th>0</th>\n",
       "      <td>1000</td>\n",
       "      <td>12</td>\n",
       "      <td>124</td>\n",
       "    </tr>\n",
       "    <tr>\n",
       "      <th>1</th>\n",
       "      <td>1001</td>\n",
       "      <td>9</td>\n",
       "      <td>315</td>\n",
       "    </tr>\n",
       "    <tr>\n",
       "      <th>2</th>\n",
       "      <td>1001</td>\n",
       "      <td>10</td>\n",
       "      <td>393</td>\n",
       "    </tr>\n",
       "    <tr>\n",
       "      <th>3</th>\n",
       "      <td>1001</td>\n",
       "      <td>12</td>\n",
       "      <td>412</td>\n",
       "    </tr>\n",
       "    <tr>\n",
       "      <th>4</th>\n",
       "      <td>1001</td>\n",
       "      <td>11</td>\n",
       "      <td>426</td>\n",
       "    </tr>\n",
       "  </tbody>\n",
       "</table>\n",
       "</div>"
      ],
      "text/plain": [
       "   user_id  month  duration\n",
       "0     1000     12       124\n",
       "1     1001      9       315\n",
       "2     1001     10       393\n",
       "3     1001     12       412\n",
       "4     1001     11       426"
      ]
     },
     "execution_count": 22,
     "metadata": {},
     "output_type": "execute_result"
    }
   ],
   "source": [
    "# Calcula la cantidad de minutos usados por cada usuario al mes. Guarda el resultado.\n",
    "llamadas['duration'] = llamadas.groupby(['user_id', 'month'])['duration'].transform('sum')\n",
    "calls_duration_minutes = llamadas[['user_id', 'month', 'duration']].drop_duplicates().dropna()\n",
    "calls_duration_minutes['duration'] = calls_duration_minutes['duration'].astype('int')\n",
    "calls_duration_minutes.reset_index(drop=True, inplace=True)\n",
    "calls_duration_minutes.head()\n"
   ]
  },
  {
   "cell_type": "code",
   "execution_count": 23,
   "metadata": {
    "id": "CcQvNHn60q1G"
   },
   "outputs": [
    {
     "data": {
      "text/html": [
       "<div>\n",
       "<style scoped>\n",
       "    .dataframe tbody tr th:only-of-type {\n",
       "        vertical-align: middle;\n",
       "    }\n",
       "\n",
       "    .dataframe tbody tr th {\n",
       "        vertical-align: top;\n",
       "    }\n",
       "\n",
       "    .dataframe thead th {\n",
       "        text-align: right;\n",
       "    }\n",
       "</style>\n",
       "<table border=\"1\" class=\"dataframe\">\n",
       "  <thead>\n",
       "    <tr style=\"text-align: right;\">\n",
       "      <th></th>\n",
       "      <th>user_id</th>\n",
       "      <th>month</th>\n",
       "      <th>messages_per_month</th>\n",
       "    </tr>\n",
       "  </thead>\n",
       "  <tbody>\n",
       "    <tr>\n",
       "      <th>0</th>\n",
       "      <td>1000</td>\n",
       "      <td>12</td>\n",
       "      <td>11</td>\n",
       "    </tr>\n",
       "    <tr>\n",
       "      <th>1</th>\n",
       "      <td>1001</td>\n",
       "      <td>11</td>\n",
       "      <td>36</td>\n",
       "    </tr>\n",
       "    <tr>\n",
       "      <th>2</th>\n",
       "      <td>1001</td>\n",
       "      <td>8</td>\n",
       "      <td>30</td>\n",
       "    </tr>\n",
       "    <tr>\n",
       "      <th>3</th>\n",
       "      <td>1001</td>\n",
       "      <td>12</td>\n",
       "      <td>44</td>\n",
       "    </tr>\n",
       "    <tr>\n",
       "      <th>4</th>\n",
       "      <td>1001</td>\n",
       "      <td>10</td>\n",
       "      <td>53</td>\n",
       "    </tr>\n",
       "  </tbody>\n",
       "</table>\n",
       "</div>"
      ],
      "text/plain": [
       "   user_id  month  messages_per_month\n",
       "0     1000     12                  11\n",
       "1     1001     11                  36\n",
       "2     1001      8                  30\n",
       "3     1001     12                  44\n",
       "4     1001     10                  53"
      ]
     },
     "execution_count": 23,
     "metadata": {},
     "output_type": "execute_result"
    }
   ],
   "source": [
    "# Calcula el número de mensajes enviados por cada usuario al mes. Guarda el resultado.\n",
    "mensajes['month'] = pd.to_datetime(mensajes['message_date']).dt.month\n",
    "mensajes['messages_per_month'] = mensajes.groupby(['user_id', 'month'])['message_date'].transform('count')\n",
    "messages_per_month = mensajes[['user_id', 'month', 'messages_per_month']].drop_duplicates().dropna()\n",
    "messages_per_month['messages_per_month'] = messages_per_month['messages_per_month'].astype('int')\n",
    "messages_per_month.reset_index(drop=True, inplace=True)\n",
    "messages_per_month.head()\n"
   ]
  },
  {
   "cell_type": "code",
   "execution_count": 24,
   "metadata": {
    "id": "H1AqN2eG0q1H"
   },
   "outputs": [
    {
     "data": {
      "text/html": [
       "<div>\n",
       "<style scoped>\n",
       "    .dataframe tbody tr th:only-of-type {\n",
       "        vertical-align: middle;\n",
       "    }\n",
       "\n",
       "    .dataframe tbody tr th {\n",
       "        vertical-align: top;\n",
       "    }\n",
       "\n",
       "    .dataframe thead th {\n",
       "        text-align: right;\n",
       "    }\n",
       "</style>\n",
       "<table border=\"1\" class=\"dataframe\">\n",
       "  <thead>\n",
       "    <tr style=\"text-align: right;\">\n",
       "      <th></th>\n",
       "      <th>user_id</th>\n",
       "      <th>month</th>\n",
       "      <th>mb_used</th>\n",
       "      <th>gb_used</th>\n",
       "    </tr>\n",
       "  </thead>\n",
       "  <tbody>\n",
       "    <tr>\n",
       "      <th>0</th>\n",
       "      <td>1000</td>\n",
       "      <td>12</td>\n",
       "      <td>1901.47</td>\n",
       "      <td>2</td>\n",
       "    </tr>\n",
       "    <tr>\n",
       "      <th>1</th>\n",
       "      <td>1001</td>\n",
       "      <td>8</td>\n",
       "      <td>6919.15</td>\n",
       "      <td>7</td>\n",
       "    </tr>\n",
       "    <tr>\n",
       "      <th>2</th>\n",
       "      <td>1001</td>\n",
       "      <td>12</td>\n",
       "      <td>19369.18</td>\n",
       "      <td>19</td>\n",
       "    </tr>\n",
       "    <tr>\n",
       "      <th>3</th>\n",
       "      <td>1001</td>\n",
       "      <td>11</td>\n",
       "      <td>18504.30</td>\n",
       "      <td>19</td>\n",
       "    </tr>\n",
       "    <tr>\n",
       "      <th>4</th>\n",
       "      <td>1001</td>\n",
       "      <td>10</td>\n",
       "      <td>22330.49</td>\n",
       "      <td>22</td>\n",
       "    </tr>\n",
       "  </tbody>\n",
       "</table>\n",
       "</div>"
      ],
      "text/plain": [
       "   user_id  month   mb_used  gb_used\n",
       "0     1000     12   1901.47        2\n",
       "1     1001      8   6919.15        7\n",
       "2     1001     12  19369.18       19\n",
       "3     1001     11  18504.30       19\n",
       "4     1001     10  22330.49       22"
      ]
     },
     "execution_count": 24,
     "metadata": {},
     "output_type": "execute_result"
    }
   ],
   "source": [
    "# Calcula el volumen del tráfico de Internet usado por cada usuario al mes. Guarda el resultado.\n",
    "internet['month'] = pd.to_datetime(internet['session_date']).dt.month\n",
    "internet['mb_used'] = internet.groupby(['user_id', 'month'])['mb_used'].transform('sum')\n",
    "internet_traffic = internet[['user_id', 'month', 'mb_used']].drop_duplicates().dropna()\n",
    "internet_traffic['gb_used'] = internet_traffic['mb_used'] / 1024\n",
    "internet_traffic['gb_used'] = internet_traffic['gb_used'].apply(math.ceil)\n",
    "internet_traffic['gb_used'] = internet_traffic['gb_used'].astype('int')\n",
    "internet_traffic.reset_index(drop=True, inplace=True)\n",
    "internet_traffic.head()\n"
   ]
  },
  {
   "cell_type": "markdown",
   "metadata": {
    "id": "VDfYXnj80q1H"
   },
   "source": [
    "[Junta los datos agregados en un DataFrame para que haya un registro que represente lo que consumió un usuario único en un mes determinado.]"
   ]
  },
  {
   "cell_type": "code",
   "execution_count": 25,
   "metadata": {
    "id": "FW99ykyf0q1H"
   },
   "outputs": [
    {
     "name": "stdout",
     "output_type": "stream",
     "text": [
      "<class 'pandas.core.frame.DataFrame'>\n",
      "RangeIndex: 1758 entries, 0 to 1757\n",
      "Data columns (total 7 columns):\n",
      " #   Column              Non-Null Count  Dtype  \n",
      "---  ------              --------------  -----  \n",
      " 0   user_id             1758 non-null   int64  \n",
      " 1   month               1758 non-null   int32  \n",
      " 2   calls_per_month     1758 non-null   int64  \n",
      " 3   duration            1758 non-null   int64  \n",
      " 4   messages_per_month  1758 non-null   int64  \n",
      " 5   mb_used             1758 non-null   float64\n",
      " 6   gb_used             1758 non-null   int64  \n",
      "dtypes: float64(1), int32(1), int64(5)\n",
      "memory usage: 89.4 KB\n"
     ]
    }
   ],
   "source": [
    "# Fusiona los datos de llamadas, minutos, mensajes e Internet con base en user_id y month\n",
    "\n",
    "consumo_mensual_por_usuario = calls_per_month.merge(calls_duration_minutes, on=['user_id', 'month'], how='inner').merge(messages_per_month, on=['user_id', 'month'], how='inner').merge(internet_traffic, on=['user_id', 'month'], how='inner')\n",
    "consumo_mensual_por_usuario.info()\n"
   ]
  },
  {
   "cell_type": "code",
   "execution_count": 26,
   "metadata": {
    "id": "0dNOXHag0q1H"
   },
   "outputs": [
    {
     "name": "stdout",
     "output_type": "stream",
     "text": [
      "<class 'pandas.core.frame.DataFrame'>\n",
      "RangeIndex: 1758 entries, 0 to 1757\n",
      "Data columns (total 20 columns):\n",
      " #   Column                 Non-Null Count  Dtype  \n",
      "---  ------                 --------------  -----  \n",
      " 0   user_id                1758 non-null   int64  \n",
      " 1   month                  1758 non-null   int32  \n",
      " 2   calls_per_month        1758 non-null   int64  \n",
      " 3   duration               1758 non-null   int64  \n",
      " 4   messages_per_month     1758 non-null   int64  \n",
      " 5   mb_used                1758 non-null   float64\n",
      " 6   gb_used                1758 non-null   int64  \n",
      " 7   age                    1758 non-null   int64  \n",
      " 8   city                   1758 non-null   object \n",
      " 9   reg_date               1758 non-null   object \n",
      " 10  plan                   1758 non-null   object \n",
      " 11  churn_date             1758 non-null   object \n",
      " 12  messages_included      1758 non-null   int64  \n",
      " 13  minutes_included       1758 non-null   int64  \n",
      " 14  usd_monthly_pay        1758 non-null   int64  \n",
      " 15  usd_per_gb             1758 non-null   int64  \n",
      " 16  usd_per_message        1758 non-null   float64\n",
      " 17  usd_per_minute         1758 non-null   float64\n",
      " 18  plan_name              1758 non-null   object \n",
      " 19  gb_per_month_included  1758 non-null   int64  \n",
      "dtypes: float64(3), int32(1), int64(11), object(5)\n",
      "memory usage: 267.9+ KB\n"
     ]
    }
   ],
   "source": [
    "\n",
    "usuarios_tarifas = pd.merge(usuarios, tarifas, left_on='plan', right_on='plan_name', how='left')\n",
    "datos_completos = pd.merge(consumo_mensual_por_usuario, usuarios_tarifas, on='user_id', how='left')\n",
    "datos_completos = datos_completos.drop(columns=['first_name', 'last_name', 'mb_per_month_included'])\n",
    "datos_completos.info()\n"
   ]
  },
  {
   "cell_type": "markdown",
   "metadata": {
    "id": "1IwGo4wg0q1I"
   },
   "source": [
    "[Calcula los ingresos mensuales por usuario (resta el límite del paquete gratuito del número total de llamadas, mensajes de texto y datos; multiplica el resultado por el valor del plan de llamadas; añade la tarifa mensual en función del plan de llamadas). Nota: Dadas las condiciones del plan, ¡esto podría no ser tan trivial como un par de líneas! Así que no pasa nada si dedicas algo de tiempo a ello.]"
   ]
  },
  {
   "cell_type": "code",
   "execution_count": 27,
   "metadata": {
    "id": "5FGCf_c60q1I"
   },
   "outputs": [
    {
     "name": "stdout",
     "output_type": "stream",
     "text": [
      "    user_id  month  calls_per_month  duration  messages_per_month   mb_used  \\\n",
      "0      1000     12               16       124                  11   1901.47   \n",
      "1      1001      9               38       315                  44  13314.82   \n",
      "2      1001     10               47       393                  53  22330.49   \n",
      "3      1001     12               46       412                  44  19369.18   \n",
      "4      1001     11               49       426                  36  18504.30   \n",
      "5      1001      8               22       182                  30   6919.15   \n",
      "6      1002     11               48       386                  32  19345.08   \n",
      "7      1002     12               38       384                  41  14396.24   \n",
      "8      1002     10                8        59                  15   6552.01   \n",
      "9      1003     12              118      1104                  50  27044.14   \n",
      "10     1004     11               45       476                  25  21850.78   \n",
      "11     1004      8               42       354                  25  27981.74   \n",
      "12     1004      7               45       381                  26  24516.62   \n",
      "13     1004      6               33       275                  18  20672.82   \n",
      "14     1004     12               43       427                  31  21389.29   \n",
      "15     1004     10               47       365                  24  14541.63   \n",
      "16     1004      9               32       301                  21  18852.72   \n",
      "17     1004      5               19       193                   7   6547.21   \n",
      "18     1005     12               50       496                  11  17140.17   \n",
      "19     1006     12                7        59                 139  32118.82   \n",
      "20     1006     11                2        10                  15   2068.37   \n",
      "21     1007     11               61       524                  48  24334.00   \n",
      "22     1007     10               70       645                  59  37885.63   \n",
      "23     1007      9               49       399                  47  28123.95   \n",
      "24     1007     12               71       617                  50  29069.28   \n",
      "25     1007      8               56       456                  51  24439.88   \n",
      "26     1008     12               65       634                  26  14689.33   \n",
      "27     1008     11               50       446                  37  23676.72   \n",
      "28     1008     10               54       476                  21  17106.99   \n",
      "29     1011      9               55       484                  60  16638.46   \n",
      "\n",
      "    gb_used  age                                    city    reg_date  ...  \\\n",
      "0         2   45   Atlanta-Sandy Springs-Roswell, GA MSA  2018-12-24  ...   \n",
      "1        14   28         Seattle-Tacoma-Bellevue, WA MSA  2018-08-13  ...   \n",
      "2        22   28         Seattle-Tacoma-Bellevue, WA MSA  2018-08-13  ...   \n",
      "3        19   28         Seattle-Tacoma-Bellevue, WA MSA  2018-08-13  ...   \n",
      "4        19   28         Seattle-Tacoma-Bellevue, WA MSA  2018-08-13  ...   \n",
      "5         7   28         Seattle-Tacoma-Bellevue, WA MSA  2018-08-13  ...   \n",
      "6        19   36    Las Vegas-Henderson-Paradise, NV MSA  2018-10-21  ...   \n",
      "7        15   36    Las Vegas-Henderson-Paradise, NV MSA  2018-10-21  ...   \n",
      "8         7   36    Las Vegas-Henderson-Paradise, NV MSA  2018-10-21  ...   \n",
      "9        27   52                           Tulsa, OK MSA  2018-01-28  ...   \n",
      "10       22   40         Seattle-Tacoma-Bellevue, WA MSA  2018-05-23  ...   \n",
      "11       28   40         Seattle-Tacoma-Bellevue, WA MSA  2018-05-23  ...   \n",
      "12       24   40         Seattle-Tacoma-Bellevue, WA MSA  2018-05-23  ...   \n",
      "13       21   40         Seattle-Tacoma-Bellevue, WA MSA  2018-05-23  ...   \n",
      "14       21   40         Seattle-Tacoma-Bellevue, WA MSA  2018-05-23  ...   \n",
      "15       15   40         Seattle-Tacoma-Bellevue, WA MSA  2018-05-23  ...   \n",
      "16       19   40         Seattle-Tacoma-Bellevue, WA MSA  2018-05-23  ...   \n",
      "17        7   40         Seattle-Tacoma-Bellevue, WA MSA  2018-05-23  ...   \n",
      "18       17   31     Dallas-Fort Worth-Arlington, TX MSA  2018-11-29  ...   \n",
      "19       32   73  San Francisco-Oakland-Berkeley, CA MSA  2018-11-27  ...   \n",
      "20        3   73  San Francisco-Oakland-Berkeley, CA MSA  2018-11-27  ...   \n",
      "21       24   42           Grand Rapids-Kentwood, MI MSA  2018-07-11  ...   \n",
      "22       37   42           Grand Rapids-Kentwood, MI MSA  2018-07-11  ...   \n",
      "23       28   42           Grand Rapids-Kentwood, MI MSA  2018-07-11  ...   \n",
      "24       29   42           Grand Rapids-Kentwood, MI MSA  2018-07-11  ...   \n",
      "25       24   42           Grand Rapids-Kentwood, MI MSA  2018-07-11  ...   \n",
      "26       15   53       Orlando-Kissimmee-Sanford, FL MSA  2018-08-03  ...   \n",
      "27       24   53       Orlando-Kissimmee-Sanford, FL MSA  2018-08-03  ...   \n",
      "28       17   53       Orlando-Kissimmee-Sanford, FL MSA  2018-08-03  ...   \n",
      "29       17   73                Cleveland-Elyria, OH MSA  2018-01-18  ...   \n",
      "\n",
      "   usd_monthly_pay usd_per_gb  usd_per_message  usd_per_minute  plan_name  \\\n",
      "0               70          7             0.01            0.01   ultimate   \n",
      "1               20         10             0.03            0.03       surf   \n",
      "2               20         10             0.03            0.03       surf   \n",
      "3               20         10             0.03            0.03       surf   \n",
      "4               20         10             0.03            0.03       surf   \n",
      "5               20         10             0.03            0.03       surf   \n",
      "6               20         10             0.03            0.03       surf   \n",
      "7               20         10             0.03            0.03       surf   \n",
      "8               20         10             0.03            0.03       surf   \n",
      "9               20         10             0.03            0.03       surf   \n",
      "10              20         10             0.03            0.03       surf   \n",
      "11              20         10             0.03            0.03       surf   \n",
      "12              20         10             0.03            0.03       surf   \n",
      "13              20         10             0.03            0.03       surf   \n",
      "14              20         10             0.03            0.03       surf   \n",
      "15              20         10             0.03            0.03       surf   \n",
      "16              20         10             0.03            0.03       surf   \n",
      "17              20         10             0.03            0.03       surf   \n",
      "18              20         10             0.03            0.03       surf   \n",
      "19              70          7             0.01            0.01   ultimate   \n",
      "20              70          7             0.01            0.01   ultimate   \n",
      "21              20         10             0.03            0.03       surf   \n",
      "22              20         10             0.03            0.03       surf   \n",
      "23              20         10             0.03            0.03       surf   \n",
      "24              20         10             0.03            0.03       surf   \n",
      "25              20         10             0.03            0.03       surf   \n",
      "26              70          7             0.01            0.01   ultimate   \n",
      "27              70          7             0.01            0.01   ultimate   \n",
      "28              70          7             0.01            0.01   ultimate   \n",
      "29              70          7             0.01            0.01   ultimate   \n",
      "\n",
      "    gb_per_month_included  extra_minutes  extra_gb extra_messages  \\\n",
      "0                      30              0         0              0   \n",
      "1                      15              0         0              0   \n",
      "2                      15              0         7              3   \n",
      "3                      15              0         4              0   \n",
      "4                      15              0         4              0   \n",
      "5                      15              0         0              0   \n",
      "6                      15              0         4              0   \n",
      "7                      15              0         0              0   \n",
      "8                      15              0         0              0   \n",
      "9                      15            604        12              0   \n",
      "10                     15              0         7              0   \n",
      "11                     15              0        13              0   \n",
      "12                     15              0         9              0   \n",
      "13                     15              0         6              0   \n",
      "14                     15              0         6              0   \n",
      "15                     15              0         0              0   \n",
      "16                     15              0         4              0   \n",
      "17                     15              0         0              0   \n",
      "18                     15              0         2              0   \n",
      "19                     30              0         2              0   \n",
      "20                     30              0         0              0   \n",
      "21                     15             24         9              0   \n",
      "22                     15            145        22              9   \n",
      "23                     15              0        13              0   \n",
      "24                     15            117        14              0   \n",
      "25                     15              0         9              1   \n",
      "26                     30              0         0              0   \n",
      "27                     30              0         0              0   \n",
      "28                     30              0         0              0   \n",
      "29                     30              0         0              0   \n",
      "\n",
      "    total_income  \n",
      "0          70.00  \n",
      "1          20.00  \n",
      "2          90.09  \n",
      "3          60.00  \n",
      "4          60.00  \n",
      "5          20.00  \n",
      "6          60.00  \n",
      "7          20.00  \n",
      "8          20.00  \n",
      "9         158.12  \n",
      "10         90.00  \n",
      "11        150.00  \n",
      "12        110.00  \n",
      "13         80.00  \n",
      "14         80.00  \n",
      "15         20.00  \n",
      "16         60.00  \n",
      "17         20.00  \n",
      "18         40.00  \n",
      "19         84.00  \n",
      "20         70.00  \n",
      "21        110.72  \n",
      "22        244.62  \n",
      "23        150.00  \n",
      "24        163.51  \n",
      "25        110.03  \n",
      "26         70.00  \n",
      "27         70.00  \n",
      "28         70.00  \n",
      "29         70.00  \n",
      "\n",
      "[30 rows x 24 columns]\n"
     ]
    }
   ],
   "source": [
    "# Calcula el ingreso mensual para cada usuario\n",
    "\n",
    "datos_completos['extra_minutes'] = (datos_completos['duration'] - datos_completos['minutes_included']).clip(lower=0)\n",
    "datos_completos['extra_gb'] = (datos_completos['gb_used'] - datos_completos['gb_per_month_included']).clip(lower=0)\n",
    "datos_completos['extra_messages'] = (datos_completos['messages_per_month'] - datos_completos['messages_included']).clip(lower=0)\n",
    "datos_completos['total_income'] = datos_completos['usd_monthly_pay'] + (datos_completos['extra_minutes'] *datos_completos['usd_per_minute']) + (datos_completos['extra_gb'] * datos_completos['usd_per_gb']) + (datos_completos['extra_messages'] * datos_completos['usd_per_message'])\n",
    "print(datos_completos.head(30))\n"
   ]
  },
  {
   "cell_type": "markdown",
   "metadata": {
    "id": "-jtyHzJb0q1I"
   },
   "source": [
    "## Estudia el comportamiento de usuario"
   ]
  },
  {
   "cell_type": "markdown",
   "metadata": {
    "id": "AxU3Y0N70q1J"
   },
   "source": [
    "[Calcula algunas estadísticas descriptivas para los datos agregados y fusionados que nos sean útiles y que muestren un panorama general captado por los datos. Dibuja gráficos útiles para facilitar la comprensión. Dado que la tarea principal es comparar las tarifas y decidir cuál es más rentable, las estadísticas y gráficas deben calcularse por tarifa.]\n",
    "\n",
    "[En los comentarios hallarás pistas relevantes para las llamadas, pero no las hay para los mensajes e Internet. Sin embargo, el principio del estudio estadístico que se aplica para ellos es el mismo que para las llamadas.]"
   ]
  },
  {
   "cell_type": "markdown",
   "metadata": {
    "id": "vtW4CJEe0q1J"
   },
   "source": [
    "### Llamadas"
   ]
  },
  {
   "cell_type": "code",
   "execution_count": 28,
   "metadata": {
    "id": "Jf5v5--k0q1J"
   },
   "outputs": [
    {
     "name": "stderr",
     "output_type": "stream",
     "text": [
      "C:\\Users\\USER\\AppData\\Local\\Temp\\ipykernel_26564\\1621948529.py:6: FutureWarning: Setting an item of incompatible dtype is deprecated and will raise an error in a future version of pandas. Value '8.875907340781417' has dtype incompatible with int64, please explicitly cast to a compatible dtype first.\n",
      "  datos_completos.loc[datos_completos['duration'] > 1000, 'duration'] = average_duration\n"
     ]
    },
    {
     "data": {
      "image/png": "[encoded data removed]",
      "text/plain": [
       "<Figure size 640x480 with 1 Axes>"
      ]
     },
     "metadata": {},
     "output_type": "display_data"
    },
    {
     "data": {
      "image/png": "[encoded data removed]",
      "text/plain": [
       "<Figure size 640x480 with 1 Axes>"
      ]
     },
     "metadata": {},
     "output_type": "display_data"
    }
   ],
   "source": [
    "# Compara la duración promedio de llamadas por cada plan y por cada mes. Traza un gráfico de barras para visualizarla.\n",
    "datos_completos = datos_completos[datos_completos['duration'] > 0].copy()\n",
    "datos_completos['duration'] = datos_completos['duration'].apply(math.ceil)\n",
    "datos_completos['duration'].astype('int')\n",
    "datos_completos.reset_index(drop=True, inplace=True)\n",
    "datos_completos.loc[datos_completos['duration'] > 1000, 'duration'] = average_duration\n",
    "average_duration = datos_completos.groupby(['plan_name', 'month'])['duration'].mean().reset_index()\n",
    "for plan in average_duration['plan_name'].unique():\n",
    "    sns.barplot(data=average_duration[average_duration['plan_name'] == plan], x='month', y='duration')\n",
    "    plt.title(f'Duración promedio de llamadas para el plan {plan}')\n",
    "    plt.xlabel('Mes')\n",
    "    plt.ylabel('Duración promedio de llamadas (minutos)')\n",
    "    plt.xticks(rotation=45)\n",
    "    plt.show()\n"
   ]
  },
  {
   "cell_type": "code",
   "execution_count": 29,
   "metadata": {
    "id": "QoLqW1S_0q1J"
   },
   "outputs": [
    {
     "data": {
      "image/png": "[encoded data removed]",
      "text/plain": [
       "<Figure size 640x480 with 1 Axes>"
      ]
     },
     "metadata": {},
     "output_type": "display_data"
    },
    {
     "data": {
      "image/png": "[encoded data removed]",
      "text/plain": [
       "<Figure size 640x480 with 1 Axes>"
      ]
     },
     "metadata": {},
     "output_type": "display_data"
    }
   ],
   "source": [
    "# Compara el número de minutos mensuales que necesitan los usuarios de cada plan. Traza un histograma.\n",
    "\n",
    "\n",
    "plans = datos_completos['plan_name'].unique()\n",
    "for plan in plans:\n",
    "    sns.histplot(data=datos_completos[datos_completos['plan_name'] == plan], x='duration', bins=30, kde=True)\n",
    "    plt.title(f'Histograma de minutos mensuales para el plan {plan}')\n",
    "    plt.xlabel('Minutos mensuales')\n",
    "    plt.ylabel('Frecuencia')\n",
    "    plt.show()\n"
   ]
  },
  {
   "cell_type": "markdown",
   "metadata": {
    "id": "bLS9T8OH0q1K"
   },
   "source": [
    "[Calcula la media y la variable de la duración de las llamadas para averiguar si los usuarios de los distintos planes se comportan de forma diferente al realizar sus llamadas.]"
   ]
  },
  {
   "cell_type": "code",
   "execution_count": 30,
   "metadata": {
    "id": "oSndbAnt0q1K"
   },
   "outputs": [
    {
     "name": "stdout",
     "output_type": "stream",
     "text": [
      "412.37012017882813\n",
      "47920.97433786556\n",
      "218.90859813599275\n",
      "  plan_name  mean_duration  var_duration  std_duration\n",
      "0      surf     414.760089  46729.067665    216.169072\n",
      "1  ultimate     407.490945  50403.953142    224.508247\n"
     ]
    }
   ],
   "source": [
    "# Calcula la media y la varianza de la duración mensual de llamadas.    LE PEDI TAMBIEN LA DESVIACION ESTANDAR PARA PODER ENTENDER LOS DATOS MEJOR, LA VARIANZA SOLA ME PARECIA UN DATO EXTREMO QUE TENIA QUE ENTENDER EN CONTEXTO, ASI LA REGLA DE LOS TRES SIGMAS ME PODRIA AYUDAR A ENTENDER SI LOS VALORES ERAN LOS CORRECTOS.\n",
    "\n",
    "\n",
    "\n",
    "mean_duration = datos_completos['duration'].mean()\n",
    "var_duration = datos_completos['duration'].var()\n",
    "std_duration = datos_completos['duration'].std()\n",
    "\n",
    "stats_by_plan = datos_completos.groupby('plan_name')['duration'].agg(['mean', 'var', 'std']).reset_index()\n",
    "stats_by_plan.columns = ['plan_name', 'mean_duration', 'var_duration', 'std_duration']\n",
    "\n",
    "print(mean_duration)\n",
    "print(var_duration)\n",
    "print(std_duration)\n",
    "print(stats_by_plan)\n"
   ]
  },
  {
   "cell_type": "code",
   "execution_count": 31,
   "metadata": {
    "id": "nZzoRUKc0q1K"
   },
   "outputs": [
    {
     "data": {
      "image/png": "[encoded data removed]",
      "text/plain": [
       "<Figure size 640x480 with 1 Axes>"
      ]
     },
     "metadata": {},
     "output_type": "display_data"
    },
    {
     "data": {
      "text/plain": [
       "<Figure size 1000x600 with 0 Axes>"
      ]
     },
     "metadata": {},
     "output_type": "display_data"
    },
    {
     "data": {
      "image/png": "[encoded data removed]",
      "text/plain": [
       "<Figure size 640x480 with 1 Axes>"
      ]
     },
     "metadata": {},
     "output_type": "display_data"
    },
    {
     "data": {
      "text/plain": [
       "<Figure size 1000x600 with 0 Axes>"
      ]
     },
     "metadata": {},
     "output_type": "display_data"
    }
   ],
   "source": [
    "# Traza un diagrama de caja para visualizar la distribución de la duración mensual de llamadas\n",
    "\n",
    "\n",
    "for plan in datos_completos['plan_name'].unique():\n",
    "    sns.boxplot(data=datos_completos[datos_completos['plan_name'] == plan], x='duration')\n",
    "    plt.title(f'Diagrama de caja de la duracion mensual de llamadas para el plan {plan}')\n",
    "    plt.xlabel('Duracion mensual de llamadas (minutos)')\n",
    "    plt.figure(figsize=(10, 6))\n",
    "    plt.show()\n"
   ]
  },
  {
   "cell_type": "markdown",
   "metadata": {
    "id": "r627zBO50q1K"
   },
   "source": [
    "La mayoría de los minutos consumidos se estiman en el promedio arriba de 400 por mes en ambos planes, ninguno en promedio superando por mucho lo que incluye el plan surf o ultimate, pero, si quisieramos entender qué plan nos deja más, hay que pbservar que el plan ultimate nos está dando 3000 minutos, y ningún consumidor, aún con los datos extremos que llegaron a presentarse superaron los 3000 minutos al mes salvo un usuario en específico. \n",
    "\n",
    "Por otro lado podemos observar que en los historiogramas los comportamientos son semejantes, y lo que cambia esta en el extremos, que probablemente sea ahí donde la empresa gana, el problema con estos datos extremos es que sí representan una ganancia para la empresa, y es importante tomar en cuenta que aquí los datos extremos sí son de ayuda para entender qué plan nos da más rendimiento, podríamos tratar de eliminar algún dato extremos para hacerlo más relajado, pero el resultado serría el mismo, el plan Surf parece dar mucho más rendimiento, pero vamos a corroborar con el tema más adelante. \n"
   ]
  },
  {
   "cell_type": "markdown",
   "metadata": {
    "id": "8idKy8Wh0q1L"
   },
   "source": [
    "### Mensajes"
   ]
  },
  {
   "cell_type": "code",
   "execution_count": 32,
   "metadata": {
    "id": "NXLxiTit0q1L"
   },
   "outputs": [
    {
     "name": "stderr",
     "output_type": "stream",
     "text": [
      "C:\\Users\\USER\\AppData\\Local\\Temp\\ipykernel_26564\\531657517.py:7: FutureWarning: Setting an item of incompatible dtype is deprecated and will raise an error in a future version of pandas. Value '[47.92982456         nan         nan         nan         nan         nan\n",
      "         nan         nan         nan         nan         nan         nan\n",
      "         nan         nan         nan         nan         nan         nan\n",
      "         nan         nan         nan         nan         nan         nan\n",
      "         nan         nan         nan         nan         nan         nan\n",
      "         nan         nan         nan         nan         nan         nan\n",
      "         nan         nan         nan         nan         nan         nan\n",
      "         nan         nan]' has dtype incompatible with int64, please explicitly cast to a compatible dtype first.\n",
      "  datos_completos.loc[datos_completos['messages_per_month'] > 125, 'messages_per_month'] = average_messages\n"
     ]
    },
    {
     "data": {
      "image/png": "[encoded data removed]",
      "text/plain": [
       "<Figure size 640x480 with 1 Axes>"
      ]
     },
     "metadata": {},
     "output_type": "display_data"
    },
    {
     "data": {
      "image/png": "[encoded data removed]",
      "text/plain": [
       "<Figure size 640x480 with 1 Axes>"
      ]
     },
     "metadata": {},
     "output_type": "display_data"
    }
   ],
   "source": [
    "# Comprara el número de mensajes que tienden a enviar cada mes los usuarios de cada plan\n",
    "datos_completos = datos_completos[datos_completos['messages_per_month'] > 0].copy()\n",
    "datos_completos['messages_per_month'] = datos_completos['messages_per_month'].apply(math.ceil)\n",
    "datos_completos['messages_per_month'].astype('int')\n",
    "datos_completos.reset_index(drop=True, inplace=True)\n",
    "average_messages = datos_completos.groupby(['plan_name', 'month'])['messages_per_month'].mean().reset_index()\n",
    "datos_completos.loc[datos_completos['messages_per_month'] > 125, 'messages_per_month'] = average_messages\n",
    "for plan in average_messages['plan_name'].unique():\n",
    "    sns.barplot(data=average_messages[average_messages['plan_name'] == plan], x='month', y='messages_per_month')\n",
    "    plt.title(f'Promedio de mensajes para el plan {plan}')\n",
    "    plt.xlabel('Mes')\n",
    "    plt.ylabel('Mensajes mandados promedio')\n",
    "    plt.xticks(rotation=45)\n",
    "    plt.show()\n"
   ]
  },
  {
   "cell_type": "code",
   "execution_count": 33,
   "metadata": {
    "id": "GRI_R7xF0q1L"
   },
   "outputs": [
    {
     "data": {
      "image/png": "[encoded data removed]",
      "text/plain": [
       "<Figure size 640x480 with 1 Axes>"
      ]
     },
     "metadata": {},
     "output_type": "display_data"
    },
    {
     "data": {
      "image/png": "[encoded data removed]",
      "text/plain": [
       "<Figure size 640x480 with 1 Axes>"
      ]
     },
     "metadata": {},
     "output_type": "display_data"
    }
   ],
   "source": [
    "# Compara la cantidad de tráfico de Internet consumido por usuarios por plan\n",
    "plans = datos_completos['plan_name'].unique()\n",
    "for plan in plans:\n",
    "    sns.histplot(data=datos_completos[datos_completos['plan_name'] == plan], x='messages_per_month', bins=30, kde=True)\n",
    "    plt.title(f'Histograma de mensajes mensuales para el plan {plan}')\n",
    "    plt.xlabel('Mensajes mensuales')\n",
    "    plt.ylabel('Frecuencia')\n",
    "    plt.show()\n"
   ]
  },
  {
   "cell_type": "code",
   "execution_count": 34,
   "metadata": {
    "id": "dtFwCGAp0q1M"
   },
   "outputs": [
    {
     "name": "stdout",
     "output_type": "stream",
     "text": [
      "39.04952176359266\n",
      "773.6461702987186\n",
      "27.814495686578944\n",
      "  plan_name  mean_messages_per_month  var_messages_per_month  \\\n",
      "0      surf                36.742188              730.255803   \n",
      "1  ultimate                43.770746              830.645647   \n",
      "\n",
      "   std_messages_per_month  \n",
      "0               27.023246  \n",
      "1               28.820924  \n"
     ]
    }
   ],
   "source": [
    "mean_messages_per_month = datos_completos['messages_per_month'].mean()\n",
    "var_messages_per_month = datos_completos['messages_per_month'].var()\n",
    "std_messages_per_month = datos_completos['messages_per_month'].std()\n",
    "\n",
    "stats_by_plan_messages = datos_completos.groupby('plan_name')['messages_per_month'].agg(['mean', 'var', 'std']).reset_index()\n",
    "stats_by_plan_messages.columns = ['plan_name', 'mean_messages_per_month', 'var_messages_per_month', 'std_messages_per_month']\n",
    "\n",
    "print(mean_messages_per_month)\n",
    "print(var_messages_per_month)\n",
    "print(std_messages_per_month)\n",
    "print(stats_by_plan_messages)"
   ]
  },
  {
   "cell_type": "code",
   "execution_count": 35,
   "metadata": {},
   "outputs": [
    {
     "data": {
      "image/png": "[encoded data removed]",
      "text/plain": [
       "<Figure size 640x480 with 1 Axes>"
      ]
     },
     "metadata": {},
     "output_type": "display_data"
    },
    {
     "data": {
      "text/plain": [
       "<Figure size 1000x600 with 0 Axes>"
      ]
     },
     "metadata": {},
     "output_type": "display_data"
    },
    {
     "data": {
      "image/png": "[encoded data removed]",
      "text/plain": [
       "<Figure size 640x480 with 1 Axes>"
      ]
     },
     "metadata": {},
     "output_type": "display_data"
    },
    {
     "data": {
      "text/plain": [
       "<Figure size 1000x600 with 0 Axes>"
      ]
     },
     "metadata": {},
     "output_type": "display_data"
    }
   ],
   "source": [
    "for plan in datos_completos['plan_name'].unique():\n",
    "    sns.boxplot(data=datos_completos[datos_completos['plan_name'] == plan], x='messages_per_month')\n",
    "    plt.title(f'Diagrama de caja de los mensajes mandados mensualmente para el plan {plan}')\n",
    "    plt.xlabel('Mensajes mandados mensualmente')\n",
    "    plt.figure(figsize=(10, 6))\n",
    "    plt.show()"
   ]
  },
  {
   "cell_type": "markdown",
   "metadata": {
    "id": "390SSL480q1M"
   },
   "source": [
    "El sesgo es claro hacia la derecha, y en ambos casos podemos observar lo que tenemos en frente es un claro caso donde en el plan Surf parecen dar más rendimientos, y los datos extremos son más extremos, es curioso verlo de esta manera, los datos extremos nos ayudan a entender qué plan rinde un poco más, podríamos eliminarlos y encargarnos de analisarlo en terminos más reales, pero el resultado seguiría siendo el mismo, los mensjaes en Surf van a dar más rendimientos"
   ]
  },
  {
   "cell_type": "markdown",
   "metadata": {
    "id": "42YSypXz0q1M"
   },
   "source": [
    "### Internet"
   ]
  },
  {
   "cell_type": "code",
   "execution_count": 36,
   "metadata": {
    "id": "lSuKPtjh0q1M"
   },
   "outputs": [
    {
     "data": {
      "image/png": "[encoded data removed]",
      "text/plain": [
       "<Figure size 640x480 with 1 Axes>"
      ]
     },
     "metadata": {},
     "output_type": "display_data"
    },
    {
     "data": {
      "image/png": "[encoded data removed]",
      "text/plain": [
       "<Figure size 640x480 with 1 Axes>"
      ]
     },
     "metadata": {},
     "output_type": "display_data"
    }
   ],
   "source": [
    "datos_completos = datos_completos[datos_completos['gb_used'] > 0].copy()\n",
    "datos_completos['gb_used'] = datos_completos['gb_used'].apply(math.ceil)\n",
    "datos_completos['gb_used'].astype('int')\n",
    "datos_completos.reset_index(drop=True, inplace=True)\n",
    "average_gb_used = datos_completos.groupby(['plan_name', 'month'])['gb_used'].mean().reset_index()\n",
    "datos_completos.loc[datos_completos['gb_used'] > 35, 'gb_used'] = average_messages\n",
    "for plan in average_gb_used['plan_name'].unique():\n",
    "    sns.barplot(data=average_gb_used[average_gb_used['plan_name'] == plan], x='month', y='gb_used')\n",
    "    plt.title(f'Promedio de gb consumidos para el plan {plan}')\n",
    "    plt.xlabel('Mes')\n",
    "    plt.ylabel('gb consumidos promedio')\n",
    "    plt.xticks(rotation=45)\n",
    "    plt.show()"
   ]
  },
  {
   "cell_type": "code",
   "execution_count": 37,
   "metadata": {
    "id": "wnh8jYXi0q1N"
   },
   "outputs": [
    {
     "data": {
      "image/png": "[encoded data removed]",
      "text/plain": [
       "<Figure size 640x480 with 1 Axes>"
      ]
     },
     "metadata": {},
     "output_type": "display_data"
    },
    {
     "data": {
      "image/png": "[encoded data removed]",
      "text/plain": [
       "<Figure size 640x480 with 1 Axes>"
      ]
     },
     "metadata": {},
     "output_type": "display_data"
    }
   ],
   "source": [
    "plans = datos_completos['plan_name'].unique()\n",
    "for plan in plans:\n",
    "    sns.histplot(data=datos_completos[datos_completos['plan_name'] == plan], x='gb_used', bins=30, kde=True)\n",
    "    plt.title(f'Histograma de gb consumidos por mes para el plan {plan}')\n",
    "    plt.xlabel('gb consumidos mensuales')\n",
    "    plt.ylabel('Frecuencia')\n",
    "    plt.show()"
   ]
  },
  {
   "cell_type": "code",
   "execution_count": 38,
   "metadata": {
    "id": "5VlyJ9ry0q1N"
   },
   "outputs": [
    {
     "name": "stdout",
     "output_type": "stream",
     "text": [
      "16.48548199767712\n",
      "46.289446281198096\n",
      "6.803634784524967\n",
      "  plan_name       mean        var       std\n",
      "0      surf  16.350000  47.456342  6.888856\n",
      "1  ultimate  16.765125  43.844913  6.621549\n"
     ]
    }
   ],
   "source": [
    "mean_gb_used = datos_completos['gb_used'].mean()\n",
    "var_gb_used = datos_completos['gb_used'].var()\n",
    "std_gb_used = datos_completos['gb_used'].std()\n",
    "\n",
    "stats_by_plan_gb_used = datos_completos.groupby('plan_name')['gb_used'].agg(['mean', 'var', 'std']).reset_index()\n",
    "stats_by_plan.columns = ['plan_name', 'mean_gb_used', 'var_gb_used', 'std_gb_used']\n",
    "\n",
    "print(mean_gb_used)\n",
    "print(var_gb_used)\n",
    "print(std_gb_used)\n",
    "print(stats_by_plan_gb_used)"
   ]
  },
  {
   "cell_type": "code",
   "execution_count": 39,
   "metadata": {},
   "outputs": [
    {
     "data": {
      "image/png": "[encoded data removed]",
      "text/plain": [
       "<Figure size 640x480 with 1 Axes>"
      ]
     },
     "metadata": {},
     "output_type": "display_data"
    },
    {
     "data": {
      "text/plain": [
       "<Figure size 1000x600 with 0 Axes>"
      ]
     },
     "metadata": {},
     "output_type": "display_data"
    },
    {
     "data": {
      "image/png": "[encoded data removed]",
      "text/plain": [
       "<Figure size 640x480 with 1 Axes>"
      ]
     },
     "metadata": {},
     "output_type": "display_data"
    },
    {
     "data": {
      "text/plain": [
       "<Figure size 1000x600 with 0 Axes>"
      ]
     },
     "metadata": {},
     "output_type": "display_data"
    }
   ],
   "source": [
    "for plan in datos_completos['plan_name'].unique():\n",
    "    sns.boxplot(data=datos_completos[datos_completos['plan_name'] == plan], x='gb_used')\n",
    "    plt.title(f'Diagrama de caja de los gb consumidos para el plan {plan}')\n",
    "    plt.xlabel('Datos consumidos por mes (gb)')\n",
    "    plt.figure(figsize=(10, 6))\n",
    "    plt.show()"
   ]
  },
  {
   "cell_type": "markdown",
   "metadata": {
    "id": "UN9zwuMP0q1N"
   },
   "source": [
    "Los promedios de consumo de GB están semejantes, pero podemos observar nuevamente que los datos extremos nos ayudan a entender la tendencia de lo que está pasando. El sesgo a la derecha nos ayuda a entender que en los datos de ultimate pocos superan los 30GB pero tenemos algunos que llegan hasta casi 50 de consumo, siendo que sí nos darán rendimiento de consumo extra pero que no son tan fuertes estos consumos.\n",
    "\n",
    "En el dato de GB en Surf vemos que hay un dato extremo que consumió casi 70 GB pero es un solo dato, tenemos que la tendencia de comportamiento es semejante entre los 50 GB para abajo, dejando en claro que el plan Surf nos va a dar mucho rendimiento por exceso de consumo, ya que el promedio de usuarios consumen más de lo que su plan incluye"
   ]
  },
  {
   "cell_type": "markdown",
   "metadata": {
    "id": "tCijq3260q1N"
   },
   "source": [
    "## Ingreso"
   ]
  },
  {
   "cell_type": "markdown",
   "metadata": {
    "id": "9nq5IAcy0q1O"
   },
   "source": [
    "[Del mismo modo que has estudiado el comportamiento de los usuarios, describe estadísticamente los ingresos de los planes.]"
   ]
  },
  {
   "cell_type": "code",
   "execution_count": 40,
   "metadata": {
    "id": "tz-dq_V00q1O"
   },
   "outputs": [
    {
     "data": {
      "image/png": "[encoded data removed]",
      "text/plain": [
       "<Figure size 640x480 with 1 Axes>"
      ]
     },
     "metadata": {},
     "output_type": "display_data"
    },
    {
     "data": {
      "image/png": "[encoded data removed]",
      "text/plain": [
       "<Figure size 640x480 with 1 Axes>"
      ]
     },
     "metadata": {},
     "output_type": "display_data"
    }
   ],
   "source": [
    "datos_completos = datos_completos[datos_completos['total_income'] > 0].copy()\n",
    "datos_completos['total_income'] = datos_completos['total_income'].apply(math.ceil)\n",
    "datos_completos['total_income'].astype('int')\n",
    "datos_completos.reset_index(drop=True, inplace=True)\n",
    "average_income = datos_completos.groupby(['plan_name', 'month'])['total_income'].mean().reset_index()\n",
    "datos_completos.loc[datos_completos['total_income'] > 170, 'total_income'] = average_messages\n",
    "\n",
    "for plan in average_income['plan_name'].unique():\n",
    "    sns.barplot(data=average_income[average_income['plan_name'] == plan], x='month', y='total_income')\n",
    "    plt.title(f'Promedio ganancias producipo por el plan {plan}')\n",
    "    plt.xlabel('Mes')\n",
    "    plt.ylabel('ganancias promedio')\n",
    "    plt.xticks(rotation=45)\n",
    "    plt.show()"
   ]
  },
  {
   "cell_type": "code",
   "execution_count": 41,
   "metadata": {
    "id": "0Y1v8ZUz0q1P"
   },
   "outputs": [
    {
     "data": {
      "image/png": "[encoded data removed]",
      "text/plain": [
       "<Figure size 640x480 with 1 Axes>"
      ]
     },
     "metadata": {},
     "output_type": "display_data"
    },
    {
     "data": {
      "image/png": "[encoded data removed]",
      "text/plain": [
       "<Figure size 640x480 with 1 Axes>"
      ]
     },
     "metadata": {},
     "output_type": "display_data"
    }
   ],
   "source": [
    "plans = datos_completos['plan_name'].unique()\n",
    "for plan in plans:\n",
    "    sns.histplot(data=datos_completos[datos_completos['plan_name'] == plan], x='total_income', bins=30, kde=True)\n",
    "    plt.title(f'Histograma de ingresos mensuales para el plan {plan}')\n",
    "    plt.xlabel('Ingresos mensuales')\n",
    "    plt.ylabel('Frecuencia')\n",
    "    plt.show()"
   ]
  },
  {
   "cell_type": "code",
   "execution_count": 42,
   "metadata": {
    "id": "bYmwxyVh0q1P"
   },
   "outputs": [
    {
     "name": "stdout",
     "output_type": "stream",
     "text": [
      "59.19847328244275\n",
      "1040.8971304527229\n",
      "32.26293741203244\n",
      "  plan_name       mean          var        std\n",
      "0      surf  52.606572  1394.569521  37.343936\n",
      "1  ultimate  72.062392   101.225267  10.061077\n"
     ]
    }
   ],
   "source": [
    "mean_total_income = datos_completos['total_income'].mean()\n",
    "var_total_income = datos_completos['total_income'].var()\n",
    "std_total_income = datos_completos['total_income'].std()\n",
    "\n",
    "stats_by_plan_total_income = datos_completos.groupby('plan_name')['total_income'].agg(['mean', 'var', 'std']).reset_index()\n",
    "stats_by_plan.columns = ['plan_name', 'mean_total_income', 'var_total_income', 'std_total_income']\n",
    "\n",
    "print(mean_total_income)\n",
    "print(var_total_income)\n",
    "print(std_total_income)\n",
    "print(stats_by_plan_total_income)"
   ]
  },
  {
   "cell_type": "code",
   "execution_count": 43,
   "metadata": {},
   "outputs": [
    {
     "data": {
      "image/png": "[encoded data removed]",
      "text/plain": [
       "<Figure size 640x480 with 1 Axes>"
      ]
     },
     "metadata": {},
     "output_type": "display_data"
    },
    {
     "data": {
      "text/plain": [
       "<Figure size 1000x600 with 0 Axes>"
      ]
     },
     "metadata": {},
     "output_type": "display_data"
    },
    {
     "data": {
      "image/png": "[encoded data removed]",
      "text/plain": [
       "<Figure size 640x480 with 1 Axes>"
      ]
     },
     "metadata": {},
     "output_type": "display_data"
    },
    {
     "data": {
      "text/plain": [
       "<Figure size 1000x600 with 0 Axes>"
      ]
     },
     "metadata": {},
     "output_type": "display_data"
    }
   ],
   "source": [
    "for plan in datos_completos['plan_name'].unique():\n",
    "    sns.boxplot(data=datos_completos[datos_completos['plan_name'] == plan], x='total_income')\n",
    "    plt.title(f'Diagrama de caja de los ingresos mensuales para el plan {plan}')\n",
    "    plt.xlabel('ingresos mensuales (dolares estadounidenses)')\n",
    "    plt.figure(figsize=(10, 6))\n",
    "    plt.show()"
   ]
  },
  {
   "cell_type": "markdown",
   "metadata": {
    "id": "KAFidcXZ0q1P"
   },
   "source": [
    "Aquí podemos observar directamente en el comprotamiento de los ingresos que en realidad lo que está generando más entrada en promedio es el plan ultimate, que da 72 dólares, aunque el que genera más entrada extraordinaria es el plan Surf, siendo que el plan solo cuesta 20 dólares vemos que el promedio de ingreso está por los 64, que a muchos usuarios les convendría usar el plan ultimate, pero a la empresa tal vez no le convendría que los que se excedan demasiado lo usen si lo único que importa es la entrada de dinero, sin embargo, si quieren que el promedio de ingreso suba pueden observar qué clientes son aptos para usar el plan ultimate, aquellos que se acerquen a la cifra de 70 dólares y su consumo entre dentro de los parametros para que se les haga esta promoción, sería ideal como plan de venta, y así ganar un poco más."
   ]
  },
  {
   "cell_type": "markdown",
   "metadata": {
    "id": "ajJ7VKeI0q1Q"
   },
   "source": [
    "## Prueba las hipótesis estadísticas"
   ]
  },
  {
   "cell_type": "markdown",
   "metadata": {
    "id": "AdXAZ-yL0q1Q"
   },
   "source": [
    "[Prueba la hipótesis de que son diferentes los ingresos promedio procedentes de los usuarios de los planes de llamada Ultimate y Surf.]"
   ]
  },
  {
   "cell_type": "markdown",
   "metadata": {
    "id": "IQwa_hsh0q1Q"
   },
   "source": [
    "[Elabora las hipótesis nula y alternativa, escoge la prueba estadística, determina el valor alfa.]\n",
    "\n",
    "H₀. Los ingresos promedio de los usuarios de los planes Ultimate y Surf son iguales\n",
    "H₁. Los ingresos promedio de los usuarios de los planes Ultimate y Surf no son iguales\n",
    "alpha = 0.05"
   ]
  },
  {
   "cell_type": "code",
   "execution_count": 44,
   "metadata": {
    "id": "nFoPNlPq0q1R"
   },
   "outputs": [
    {
     "name": "stdout",
     "output_type": "stream",
     "text": [
      "valor p: 0.3620790184012298\n",
      "No podemos rechazar la hipotesis nula\n"
     ]
    }
   ],
   "source": [
    "# Prueba las hipótesis\n",
    "ingresos_surf = datos_completos[datos_completos['plan_name'] == 'surf'].groupby('month')['total_income'].sum().reset_index()\n",
    "ingresos_ultimate = datos_completos[datos_completos['plan_name'] == 'ultimate'].groupby('month')['total_income'].sum().reset_index()\n",
    "results = st.ttest_ind(ingresos_surf['total_income'], ingresos_ultimate['total_income'], equal_var=False)\n",
    "print(f'valor p: {results.pvalue}')\n",
    "alpha = 0.05\n",
    "if results.pvalue < alpha:\n",
    "    print('Rechazamos la hipotesis nula')\n",
    "else:\n",
    "    print('No podemos rechazar la hipotesis nula')\n",
    "\n"
   ]
  },
  {
   "cell_type": "markdown",
   "metadata": {
    "id": "tCcAruM60q1R"
   },
   "source": [
    "[Prueba la hipótesis de que el ingreso promedio de los usuarios del área NY-NJ es diferente al de los usuarios de otras regiones.]"
   ]
  },
  {
   "cell_type": "markdown",
   "metadata": {
    "id": "LsBgitqj0q1R"
   },
   "source": [
    "[Elabora las hipótesis nula y alternativa, escoge la prueba estadística, determina el valor alfa.]\n",
    "H₀. Los ingresos promedio de los usuarios de NY-NJ son iguales a los de las otras regiones\n",
    "H₁. Los ingresos promedio de los usuarios de NY-NJ no son iguales a los de las otras regiones\n",
    "alpha = 0.05\n",
    "\n",
    "New York-Newark-Jersey City, NY-NJ-PA MSA"
   ]
  },
  {
   "cell_type": "code",
   "execution_count": 45,
   "metadata": {
    "id": "Cqcj7wrZ0q1S"
   },
   "outputs": [
    {
     "name": "stdout",
     "output_type": "stream",
     "text": [
      "valor p: 0.3620790184012298\n",
      "No podemos rechazar la hipotesis nula\n"
     ]
    }
   ],
   "source": [
    "# Prueba las hipótesis\n",
    "alpaha = 0.05\n",
    "ingresos_ny_nj = datos_completos[datos_completos['city'] == 'New York-Newark-Jersey City, NY-NJ-PA MSA']['total_income']\n",
    "ingresos_otros = datos_completos[datos_completos['city'] != 'New York-Newark-Jersey City, NY-NJ-PA MSA']['total_income']\n",
    "result = st.ttest_ind(ingresos_ny_nj, ingresos_otros, equal_var=False)\n",
    "print(f'valor p: {results.pvalue}')\n",
    "if result.pvalue < alpha:\n",
    "    print('Rechazamos la hipotesis nula')\n",
    "else:\n",
    "    print('No podemos rechazar la hipotesis nula')"
   ]
  },
  {
   "cell_type": "markdown",
   "metadata": {
    "id": "bbTR8UQO0q1T"
   },
   "source": [
    "## Conclusión general\n",
    "\n",
    "[En esta sección final, enumera tus conclusiones importantes. Asegúrate de que estas abarquen todas las decisiones (suposiciones) importantes que adoptaste y que determinaron la forma elegida para procesar y analizar los datos.]\n",
    "\n",
    "1.- el plan con más rendimiento: Podemos ver que aunque estadísticamente con un alpha de 0.05% se considere que no hay mucha diferencia en los ingresos de los usuarios entre Surf y ultimate basados en la muestra que tuvismo, sí podemos observar que los datos extremos nos dieron información importante en cada uno de los consumos principales, dado que podemos ver que los usuarios de Surf tienden a ser más extremos en el uso de su contenido, y los usuarios de ultimate por lo general entran dentro de los parametros dados por el plan sin mayor caso demasiado extremo.\n",
    "\n",
    "2.- La recomendacion que yo daría: Yo recomendaría a la empresa evaluar los usuarios que están gastando alrrededor de 60 a 68 dólares de las cuentas Surf entendiendo que son usuarios que les alcanza para el ultimate y ayudará a empuajr un poco los ingresos a los 70 promedio, y dejaría en paz a los usuarios extremos salvo que ellos lo requieran dado que dan entrada extra sin mayor esfuerzo y no parece interesarles tampoco una manera de ahorrar o conseguir más datos para los patrones de consumo que tienen\n",
    "\n",
    "3.- La situación de gasto regional: Sípodemos observar que hay una diferencia de consumo según la región en la que perteneces, esto se debe a diferentes factores que pueden ser evaluados, como el ingreso promedio o los datos que se usan por trabajo, etc. en este caso no es sorpresiva la conclusión, y valdría la pena colocar estaa información a los ojos de la empresa para que vea que en la regiones más urbanizadas hay oportunidad de crecimiento si es que la competencia no tiene un mercado afianzado y la inversión no se va a desperdiciar ahí.\n",
    "\n",
    "4.- Los datos extremos como ayuda de análisis general en este caso particular: Estaba inclinandome por no eliminar los datos extremos de las bases de datos, pero fue bnueno que lo hiciera, dio oportunidad a revisar que sí ah una diferencia importante entre los valores cuando se eliminan los datos extremos y cuando no, y es que los valores extremos beneficiaban extremadamente mucho a la entrada de dinero del plan Surf, pero no es prudente que se considere.\n",
    "\n",
    "5.- Los ingresos son diferentes por plan: Sabiendo que no podemos rechazar la hipótesis nula los promedios son suficientemente diferentes para revisar nuevamente lo que podríamos hacer para que el ingreso mejore, de ahí mi consejo."
   ]
  }
 ],
 "metadata": {
  "ExecuteTimeLog": [
   {
    "duration": 828,
    "start_time": "2021-11-16T09:21:11.304Z"
   },
   {
    "duration": 893,
    "start_time": "2021-11-16T09:21:17.728Z"
   },
   {
    "duration": 1150,
    "start_time": "2021-11-16T09:21:29.568Z"
   },
   {
    "duration": 3,
    "start_time": "2021-11-16T09:24:14.495Z"
   },
   {
    "duration": 120,
    "start_time": "2021-11-16T09:24:46.630Z"
   },
   {
    "duration": 3,
    "start_time": "2021-11-16T09:28:27.882Z"
   },
   {
    "duration": 4,
    "start_time": "2021-11-16T09:29:54.281Z"
   },
   {
    "duration": 3,
    "start_time": "2021-11-16T09:30:45.936Z"
   },
   {
    "duration": 4,
    "start_time": "2021-11-16T09:31:06.300Z"
   },
   {
    "duration": 113,
    "start_time": "2021-11-16T09:31:37.208Z"
   },
   {
    "duration": 143,
    "start_time": "2021-11-16T09:31:48.656Z"
   },
   {
    "duration": 98,
    "start_time": "2021-11-16T09:31:55.678Z"
   },
   {
    "duration": 3,
    "start_time": "2021-11-16T09:32:08.535Z"
   },
   {
    "duration": 111,
    "start_time": "2021-11-16T09:32:10.120Z"
   },
   {
    "duration": 3,
    "start_time": "2021-11-16T09:32:15.732Z"
   },
   {
    "duration": 4,
    "start_time": "2021-11-16T09:32:29.423Z"
   },
   {
    "duration": 3,
    "start_time": "2021-11-16T10:03:03.074Z"
   },
   {
    "duration": 3,
    "start_time": "2021-11-16T10:10:01.288Z"
   },
   {
    "duration": 3,
    "start_time": "2021-11-16T10:10:46.923Z"
   },
   {
    "duration": 121,
    "start_time": "2021-11-16T10:37:46.494Z"
   },
   {
    "duration": 125,
    "start_time": "2021-11-16T10:38:20.632Z"
   },
   {
    "duration": 112,
    "start_time": "2021-11-16T10:46:53.001Z"
   },
   {
    "duration": 110,
    "start_time": "2021-11-16T10:48:25.775Z"
   },
   {
    "duration": 3,
    "start_time": "2021-11-16T10:50:18.720Z"
   },
   {
    "duration": 4,
    "start_time": "2021-11-16T10:50:37.649Z"
   },
   {
    "duration": 2,
    "start_time": "2021-11-16T10:50:51.884Z"
   },
   {
    "duration": 3,
    "start_time": "2021-11-16T10:51:56.237Z"
   },
   {
    "duration": 101,
    "start_time": "2021-11-16T10:53:13.791Z"
   },
   {
    "duration": 3,
    "start_time": "2021-11-16T10:55:59.186Z"
   },
   {
    "duration": 3,
    "start_time": "2021-11-16T10:56:10.751Z"
   },
   {
    "duration": 3,
    "start_time": "2021-11-16T10:56:49.038Z"
   },
   {
    "duration": 3,
    "start_time": "2021-11-16T10:56:49.174Z"
   },
   {
    "duration": 4,
    "start_time": "2021-11-16T10:56:49.414Z"
   },
   {
    "duration": 3,
    "start_time": "2021-11-16T10:56:49.680Z"
   },
   {
    "duration": 3,
    "start_time": "2021-11-16T10:56:50.370Z"
   },
   {
    "duration": 114,
    "start_time": "2021-11-16T10:59:34.518Z"
   },
   {
    "duration": 3,
    "start_time": "2021-11-16T11:01:41.201Z"
   },
   {
    "duration": 116,
    "start_time": "2021-11-16T11:01:48.754Z"
   },
   {
    "duration": 3,
    "start_time": "2021-11-16T11:02:16.685Z"
   },
   {
    "duration": 3,
    "start_time": "2021-11-16T11:02:19.479Z"
   },
   {
    "duration": 3,
    "start_time": "2021-11-16T11:02:47.067Z"
   },
   {
    "duration": 3,
    "start_time": "2021-11-16T11:02:49.353Z"
   },
   {
    "duration": 3,
    "start_time": "2021-11-16T11:03:07.835Z"
   },
   {
    "duration": 3,
    "start_time": "2021-11-16T11:03:07.953Z"
   },
   {
    "duration": 112,
    "start_time": "2021-11-16T11:07:52.072Z"
   },
   {
    "duration": 187,
    "start_time": "2021-11-16T11:09:23.468Z"
   },
   {
    "duration": 4,
    "start_time": "2021-11-16T11:10:01.455Z"
   },
   {
    "duration": 3,
    "start_time": "2021-11-16T11:10:05.069Z"
   },
   {
    "duration": 4,
    "start_time": "2021-11-16T11:10:13.376Z"
   },
   {
    "duration": 3,
    "start_time": "2021-11-16T11:10:14.434Z"
   },
   {
    "duration": 3,
    "start_time": "2021-11-16T11:10:22.853Z"
   },
   {
    "duration": 4,
    "start_time": "2021-11-16T11:27:29.279Z"
   },
   {
    "duration": 4,
    "start_time": "2021-11-16T11:29:08.919Z"
   },
   {
    "duration": 118,
    "start_time": "2021-11-16T11:29:46.703Z"
   },
   {
    "duration": 437,
    "start_time": "2021-11-16T11:36:02.181Z"
   },
   {
    "duration": 157,
    "start_time": "2021-11-16T11:36:14.388Z"
   },
   {
    "duration": 207,
    "start_time": "2021-11-16T11:47:15.898Z"
   },
   {
    "duration": 3,
    "start_time": "2021-11-16T11:53:52.092Z"
   },
   {
    "duration": 3,
    "start_time": "2021-11-16T11:53:52.236Z"
   },
   {
    "duration": 3,
    "start_time": "2021-11-16T11:59:12.005Z"
   },
   {
    "duration": 112,
    "start_time": "2021-11-16T12:00:33.446Z"
   },
   {
    "duration": 3,
    "start_time": "2021-11-16T12:02:14.453Z"
   },
   {
    "duration": 3,
    "start_time": "2021-11-16T12:02:39.512Z"
   },
   {
    "duration": 106,
    "start_time": "2021-11-16T12:03:03.460Z"
   },
   {
    "duration": 3,
    "start_time": "2021-11-17T20:37:21.139Z"
   },
   {
    "duration": 3,
    "start_time": "2021-11-17T20:37:22.229Z"
   },
   {
    "duration": 3,
    "start_time": "2021-11-17T20:38:38.806Z"
   },
   {
    "duration": 3,
    "start_time": "2021-11-17T20:38:41.958Z"
   },
   {
    "duration": 3,
    "start_time": "2021-11-17T20:43:46.551Z"
   },
   {
    "duration": 4,
    "start_time": "2021-11-17T20:58:21.835Z"
   },
   {
    "duration": 3,
    "start_time": "2021-11-17T20:59:21.872Z"
   },
   {
    "duration": 4,
    "start_time": "2021-11-17T20:59:45.352Z"
   },
   {
    "duration": 4,
    "start_time": "2021-11-17T20:59:49.646Z"
   },
   {
    "duration": 159,
    "start_time": "2021-11-17T21:02:26.949Z"
   },
   {
    "duration": 3,
    "start_time": "2021-11-17T21:03:53.461Z"
   },
   {
    "duration": 3,
    "start_time": "2021-11-17T21:03:53.694Z"
   },
   {
    "duration": 3,
    "start_time": "2021-11-17T21:05:28.145Z"
   },
   {
    "duration": 116,
    "start_time": "2021-11-17T21:05:57.787Z"
   },
   {
    "duration": 3,
    "start_time": "2021-11-17T21:06:37.993Z"
   },
   {
    "duration": 3,
    "start_time": "2021-11-17T21:06:38.261Z"
   },
   {
    "duration": 3,
    "start_time": "2021-11-17T21:11:54.358Z"
   },
   {
    "duration": 3,
    "start_time": "2021-11-17T21:12:43.846Z"
   },
   {
    "duration": 4,
    "start_time": "2021-11-17T21:13:08.773Z"
   },
   {
    "duration": 3,
    "start_time": "2021-11-17T21:14:44.441Z"
   },
   {
    "duration": 3,
    "start_time": "2021-11-17T21:15:42.059Z"
   },
   {
    "duration": 4,
    "start_time": "2021-11-17T21:15:51.995Z"
   },
   {
    "duration": 3,
    "start_time": "2021-11-17T21:15:53.923Z"
   },
   {
    "duration": 3,
    "start_time": "2021-11-17T21:15:55.282Z"
   },
   {
    "duration": 3,
    "start_time": "2021-11-17T21:16:28.492Z"
   },
   {
    "duration": 3,
    "start_time": "2021-11-17T21:16:32.603Z"
   },
   {
    "duration": 3,
    "start_time": "2021-11-17T21:17:06.941Z"
   },
   {
    "duration": 98,
    "start_time": "2021-11-17T21:18:05.733Z"
   },
   {
    "duration": 4,
    "start_time": "2021-11-17T21:21:35.255Z"
   },
   {
    "duration": 3,
    "start_time": "2021-11-17T21:21:37.804Z"
   },
   {
    "duration": 4,
    "start_time": "2021-11-17T21:23:06.071Z"
   },
   {
    "duration": 3,
    "start_time": "2021-11-17T21:23:24.799Z"
   },
   {
    "duration": 3,
    "start_time": "2021-11-17T21:23:32.591Z"
   },
   {
    "duration": 98,
    "start_time": "2021-11-17T21:28:31.559Z"
   },
   {
    "duration": 3,
    "start_time": "2021-11-17T21:28:45.448Z"
   },
   {
    "duration": 3,
    "start_time": "2021-11-17T21:29:17.303Z"
   },
   {
    "duration": 3,
    "start_time": "2021-11-17T21:29:29.617Z"
   },
   {
    "duration": 3,
    "start_time": "2021-11-17T21:29:32.681Z"
   },
   {
    "duration": 3,
    "start_time": "2021-11-17T21:36:11.474Z"
   },
   {
    "duration": 3,
    "start_time": "2021-11-17T21:36:14.791Z"
   },
   {
    "duration": 3,
    "start_time": "2021-11-17T21:36:53.943Z"
   },
   {
    "duration": 3,
    "start_time": "2021-11-17T21:36:56.165Z"
   },
   {
    "duration": 4,
    "start_time": "2021-11-17T21:37:16.590Z"
   },
   {
    "duration": 3,
    "start_time": "2021-11-17T21:37:22.702Z"
   },
   {
    "duration": 4,
    "start_time": "2021-11-17T21:38:03.479Z"
   },
   {
    "duration": 3,
    "start_time": "2021-11-17T21:38:08.601Z"
   },
   {
    "duration": 3,
    "start_time": "2021-11-17T21:38:12.928Z"
   },
   {
    "duration": 3,
    "start_time": "2021-11-17T21:38:48.896Z"
   },
   {
    "duration": 2,
    "start_time": "2021-11-17T21:38:49.171Z"
   },
   {
    "duration": 4,
    "start_time": "2021-11-17T21:39:57.889Z"
   },
   {
    "duration": 3,
    "start_time": "2021-11-17T21:39:58.057Z"
   },
   {
    "duration": 3,
    "start_time": "2021-11-17T21:41:20.108Z"
   },
   {
    "duration": 3,
    "start_time": "2021-11-17T21:41:20.629Z"
   },
   {
    "duration": 3,
    "start_time": "2021-11-17T21:42:49.136Z"
   },
   {
    "duration": 3,
    "start_time": "2021-11-17T21:43:15.137Z"
   },
   {
    "duration": 4,
    "start_time": "2021-11-17T21:43:16.766Z"
   },
   {
    "duration": 4,
    "start_time": "2021-11-17T21:43:31.711Z"
   },
   {
    "duration": 3,
    "start_time": "2021-11-17T21:43:36.312Z"
   },
   {
    "duration": 4,
    "start_time": "2021-11-17T21:45:08.825Z"
   },
   {
    "duration": 4,
    "start_time": "2021-11-17T21:45:10.119Z"
   },
   {
    "duration": 4,
    "start_time": "2021-11-17T21:45:13.748Z"
   },
   {
    "duration": 3,
    "start_time": "2021-11-17T21:45:22.219Z"
   },
   {
    "duration": 3,
    "start_time": "2021-11-17T21:45:33.412Z"
   },
   {
    "duration": 2,
    "start_time": "2021-11-17T21:46:01.885Z"
   },
   {
    "duration": 3,
    "start_time": "2021-11-17T21:46:03.628Z"
   },
   {
    "duration": 107,
    "start_time": "2021-11-17T21:47:32.512Z"
   },
   {
    "duration": 103,
    "start_time": "2021-11-17T21:50:36.243Z"
   },
   {
    "duration": 3,
    "start_time": "2021-11-18T06:28:31.440Z"
   },
   {
    "duration": 3,
    "start_time": "2021-11-18T06:29:00.168Z"
   },
   {
    "duration": 3,
    "start_time": "2021-11-18T06:31:27.008Z"
   },
   {
    "duration": 2,
    "start_time": "2021-11-18T06:35:34.288Z"
   },
   {
    "duration": 2,
    "start_time": "2021-11-18T06:38:04.527Z"
   }
  ],
  "colab": {
   "provenance": []
  },
  "kernelspec": {
   "display_name": "Python 3",
   "language": "python",
   "name": "python3"
  },
  "language_info": {
   "codemirror_mode": {
    "name": "ipython",
    "version": 3
   },
   "file_extension": ".py",
   "mimetype": "text/x-python",
   "name": "python",
   "nbconvert_exporter": "python",
   "pygments_lexer": "ipython3",
   "version": "3.13.2"
  },
  "toc": {
   "base_numbering": 1,
   "nav_menu": {},
   "number_sections": true,
   "sideBar": true,
   "skip_h1_title": false,
   "title_cell": "Table of Contents",
   "title_sidebar": "Contents",
   "toc_cell": false,
   "toc_position": {},
   "toc_section_display": true,
   "toc_window_display": true
  }
 },
 "nbformat": 4,
 "nbformat_minor": 1
}
