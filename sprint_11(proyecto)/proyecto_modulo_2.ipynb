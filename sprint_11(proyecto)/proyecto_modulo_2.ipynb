{
 "cells": [
  {
   "cell_type": "markdown",
   "id": "cfb64efe",
   "metadata": {},
   "source": [
    "# Lectura del archivo e importacion de bibliotecas necesarias\n",
    "\n",
    "## Tambien se realiza preparacion general de los datos."
   ]
  },
  {
   "cell_type": "code",
   "execution_count": null,
   "id": "27c4c78f",
   "metadata": {},
   "outputs": [
    {
     "data": {
      "text/html": [
       "<div>\n",
       "<style scoped>\n",
       "    .dataframe tbody tr th:only-of-type {\n",
       "        vertical-align: middle;\n",
       "    }\n",
       "\n",
       "    .dataframe tbody tr th {\n",
       "        vertical-align: top;\n",
       "    }\n",
       "\n",
       "    .dataframe thead th {\n",
       "        text-align: right;\n",
       "    }\n",
       "</style>\n",
       "<table border=\"1\" class=\"dataframe\">\n",
       "  <thead>\n",
       "    <tr style=\"text-align: right;\">\n",
       "      <th></th>\n",
       "      <th>event_name</th>\n",
       "      <th>user_id</th>\n",
       "      <th>time</th>\n",
       "      <th>group</th>\n",
       "      <th>date</th>\n",
       "    </tr>\n",
       "  </thead>\n",
       "  <tbody>\n",
       "    <tr>\n",
       "      <th>0</th>\n",
       "      <td>MainScreenAppear</td>\n",
       "      <td>4575588528974610257</td>\n",
       "      <td>2019-07-25 04:43:36</td>\n",
       "      <td>A1</td>\n",
       "      <td>2019-07-25</td>\n",
       "    </tr>\n",
       "    <tr>\n",
       "      <th>1</th>\n",
       "      <td>MainScreenAppear</td>\n",
       "      <td>7416695313311560658</td>\n",
       "      <td>2019-07-25 11:11:42</td>\n",
       "      <td>A1</td>\n",
       "      <td>2019-07-25</td>\n",
       "    </tr>\n",
       "    <tr>\n",
       "      <th>2</th>\n",
       "      <td>PaymentScreenSuccessful</td>\n",
       "      <td>3518123091307005509</td>\n",
       "      <td>2019-07-25 11:28:47</td>\n",
       "      <td>B</td>\n",
       "      <td>2019-07-25</td>\n",
       "    </tr>\n",
       "    <tr>\n",
       "      <th>3</th>\n",
       "      <td>CartScreenAppear</td>\n",
       "      <td>3518123091307005509</td>\n",
       "      <td>2019-07-25 11:28:47</td>\n",
       "      <td>B</td>\n",
       "      <td>2019-07-25</td>\n",
       "    </tr>\n",
       "    <tr>\n",
       "      <th>4</th>\n",
       "      <td>PaymentScreenSuccessful</td>\n",
       "      <td>6217807653094995999</td>\n",
       "      <td>2019-07-25 11:48:42</td>\n",
       "      <td>B</td>\n",
       "      <td>2019-07-25</td>\n",
       "    </tr>\n",
       "    <tr>\n",
       "      <th>5</th>\n",
       "      <td>CartScreenAppear</td>\n",
       "      <td>6217807653094995999</td>\n",
       "      <td>2019-07-25 11:48:43</td>\n",
       "      <td>B</td>\n",
       "      <td>2019-07-25</td>\n",
       "    </tr>\n",
       "    <tr>\n",
       "      <th>6</th>\n",
       "      <td>OffersScreenAppear</td>\n",
       "      <td>8351860793733343758</td>\n",
       "      <td>2019-07-25 14:50:42</td>\n",
       "      <td>A1</td>\n",
       "      <td>2019-07-25</td>\n",
       "    </tr>\n",
       "    <tr>\n",
       "      <th>7</th>\n",
       "      <td>MainScreenAppear</td>\n",
       "      <td>5682100281902512875</td>\n",
       "      <td>2019-07-25 20:14:37</td>\n",
       "      <td>A1</td>\n",
       "      <td>2019-07-25</td>\n",
       "    </tr>\n",
       "    <tr>\n",
       "      <th>8</th>\n",
       "      <td>MainScreenAppear</td>\n",
       "      <td>1850981295691852772</td>\n",
       "      <td>2019-07-25 20:31:42</td>\n",
       "      <td>A2</td>\n",
       "      <td>2019-07-25</td>\n",
       "    </tr>\n",
       "    <tr>\n",
       "      <th>9</th>\n",
       "      <td>MainScreenAppear</td>\n",
       "      <td>5407636962369102641</td>\n",
       "      <td>2019-07-26 03:35:12</td>\n",
       "      <td>A1</td>\n",
       "      <td>2019-07-26</td>\n",
       "    </tr>\n",
       "  </tbody>\n",
       "</table>\n",
       "</div>"
      ],
      "text/plain": [
       "                event_name              user_id                time group  \\\n",
       "0         MainScreenAppear  4575588528974610257 2019-07-25 04:43:36    A1   \n",
       "1         MainScreenAppear  7416695313311560658 2019-07-25 11:11:42    A1   \n",
       "2  PaymentScreenSuccessful  3518123091307005509 2019-07-25 11:28:47     B   \n",
       "3         CartScreenAppear  3518123091307005509 2019-07-25 11:28:47     B   \n",
       "4  PaymentScreenSuccessful  6217807653094995999 2019-07-25 11:48:42     B   \n",
       "5         CartScreenAppear  6217807653094995999 2019-07-25 11:48:43     B   \n",
       "6       OffersScreenAppear  8351860793733343758 2019-07-25 14:50:42    A1   \n",
       "7         MainScreenAppear  5682100281902512875 2019-07-25 20:14:37    A1   \n",
       "8         MainScreenAppear  1850981295691852772 2019-07-25 20:31:42    A2   \n",
       "9         MainScreenAppear  5407636962369102641 2019-07-26 03:35:12    A1   \n",
       "\n",
       "        date  \n",
       "0 2019-07-25  \n",
       "1 2019-07-25  \n",
       "2 2019-07-25  \n",
       "3 2019-07-25  \n",
       "4 2019-07-25  \n",
       "5 2019-07-25  \n",
       "6 2019-07-25  \n",
       "7 2019-07-25  \n",
       "8 2019-07-25  \n",
       "9 2019-07-26  "
      ]
     },
     "execution_count": 1,
     "metadata": {},
     "output_type": "execute_result"
    }
   ],
   "source": [
    "import pandas as pd\n",
    "import numpy as np\n",
    "import plotly.express as px\n",
    "import matplotlib.pyplot as plt\n",
    "import seaborn as sns\n",
    "from math import factorial\n",
    "import scipy.stats as st \n",
    "import math \n",
    "import datetime as dt\n",
    "import scipy.stats as stats\n",
    "import dash\n",
    "import dash_core_components as dcc\n",
    "import dash_html_components as html\n",
    "from dash.dependencies import Input, Output\n",
    "from sqlalchemy import create_engine\n",
    "\n",
    "events = pd.read_csv('logs_exp_us.csv', sep=\"\\t\")\n",
    "\n",
    "events.columns = ['event_name', 'user_id', 'time', 'group'] # Nombramos las columnas a comodidad\n",
    "\n",
    "events['time'] = pd.to_datetime(events['time'], unit='s') # Se convierte la columna al timpo necesario\n",
    "\n",
    "events['date'] = events['time'].dt.date # Se crea la columna de fecha\n",
    "events['date'] = pd.to_datetime(events['date']) # Se convierte la columna de fecha al tipo datetime\n",
    "\n",
    "events['group'] = events['group'].astype(str) # Cambiamos la columna de int a str\n",
    "events['group'] = events['group'].replace({'246': 'A1', '247': 'A2', '248': 'B'}) # Reemplazamos los calores para no confundirnos\n",
    "\n",
    "events['user_id'] = events['user_id'].astype(str) # Cambiamos los user id a str\n",
    "\n",
    "events.head(10)"
   ]
  },
  {
   "cell_type": "code",
   "execution_count": 2,
   "id": "9db92945",
   "metadata": {},
   "outputs": [
    {
     "name": "stdout",
     "output_type": "stream",
     "text": [
      "<class 'pandas.core.frame.DataFrame'>\n",
      "RangeIndex: 244126 entries, 0 to 244125\n",
      "Data columns (total 5 columns):\n",
      " #   Column      Non-Null Count   Dtype         \n",
      "---  ------      --------------   -----         \n",
      " 0   event_name  244126 non-null  object        \n",
      " 1   user_id     244126 non-null  object        \n",
      " 2   time        244126 non-null  datetime64[ns]\n",
      " 3   group       244126 non-null  object        \n",
      " 4   date        244126 non-null  datetime64[ns]\n",
      "dtypes: datetime64[ns](2), object(3)\n",
      "memory usage: 9.3+ MB\n"
     ]
    }
   ],
   "source": [
    "events.info()"
   ]
  },
  {
   "cell_type": "markdown",
   "id": "8c7aafa1",
   "metadata": {},
   "source": [
    "No tenemos valores nulos como tal, y tenemos ya los tipos de datos en sus Dtype necesario.\n",
    "\n",
    "# 3.- Estudiar y comprobar los datos\n",
    "\n",
    "## Número de eventos en los registros"
   ]
  },
  {
   "cell_type": "code",
   "execution_count": 3,
   "id": "24bf51fc",
   "metadata": {},
   "outputs": [
    {
     "name": "stdout",
     "output_type": "stream",
     "text": [
      "El número de eventos en los registros es: 5\n"
     ]
    }
   ],
   "source": [
    "event_number = events['event_name'].nunique()\n",
    "print(f\"El número de eventos en los registros es: {event_number}\")"
   ]
  },
  {
   "cell_type": "markdown",
   "id": "104539a1",
   "metadata": {},
   "source": [
    "### Conclusión: hay 5 tipos de eventos\n",
    "\n",
    "## Número de usuarios en los registros"
   ]
  },
  {
   "cell_type": "code",
   "execution_count": 4,
   "id": "1fef44aa",
   "metadata": {},
   "outputs": [
    {
     "name": "stdout",
     "output_type": "stream",
     "text": [
      "El número de usuarios en los registros es: 7551\n"
     ]
    }
   ],
   "source": [
    "user_number = events['user_id'].nunique()\n",
    "print(f\"El número de usuarios en los registros es: {user_number}\")"
   ]
  },
  {
   "cell_type": "markdown",
   "id": "26de2ecf",
   "metadata": {},
   "source": [
    "### Conclusión existen 7551 usuarios\n",
    "\n",
    "## Promedio de eventos por usuario"
   ]
  },
  {
   "cell_type": "code",
   "execution_count": 5,
   "id": "ca777bf2",
   "metadata": {},
   "outputs": [
    {
     "name": "stdout",
     "output_type": "stream",
     "text": [
      "El número medio de eventos por usuario es: 32.33028737915508\n"
     ]
    }
   ],
   "source": [
    "mean_user_events = events.groupby('user_id').size().mean()\n",
    "print(f\"El número medio de eventos por usuario es: {mean_user_events}\")"
   ]
  },
  {
   "cell_type": "markdown",
   "id": "78e2f60f",
   "metadata": {},
   "source": [
    "### Conclusión: Por usuario se tienen cerca de 32 eventos\n",
    "\n",
    "## Periodo de tiempo que cubren los datos\n",
    "\n",
    "#### Fecha máxima y mínima"
   ]
  },
  {
   "cell_type": "code",
   "execution_count": 6,
   "id": "6d3e638f",
   "metadata": {},
   "outputs": [
    {
     "name": "stdout",
     "output_type": "stream",
     "text": [
      "El rango de fechas de los registros es: 2019-07-25 00:00:00 - 2019-08-07 00:00:00\n"
     ]
    }
   ],
   "source": [
    "min_date = events['date'].min()\n",
    "max_date = events['date'].max()\n",
    "print(f\"El rango de fechas de los registros es: {min_date} - {max_date}\")"
   ]
  },
  {
   "cell_type": "markdown",
   "id": "d96c339e",
   "metadata": {},
   "source": [
    "#### Historiograma por fecha y hora"
   ]
  },
  {
   "cell_type": "code",
   "execution_count": 7,
   "id": "012c233b",
   "metadata": {},
   "outputs": [
    {
     "data": {
      "text/plain": [
       "(array([18102., 18104., 18106., 18108., 18109., 18111., 18113., 18115.]),\n",
       " [Text(18102.0, 0, '2019-07-25'),\n",
       "  Text(18104.0, 0, '2019-07-27'),\n",
       "  Text(18106.0, 0, '2019-07-29'),\n",
       "  Text(18108.0, 0, '2019-07-31'),\n",
       "  Text(18109.0, 0, '2019-08-01'),\n",
       "  Text(18111.0, 0, '2019-08-03'),\n",
       "  Text(18113.0, 0, '2019-08-05'),\n",
       "  Text(18115.0, 0, '2019-08-07')])"
      ]
     },
     "execution_count": 7,
     "metadata": {},
     "output_type": "execute_result"
    },
    {
     "data": {
      "image/png": "[encoded data removed]",
      "text/plain": [
       "<Figure size 640x480 with 1 Axes>"
      ]
     },
     "metadata": {},
     "output_type": "display_data"
    }
   ],
   "source": [
    "plt.hist(events['date'], bins=14, edgecolor='black')\n",
    "plt.xticks(rotation=45)"
   ]
  },
  {
   "cell_type": "markdown",
   "id": "605ba0d1",
   "metadata": {},
   "source": [
    "#### ¿Hay seguridad de tener los datos completos para todo el periodo?\n",
    "\n",
    "No hay seguridad, los datos de las fechas recolectadas no sirven sino hasta el 1 de Agosto del 2019, y el punto final es el 7 de Agosto del 2019, mostrando que la prueba lleva en cusro aproximadamente una semana bien colocada.\n",
    "\n",
    "#### Momento en el que los datos se encuentran completos (colocar el verdadero periodo de representación de los datos)\n",
    "\n",
    "El momento en el que los datos parecen encontrarse completos es desde 1 hasta el 7 de Agosto del 2019"
   ]
  },
  {
   "cell_type": "code",
   "execution_count": 8,
   "id": "a4069e8d",
   "metadata": {},
   "outputs": [
    {
     "name": "stdout",
     "output_type": "stream",
     "text": [
      "<class 'pandas.core.frame.DataFrame'>\n",
      "Index: 241298 entries, 2828 to 244125\n",
      "Data columns (total 5 columns):\n",
      " #   Column      Non-Null Count   Dtype         \n",
      "---  ------      --------------   -----         \n",
      " 0   event_name  241298 non-null  object        \n",
      " 1   user_id     241298 non-null  object        \n",
      " 2   time        241298 non-null  datetime64[ns]\n",
      " 3   group       241298 non-null  object        \n",
      " 4   date        241298 non-null  datetime64[ns]\n",
      "dtypes: datetime64[ns](2), object(3)\n",
      "memory usage: 11.0+ MB\n"
     ]
    },
    {
     "data": {
      "image/png": "[encoded data removed]",
      "text/plain": [
       "<Figure size 640x480 with 1 Axes>"
      ]
     },
     "metadata": {},
     "output_type": "display_data"
    }
   ],
   "source": [
    "events_filtered = events[(events['date'] >= '2019-08-01') & (events['date'] <= '2019-08-07')]\n",
    "plt.hist(events_filtered['date'], bins=7, edgecolor='black')\n",
    "plt.xticks(rotation=45)\n",
    "plt.title('Histograma de eventos filtrados por fecha')\n",
    "\n",
    "events_filtered.info()"
   ]
  },
  {
   "cell_type": "markdown",
   "id": "12c79f32",
   "metadata": {},
   "source": [
    "## ¿Se perdieron muchos datos o pocos?\n",
    "\n",
    "Realmente se perdieron pocos datos, de los que empezaron a ahora, se empezaron con 244,126 elementos y ahora tenemos 241,298, restando un total de 2,828 datos, de los 244,126 que se tenían en un inicio.\n",
    "\n",
    "## ¿Tenemos los usuarios para cada grupo?"
   ]
  },
  {
   "cell_type": "code",
   "execution_count": 9,
   "id": "78aa798f",
   "metadata": {},
   "outputs": [
    {
     "name": "stdout",
     "output_type": "stream",
     "text": [
      "El número de usuarios en los registros filtrados es: 7534\n"
     ]
    }
   ],
   "source": [
    "user_number_filtered = events_filtered['user_id'].nunique()\n",
    "print(f\"El número de usuarios en los registros filtrados es: {user_number_filtered}\")"
   ]
  },
  {
   "cell_type": "markdown",
   "id": "de7d2f11",
   "metadata": {},
   "source": [
    "#### Conclusión\n",
    "\n",
    "Similar a lo que vimos con la perdida de a penas 2,828 datos de 244,126 aquí se puerden solo 17 usuarios de los 7,551 que existían en total.\n",
    "\n",
    "# Embudo de eventos\n",
    "\n",
    "## Ordenación de eventos por frecuencia"
   ]
  },
  {
   "cell_type": "code",
   "execution_count": 10,
   "id": "fdd073bb",
   "metadata": {},
   "outputs": [
    {
     "data": {
      "text/plain": [
       "([0, 1, 2, 3, 4],\n",
       " [Text(0, 0, 'MainScreenAppear'),\n",
       "  Text(1, 0, 'OffersScreenAppear'),\n",
       "  Text(2, 0, 'CartScreenAppear'),\n",
       "  Text(3, 0, 'PaymentScreenSuccessful'),\n",
       "  Text(4, 0, 'Tutorial')])"
      ]
     },
     "execution_count": 10,
     "metadata": {},
     "output_type": "execute_result"
    },
    {
     "data": {
      "image/png": "[encoded data removed]",
      "text/plain": [
       "<Figure size 640x480 with 1 Axes>"
      ]
     },
     "metadata": {},
     "output_type": "display_data"
    }
   ],
   "source": [
    "frecuencias = events_filtered['event_name'].value_counts()\n",
    "frecuencias = frecuencias.sort_values(ascending=False)\n",
    "sns.barplot(x=frecuencias.index, y=frecuencias.values)\n",
    "plt.xticks(rotation=90)"
   ]
  },
  {
   "cell_type": "markdown",
   "id": "4b548ef3",
   "metadata": {},
   "source": [
    "## Ordenación de eventos por número de usuarios y su proporción"
   ]
  },
  {
   "cell_type": "code",
   "execution_count": 11,
   "id": "f3bbe562",
   "metadata": {},
   "outputs": [
    {
     "data": {
      "text/html": [
       "<div>\n",
       "<style scoped>\n",
       "    .dataframe tbody tr th:only-of-type {\n",
       "        vertical-align: middle;\n",
       "    }\n",
       "\n",
       "    .dataframe tbody tr th {\n",
       "        vertical-align: top;\n",
       "    }\n",
       "\n",
       "    .dataframe thead th {\n",
       "        text-align: right;\n",
       "    }\n",
       "</style>\n",
       "<table border=\"1\" class=\"dataframe\">\n",
       "  <thead>\n",
       "    <tr style=\"text-align: right;\">\n",
       "      <th></th>\n",
       "      <th>event_name</th>\n",
       "      <th>user_count</th>\n",
       "    </tr>\n",
       "  </thead>\n",
       "  <tbody>\n",
       "    <tr>\n",
       "      <th>1</th>\n",
       "      <td>MainScreenAppear</td>\n",
       "      <td>7419</td>\n",
       "    </tr>\n",
       "    <tr>\n",
       "      <th>2</th>\n",
       "      <td>OffersScreenAppear</td>\n",
       "      <td>4593</td>\n",
       "    </tr>\n",
       "    <tr>\n",
       "      <th>0</th>\n",
       "      <td>CartScreenAppear</td>\n",
       "      <td>3734</td>\n",
       "    </tr>\n",
       "    <tr>\n",
       "      <th>3</th>\n",
       "      <td>PaymentScreenSuccessful</td>\n",
       "      <td>3539</td>\n",
       "    </tr>\n",
       "    <tr>\n",
       "      <th>4</th>\n",
       "      <td>Tutorial</td>\n",
       "      <td>840</td>\n",
       "    </tr>\n",
       "  </tbody>\n",
       "</table>\n",
       "</div>"
      ],
      "text/plain": [
       "                event_name  user_count\n",
       "1         MainScreenAppear        7419\n",
       "2       OffersScreenAppear        4593\n",
       "0         CartScreenAppear        3734\n",
       "3  PaymentScreenSuccessful        3539\n",
       "4                 Tutorial         840"
      ]
     },
     "execution_count": 11,
     "metadata": {},
     "output_type": "execute_result"
    }
   ],
   "source": [
    "user_per_event = events_filtered.groupby('event_name')['user_id'].nunique().reset_index()\n",
    "user_per_event.columns = ['event_name', 'user_count']\n",
    "user_per_event = user_per_event.sort_values(by='user_count', ascending=False)\n",
    "user_per_event.head()"
   ]
  },
  {
   "cell_type": "markdown",
   "id": "4e89108a",
   "metadata": {},
   "source": [
    "## Orden supuesto en el que suceden las acciones\n",
    "\n",
    "Supuestamente, y si solamente nos basamos por el embudo el orden es el siguiente:\n",
    "\n",
    "-Main Screan\n",
    "-Off Screan\n",
    "-Cart Screan\n",
    "-Payment Screan\n",
    "-Tutorial\n",
    "\n",
    "Claro que si lo pensamos un poco, el último paso es ilógico, por lo que valdría la pena saber si la página tiene un tutorial opcional que coloque para usuarios nuevos, o en qué condicional aparece este tutorial, porque no es parte natural del proceso al parecer, ya que si lo fuera tendría que coincidir su frecuencia exactamente con el número de usuarios, cosa que no es cierta. Así que el proceso real quedaría como:\n",
    "\n",
    "1.-Main Screan\n",
    "2.-Off Screan\n",
    "3.-Cart Screan\n",
    "4.-Payment Screan\n",
    "\n",
    "Opcional: Tutorial\n",
    "\n",
    "Otra cosa curiosa que valdría la pena analizar, es que los \"Main Screan Appear\" son menores al número de usuarios que tenemos, por lo que puede que algunos se hayan quedado en el tutorial.\n"
   ]
  },
  {
   "cell_type": "markdown",
   "id": "bc4f108d",
   "metadata": {},
   "source": [
    "## Proporción de usuarios que pasaron de etapa A a B a C sucesivamente"
   ]
  },
  {
   "cell_type": "code",
   "execution_count": 12,
   "id": "57ea7a70",
   "metadata": {},
   "outputs": [
    {
     "name": "stdout",
     "output_type": "stream",
     "text": [
      "Proporción de usuarios del paso 1 al paso 2: 0.62\n",
      "Proporción de usuarios del paso 2 al paso 3: 0.81\n",
      "Proporción de usuarios del paso 3 al paso 4: 0.95\n",
      "Proporción de usuarios del paso 1 al paso 4: 0.48\n"
     ]
    }
   ],
   "source": [
    "users_step_1 = events_filtered[events_filtered['event_name'] == 'MainScreenAppear']['user_id'].nunique()\n",
    "users_step_2 = events_filtered[events_filtered['event_name'] == 'OffersScreenAppear']['user_id'].nunique()\n",
    "users_step_3 = events_filtered[events_filtered['event_name'] == 'CartScreenAppear']['user_id'].nunique()\n",
    "users_step_4 = events_filtered[events_filtered['event_name'] == 'PaymentScreenSuccessful']['user_id'].nunique()\n",
    "\n",
    "proporcion_s1_s2 = users_step_2 / users_step_1\n",
    "proporcion_s2_s3 = users_step_3 / users_step_2\n",
    "proporcion_s3_s4 = users_step_4 / users_step_3\n",
    "proporcion_s1_s4 = users_step_4 / users_step_1\n",
    "\n",
    "print(f\"Proporción de usuarios del paso 1 al paso 2: {proporcion_s1_s2:.2f}\")\n",
    "print(f\"Proporción de usuarios del paso 2 al paso 3: {proporcion_s2_s3:.2f}\")\n",
    "print(f\"Proporción de usuarios del paso 3 al paso 4: {proporcion_s3_s4:.2f}\")\n",
    "print(f\"Proporción de usuarios del paso 1 al paso 4: {proporcion_s1_s4:.2f}\")"
   ]
  },
  {
   "cell_type": "markdown",
   "id": "bf3bb6f3",
   "metadata": {},
   "source": [
    "## Etapa en la que se pierden más usuarios y Porcentaje de usuarios que hacen su viaje de principio a fin\n",
    "\n",
    "Lo que podemos ver es que en la etapa que pierde más usuarios es del paso 1 al 2 proporcionalmente, y totalmente.\n",
    "\n",
    "Podemos ver que realmente casi el 50% de los usuarios que entran compran, lo que son datos muy buenos, valdría la pena ver los datos de rentabilidad con el margen.\n",
    "\n",
    "# Estudio de los resultados\n",
    "\n",
    "## Cuantos usuarios hay en cada grupo"
   ]
  },
  {
   "cell_type": "code",
   "execution_count": 13,
   "id": "049fac63",
   "metadata": {},
   "outputs": [
    {
     "name": "stdout",
     "output_type": "stream",
     "text": [
      "  group  user_count\n",
      "0    A1        2484\n",
      "1    A2        2513\n",
      "2     B        2537\n"
     ]
    }
   ],
   "source": [
    "user_per_group = events_filtered.groupby('group')['user_id'].nunique()\n",
    "user_per_group = user_per_group.reset_index()\n",
    "user_per_group.columns = ['group', 'user_count']\n",
    "print(user_per_group)"
   ]
  },
  {
   "cell_type": "markdown",
   "id": "22783207",
   "metadata": {},
   "source": [
    "## Revisión de diferencia estadística entre grupo A1 y A2"
   ]
  },
  {
   "cell_type": "code",
   "execution_count": 14,
   "id": "443c4655",
   "metadata": {},
   "outputs": [],
   "source": [
    "a1 = events_filtered[events_filtered['group'] == 'A1']\n",
    "a2 = events_filtered[events_filtered['group'] == 'A2']\n"
   ]
  },
  {
   "cell_type": "markdown",
   "id": "2b7ccce5",
   "metadata": {},
   "source": [
    "## Evento más popular por grupo de control\n",
    "\n",
    "### Cantidad de usuarios que lo realizaron y proporción "
   ]
  },
  {
   "cell_type": "code",
   "execution_count": 15,
   "id": "d5d3ac17",
   "metadata": {},
   "outputs": [
    {
     "data": {
      "text/plain": [
       "([0, 1, 2, 3, 4],\n",
       " [Text(0, 0, 'MainScreenAppear'),\n",
       "  Text(1, 0, 'OffersScreenAppear'),\n",
       "  Text(2, 0, 'CartScreenAppear'),\n",
       "  Text(3, 0, 'PaymentScreenSuccessful'),\n",
       "  Text(4, 0, 'Tutorial')])"
      ]
     },
     "execution_count": 15,
     "metadata": {},
     "output_type": "execute_result"
    },
    {
     "data": {
      "image/png": "[encoded data removed]",
      "text/plain": [
       "<Figure size 640x480 with 1 Axes>"
      ]
     },
     "metadata": {},
     "output_type": "display_data"
    }
   ],
   "source": [
    "frec_a1 = a1['event_name'].value_counts()\n",
    "frec_a1 = frec_a1.sort_values(ascending=False)\n",
    "sns.barplot(x=frecuencias.index, y=frecuencias.values)\n",
    "plt.xticks(rotation=90)"
   ]
  },
  {
   "cell_type": "code",
   "execution_count": 16,
   "id": "6b307f94",
   "metadata": {},
   "outputs": [
    {
     "data": {
      "text/plain": [
       "([0, 1, 2, 3, 4],\n",
       " [Text(0, 0, 'MainScreenAppear'),\n",
       "  Text(1, 0, 'OffersScreenAppear'),\n",
       "  Text(2, 0, 'CartScreenAppear'),\n",
       "  Text(3, 0, 'PaymentScreenSuccessful'),\n",
       "  Text(4, 0, 'Tutorial')])"
      ]
     },
     "execution_count": 16,
     "metadata": {},
     "output_type": "execute_result"
    },
    {
     "data": {
      "image/png": "[encoded data removed]",
      "text/plain": [
       "<Figure size 640x480 with 1 Axes>"
      ]
     },
     "metadata": {},
     "output_type": "display_data"
    }
   ],
   "source": [
    "frec_a2 = a2['event_name'].value_counts()\n",
    "frec_a2 = frec_a1.sort_values(ascending=False)\n",
    "sns.barplot(x=frecuencias.index, y=frecuencias.values)\n",
    "plt.xticks(rotation=90)"
   ]
  },
  {
   "cell_type": "markdown",
   "id": "9842546d",
   "metadata": {},
   "source": [
    "## Comprobación de diferencia estadística en los grupos\n",
    "\n",
    "### ¿Se puede confirmar que los grupos se dividieron correctamente?"
   ]
  },
  {
   "cell_type": "code",
   "execution_count": 20,
   "id": "a60cc66e",
   "metadata": {},
   "outputs": [
    {
     "name": "stdout",
     "output_type": "stream",
     "text": [
      "1.000\n"
     ]
    }
   ],
   "source": [
    "print('{0:.3f}'.format(stats.mannwhitneyu(frec_a1, frec_a2, alternative='two-sided').pvalue))"
   ]
  },
  {
   "cell_type": "markdown",
   "id": "083d2676",
   "metadata": {},
   "source": [
    "## Evento más popular de grupo B comparado con A\n",
    "\n",
    "### Cantidad de usuarios que lo realizaron y proporción"
   ]
  },
  {
   "cell_type": "code",
   "execution_count": 18,
   "id": "30a11666",
   "metadata": {},
   "outputs": [
    {
     "data": {
      "text/plain": [
       "([0, 1, 2, 3, 4],\n",
       " [Text(0, 0, 'MainScreenAppear'),\n",
       "  Text(1, 0, 'OffersScreenAppear'),\n",
       "  Text(2, 0, 'CartScreenAppear'),\n",
       "  Text(3, 0, 'PaymentScreenSuccessful'),\n",
       "  Text(4, 0, 'Tutorial')])"
      ]
     },
     "execution_count": 18,
     "metadata": {},
     "output_type": "execute_result"
    },
    {
     "data": {
      "image/png": "[encoded data removed]",
      "text/plain": [
       "<Figure size 640x480 with 1 Axes>"
      ]
     },
     "metadata": {},
     "output_type": "display_data"
    }
   ],
   "source": [
    "b = events_filtered[events_filtered['group'] == 'B']\n",
    "frec_b = b['event_name'].value_counts()\n",
    "frec_b = frec_a1.sort_values(ascending=False)\n",
    "sns.barplot(x=frecuencias.index, y=frecuencias.values)\n",
    "plt.xticks(rotation=90)"
   ]
  },
  {
   "cell_type": "markdown",
   "id": "69cb8a8d",
   "metadata": {},
   "source": [
    "## Comprobación de diferencia estadística en los grupos A y B"
   ]
  },
  {
   "cell_type": "code",
   "execution_count": 21,
   "id": "c23de831",
   "metadata": {},
   "outputs": [
    {
     "name": "stdout",
     "output_type": "stream",
     "text": [
      "1.000\n"
     ]
    }
   ],
   "source": [
    "print('{0:.3f}'.format(stats.mannwhitneyu(frec_a1, frec_b, alternative='two-sided').pvalue))"
   ]
  },
  {
   "cell_type": "markdown",
   "id": "341eb748",
   "metadata": {},
   "source": [
    "#### Conclusiones generales del experimento\n",
    "\n",
    "Las pruebas muestran que aunque se haya hecho algo diferente con el grupo B no hay ninguna evidencia para creer que el gurpo tuvo algún cambio de comportamiento, esto se puede deber a dos cosas, el hecho de que apenas lleve una semana el experimetno, o que verdaderamente no tenga ningún efecto a los datos el cambio realizado.\n",
    "\n",
    "Personalmente, si la diferencia es tan poca seguiría el experimento una o dos semanas más, y revisaría si verdaderamente no hay cambios significativos, ya que hay momentos en los que se puede ver que por un experimento tan corto har realmente poca diferencia.\n",
    "\n",
    "### Repetición de las pruebas anteriores pero con nivel de significancia 0.1\n",
    "\n",
    "Dado que el valor p es 1 no vale la pena que hagamos la prueba con 0.1 sabiendo que la respuesta es que estadisticamente son practicamente iguales."
   ]
  }
 ],
 "metadata": {
  "kernelspec": {
   "display_name": "Python 3",
   "language": "python",
   "name": "python3"
  },
  "language_info": {
   "codemirror_mode": {
    "name": "ipython",
    "version": 3
   },
   "file_extension": ".py",
   "mimetype": "text/x-python",
   "name": "python",
   "nbconvert_exporter": "python",
   "pygments_lexer": "ipython3",
   "version": "3.13.2"
  }
 },
 "nbformat": 4,
 "nbformat_minor": 5
}
